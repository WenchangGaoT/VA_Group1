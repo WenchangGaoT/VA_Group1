{
  "nbformat": 4,
  "nbformat_minor": 0,
  "metadata": {
    "colab": {
      "provenance": [],
      "authorship_tag": "ABX9TyNUQ3KxASOPDsAqJvaiqWxp",
      "include_colab_link": true
    },
    "kernelspec": {
      "name": "python3",
      "display_name": "Python 3"
    },
    "language_info": {
      "name": "python"
    },
    "gpuClass": "standard"
  },
  "cells": [
    {
      "cell_type": "markdown",
      "metadata": {
        "id": "view-in-github",
        "colab_type": "text"
      },
      "source": [
        "<a href=\"https://colab.research.google.com/github/WenchangGaoT/VA_Group1/blob/main/BitMaps.ipynb\" target=\"_parent\"><img src=\"https://colab.research.google.com/assets/colab-badge.svg\" alt=\"Open In Colab\"/></a>"
      ]
    },
    {
      "cell_type": "code",
      "source": [
        "from PIL import Image"
      ],
      "metadata": {
        "id": "neNyUjqlRblO"
      },
      "execution_count": 62,
      "outputs": []
    },
    {
      "cell_type": "code",
      "source": [
        "img_bmp = Image.open('Lekagul Roadways.bmp')\n",
        "# img_jpg = Image.open('Lekagul Roadways labeled v2.jpg')"
      ],
      "metadata": {
        "id": "AfcGBeRYTLvk"
      },
      "execution_count": null,
      "outputs": []
    },
    {
      "cell_type": "code",
      "source": [
        "import numpy as np"
      ],
      "metadata": {
        "id": "7eBfI3W7TUFZ"
      },
      "execution_count": 63,
      "outputs": []
    },
    {
      "cell_type": "code",
      "source": [
        "img_bmp = np.array(img_bmp)\n",
        "station_map = {}\n",
        "for i in img_bmp:\n",
        "  for j in i: \n",
        "    if j != 0 and j != 35: station_map.update({j: 'New Node'})\n",
        "print(len(station_map))"
      ],
      "metadata": {
        "colab": {
          "base_uri": "https://localhost:8080/"
        },
        "id": "vPMZFL_xTfua",
        "outputId": "6c6130d5-1183-461a-b2b3-8ec79e696cc9"
      },
      "execution_count": null,
      "outputs": [
        {
          "output_type": "stream",
          "name": "stdout",
          "text": [
            "34\n"
          ]
        }
      ]
    },
    {
      "cell_type": "code",
      "source": [
        "coordinate_dict = {}\n",
        "entrances, general_gates, ranger_stops, gates, campings, ranger_bases = 0, 0, 0, 0, 0, 0\n",
        "shape_x, shape_y = img_bmp.shape\n",
        "histo = np.zeros((255,), dtype=np.int32)\n",
        "bmp_list = []\n",
        "print(img_bmp.dtype)\n",
        "for x in range(shape_x):\n",
        "  for y in range(shape_y):\n",
        "    histo[img_bmp[x, y]] += 1\n",
        "for i in range(1, 255):\n",
        "  if histo[i] > 0 and i != 35:\n",
        "    print(i, histo[i])\n",
        "    bmp_np = np.ones_like(img_bmp, dtype=np.uint8)*i \n",
        "    img_temp = Image.fromarray(bmp_np)\n",
        "    img_temp.save('%d.bmp' % i)\n",
        "    # bmp_list\n",
        "\n",
        "\n"
      ],
      "metadata": {
        "colab": {
          "base_uri": "https://localhost:8080/",
          "height": 365
        },
        "id": "sfxbpFXfVQFI",
        "outputId": "ffa1b0e0-01e0-4729-e130-2b562281ffbe"
      },
      "execution_count": null,
      "outputs": [
        {
          "output_type": "error",
          "ename": "AttributeError",
          "evalue": "ignored",
          "traceback": [
            "\u001b[0;31m---------------------------------------------------------------------------\u001b[0m",
            "\u001b[0;31mAttributeError\u001b[0m                            Traceback (most recent call last)",
            "\u001b[0;32m<ipython-input-4-3a61d5a2e9f4>\u001b[0m in \u001b[0;36m<cell line: 3>\u001b[0;34m()\u001b[0m\n\u001b[1;32m      1\u001b[0m \u001b[0mcoordinate_dict\u001b[0m \u001b[0;34m=\u001b[0m \u001b[0;34m{\u001b[0m\u001b[0;34m}\u001b[0m\u001b[0;34m\u001b[0m\u001b[0;34m\u001b[0m\u001b[0m\n\u001b[1;32m      2\u001b[0m \u001b[0mentrances\u001b[0m\u001b[0;34m,\u001b[0m \u001b[0mgeneral_gates\u001b[0m\u001b[0;34m,\u001b[0m \u001b[0mranger_stops\u001b[0m\u001b[0;34m,\u001b[0m \u001b[0mgates\u001b[0m\u001b[0;34m,\u001b[0m \u001b[0mcampings\u001b[0m\u001b[0;34m,\u001b[0m \u001b[0mranger_bases\u001b[0m \u001b[0;34m=\u001b[0m \u001b[0;36m0\u001b[0m\u001b[0;34m,\u001b[0m \u001b[0;36m0\u001b[0m\u001b[0;34m,\u001b[0m \u001b[0;36m0\u001b[0m\u001b[0;34m,\u001b[0m \u001b[0;36m0\u001b[0m\u001b[0;34m,\u001b[0m \u001b[0;36m0\u001b[0m\u001b[0;34m,\u001b[0m \u001b[0;36m0\u001b[0m\u001b[0;34m\u001b[0m\u001b[0;34m\u001b[0m\u001b[0m\n\u001b[0;32m----> 3\u001b[0;31m \u001b[0mshape_x\u001b[0m\u001b[0;34m,\u001b[0m \u001b[0mshape_y\u001b[0m \u001b[0;34m=\u001b[0m \u001b[0mimg_bmp\u001b[0m\u001b[0;34m.\u001b[0m\u001b[0mshape\u001b[0m\u001b[0;34m\u001b[0m\u001b[0;34m\u001b[0m\u001b[0m\n\u001b[0m\u001b[1;32m      4\u001b[0m \u001b[0mhisto\u001b[0m \u001b[0;34m=\u001b[0m \u001b[0mnp\u001b[0m\u001b[0;34m.\u001b[0m\u001b[0mzeros\u001b[0m\u001b[0;34m(\u001b[0m\u001b[0;34m(\u001b[0m\u001b[0;36m255\u001b[0m\u001b[0;34m,\u001b[0m\u001b[0;34m)\u001b[0m\u001b[0;34m,\u001b[0m \u001b[0mdtype\u001b[0m\u001b[0;34m=\u001b[0m\u001b[0mnp\u001b[0m\u001b[0;34m.\u001b[0m\u001b[0mint32\u001b[0m\u001b[0;34m)\u001b[0m\u001b[0;34m\u001b[0m\u001b[0;34m\u001b[0m\u001b[0m\n\u001b[1;32m      5\u001b[0m \u001b[0mbmp_list\u001b[0m \u001b[0;34m=\u001b[0m \u001b[0;34m[\u001b[0m\u001b[0;34m]\u001b[0m\u001b[0;34m\u001b[0m\u001b[0;34m\u001b[0m\u001b[0m\n",
            "\u001b[0;32m/usr/local/lib/python3.9/dist-packages/PIL/Image.py\u001b[0m in \u001b[0;36m__getattr__\u001b[0;34m(self, name)\u001b[0m\n\u001b[1;32m    544\u001b[0m             )\n\u001b[1;32m    545\u001b[0m             \u001b[0;32mreturn\u001b[0m \u001b[0mself\u001b[0m\u001b[0;34m.\u001b[0m\u001b[0m_category\u001b[0m\u001b[0;34m\u001b[0m\u001b[0;34m\u001b[0m\u001b[0m\n\u001b[0;32m--> 546\u001b[0;31m         \u001b[0;32mraise\u001b[0m \u001b[0mAttributeError\u001b[0m\u001b[0;34m(\u001b[0m\u001b[0mname\u001b[0m\u001b[0;34m)\u001b[0m\u001b[0;34m\u001b[0m\u001b[0;34m\u001b[0m\u001b[0m\n\u001b[0m\u001b[1;32m    547\u001b[0m \u001b[0;34m\u001b[0m\u001b[0m\n\u001b[1;32m    548\u001b[0m     \u001b[0;34m@\u001b[0m\u001b[0mproperty\u001b[0m\u001b[0;34m\u001b[0m\u001b[0;34m\u001b[0m\u001b[0m\n",
            "\u001b[0;31mAttributeError\u001b[0m: shape"
          ]
        }
      ]
    },
    {
      "cell_type": "code",
      "source": [
        "bmp_34 = Image.open('24.bmp')\n",
        "bmp_34.show()\n",
        "img_bmp = Image.open('Lekagul Roadways.bmp', info=1)\n",
        "img_bmp.show()\n",
        "# print(bmp_8)"
      ],
      "metadata": {
        "id": "nGg3wehKW98_",
        "colab": {
          "base_uri": "https://localhost:8080/",
          "height": 476
        },
        "outputId": "a20f9237-bb5a-4b94-94a8-8ffdfa48195e"
      },
      "execution_count": null,
      "outputs": [
        {
          "output_type": "display_data",
          "data": {
            "text/plain": [
              "<PIL.BmpImagePlugin.BmpImageFile image mode=L size=200x200 at 0x7FDE842F1CD0>"
            ],
            "image/png": "[encoded data removed]"
          },
          "metadata": {}
        },
        {
          "output_type": "error",
          "ename": "TypeError",
          "evalue": "ignored",
          "traceback": [
            "\u001b[0;31m---------------------------------------------------------------------------\u001b[0m",
            "\u001b[0;31mTypeError\u001b[0m                                 Traceback (most recent call last)",
            "\u001b[0;32m<ipython-input-27-e65ca8f1bd42>\u001b[0m in \u001b[0;36m<cell line: 3>\u001b[0;34m()\u001b[0m\n\u001b[1;32m      1\u001b[0m \u001b[0mbmp_34\u001b[0m \u001b[0;34m=\u001b[0m \u001b[0mImage\u001b[0m\u001b[0;34m.\u001b[0m\u001b[0mopen\u001b[0m\u001b[0;34m(\u001b[0m\u001b[0;34m'24.bmp'\u001b[0m\u001b[0;34m)\u001b[0m\u001b[0;34m\u001b[0m\u001b[0;34m\u001b[0m\u001b[0m\n\u001b[1;32m      2\u001b[0m \u001b[0mbmp_34\u001b[0m\u001b[0;34m.\u001b[0m\u001b[0mshow\u001b[0m\u001b[0;34m(\u001b[0m\u001b[0;34m)\u001b[0m\u001b[0;34m\u001b[0m\u001b[0;34m\u001b[0m\u001b[0m\n\u001b[0;32m----> 3\u001b[0;31m \u001b[0mimg_bmp\u001b[0m \u001b[0;34m=\u001b[0m \u001b[0mImage\u001b[0m\u001b[0;34m.\u001b[0m\u001b[0mopen\u001b[0m\u001b[0;34m(\u001b[0m\u001b[0;34m'Lekagul Roadways.bmp'\u001b[0m\u001b[0;34m,\u001b[0m \u001b[0minfo\u001b[0m\u001b[0;34m=\u001b[0m\u001b[0;36m1\u001b[0m\u001b[0;34m)\u001b[0m\u001b[0;34m\u001b[0m\u001b[0;34m\u001b[0m\u001b[0m\n\u001b[0m\u001b[1;32m      4\u001b[0m \u001b[0mimg_bmp\u001b[0m\u001b[0;34m.\u001b[0m\u001b[0mshow\u001b[0m\u001b[0;34m(\u001b[0m\u001b[0;34m)\u001b[0m\u001b[0;34m\u001b[0m\u001b[0;34m\u001b[0m\u001b[0m\n\u001b[1;32m      5\u001b[0m \u001b[0;31m# print(bmp_8)\u001b[0m\u001b[0;34m\u001b[0m\u001b[0;34m\u001b[0m\u001b[0m\n",
            "\u001b[0;31mTypeError\u001b[0m: open() got an unexpected keyword argument 'info'"
          ]
        }
      ]
    },
    {
      "cell_type": "code",
      "source": [
        "img_np = np.array(img_bmp)\n",
        "histo = np.zeros((255), dtype=np.int32)\n",
        "for i in range(200):\n",
        "  for j in range(200):\n",
        "    if histo[img_np[i, j]] == 0:\n",
        "      img_temp_np = np.ones_like(img_np)*i \n",
        "      img_temp_bmp = Image.fromarray(img_temp_np)\n",
        "      img_temp_bmp.save('%d.bmp' % img_np[i, j])\n",
        "    histo[img_np[i, j]] += 1"
      ],
      "metadata": {
        "id": "hIQJhHpgv7AL"
      },
      "execution_count": null,
      "outputs": []
    },
    {
      "cell_type": "code",
      "source": [
        "for i in range(36):\n",
        "  temp = Image.open('%d.bmp' % i)\n",
        "  temp.show()\n",
        "  print(i)"
      ],
      "metadata": {
        "id": "nD8KPwPD0JC0",
        "colab": {
          "base_uri": "https://localhost:8080/",
          "height": 1000
        },
        "outputId": "f90026e3-4ac4-4ff8-eac4-f5347f1ab693"
      },
      "execution_count": null,
      "outputs": [
        {
          "output_type": "display_data",
          "data": {
            "text/plain": [
              "<PIL.BmpImagePlugin.BmpImageFile image mode=L size=200x200 at 0x7F2C1830EBB0>"
            ],
            "image/png": "[encoded data removed]"
          },
          "metadata": {}
        },
        {
          "output_type": "stream",
          "name": "stdout",
          "text": [
            "0\n"
          ]
        },
        {
          "output_type": "display_data",
          "data": {
            "text/plain": [
              "<PIL.BmpImagePlugin.BmpImageFile image mode=L size=200x200 at 0x7F2C18D99610>"
            ],
            "image/png": "[encoded data removed]"
          },
          "metadata": {}
        },
        {
          "output_type": "stream",
          "name": "stdout",
          "text": [
            "1\n"
          ]
        },
        {
          "output_type": "display_data",
          "data": {
            "text/plain": [
              "<PIL.BmpImagePlugin.BmpImageFile image mode=L size=200x200 at 0x7F2C1829D2E0>"
            ],
            "image/png": "[encoded data removed]"
          },
          "metadata": {}
        },
        {
          "output_type": "stream",
          "name": "stdout",
          "text": [
            "2\n"
          ]
        },
        {
          "output_type": "display_data",
          "data": {
            "text/plain": [
              "<PIL.BmpImagePlugin.BmpImageFile image mode=L size=200x200 at 0x7F2C1829DE80>"
            ],
            "image/png": "[encoded data removed]"
          },
          "metadata": {}
        },
        {
          "output_type": "stream",
          "name": "stdout",
          "text": [
            "3\n"
          ]
        },
        {
          "output_type": "display_data",
          "data": {
            "text/plain": [
              "<PIL.BmpImagePlugin.BmpImageFile image mode=L size=200x200 at 0x7F2C1829DDC0>"
            ],
            "image/png": "[encoded data removed]"
          },
          "metadata": {}
        },
        {
          "output_type": "stream",
          "name": "stdout",
          "text": [
            "4\n"
          ]
        },
        {
          "output_type": "display_data",
          "data": {
            "text/plain": [
              "<PIL.BmpImagePlugin.BmpImageFile image mode=L size=200x200 at 0x7F2C1829D2E0>"
            ],
            "image/png": "[encoded data removed]"
          },
          "metadata": {}
        },
        {
          "output_type": "stream",
          "name": "stdout",
          "text": [
            "5\n"
          ]
        },
        {
          "output_type": "display_data",
          "data": {
            "text/plain": [
              "<PIL.BmpImagePlugin.BmpImageFile image mode=L size=200x200 at 0x7F2C1829DE80>"
            ],
            "image/png": "[encoded data removed]"
          },
          "metadata": {}
        },
        {
          "output_type": "stream",
          "name": "stdout",
          "text": [
            "6\n"
          ]
        },
        {
          "output_type": "display_data",
          "data": {
            "text/plain": [
              "<PIL.BmpImagePlugin.BmpImageFile image mode=L size=200x200 at 0x7F2C1829DEB0>"
            ],
            "image/png": "[encoded data removed]"
          },
          "metadata": {}
        },
        {
          "output_type": "stream",
          "name": "stdout",
          "text": [
            "7\n"
          ]
        },
        {
          "output_type": "display_data",
          "data": {
            "text/plain": [
              "<PIL.BmpImagePlugin.BmpImageFile image mode=L size=200x200 at 0x7F2C1829D2E0>"
            ],
            "image/png": "[encoded data removed]"
          },
          "metadata": {}
        },
        {
          "output_type": "stream",
          "name": "stdout",
          "text": [
            "8\n"
          ]
        },
        {
          "output_type": "display_data",
          "data": {
            "text/plain": [
              "<PIL.BmpImagePlugin.BmpImageFile image mode=L size=200x200 at 0x7F2C1829DF10>"
            ],
            "image/png": "[encoded data removed]"
          },
          "metadata": {}
        },
        {
          "output_type": "stream",
          "name": "stdout",
          "text": [
            "9\n"
          ]
        },
        {
          "output_type": "display_data",
          "data": {
            "text/plain": [
              "<PIL.BmpImagePlugin.BmpImageFile image mode=L size=200x200 at 0x7F2C1829DEB0>"
            ],
            "image/png": "[encoded data removed]"
          },
          "metadata": {}
        },
        {
          "output_type": "stream",
          "name": "stdout",
          "text": [
            "10\n"
          ]
        },
        {
          "output_type": "display_data",
          "data": {
            "text/plain": [
              "<PIL.BmpImagePlugin.BmpImageFile image mode=L size=200x200 at 0x7F2C1829D430>"
            ],
            "image/png": "[encoded data removed]"
          },
          "metadata": {}
        },
        {
          "output_type": "stream",
          "name": "stdout",
          "text": [
            "11\n"
          ]
        },
        {
          "output_type": "display_data",
          "data": {
            "text/plain": [
              "<PIL.BmpImagePlugin.BmpImageFile image mode=L size=200x200 at 0x7F2C1829DF10>"
            ],
            "image/png": "[encoded data removed]"
          },
          "metadata": {}
        },
        {
          "output_type": "stream",
          "name": "stdout",
          "text": [
            "12\n"
          ]
        },
        {
          "output_type": "display_data",
          "data": {
            "text/plain": [
              "<PIL.BmpImagePlugin.BmpImageFile image mode=L size=200x200 at 0x7F2C1829D460>"
            ],
            "image/png": "[encoded data removed]"
          },
          "metadata": {}
        },
        {
          "output_type": "stream",
          "name": "stdout",
          "text": [
            "13\n"
          ]
        },
        {
          "output_type": "display_data",
          "data": {
            "text/plain": [
              "<PIL.BmpImagePlugin.BmpImageFile image mode=L size=200x200 at 0x7F2C1829FAF0>"
            ],
            "image/png": "[encoded data removed]"
          },
          "metadata": {}
        },
        {
          "output_type": "stream",
          "name": "stdout",
          "text": [
            "14\n"
          ]
        },
        {
          "output_type": "display_data",
          "data": {
            "text/plain": [
              "<PIL.BmpImagePlugin.BmpImageFile image mode=L size=200x200 at 0x7F2C1829F1F0>"
            ],
            "image/png": "[encoded data removed]"
          },
          "metadata": {}
        },
        {
          "output_type": "stream",
          "name": "stdout",
          "text": [
            "15\n"
          ]
        },
        {
          "output_type": "display_data",
          "data": {
            "text/plain": [
              "<PIL.BmpImagePlugin.BmpImageFile image mode=L size=200x200 at 0x7F2C1829FF10>"
            ],
            "image/png": "[encoded data removed]"
          },
          "metadata": {}
        },
        {
          "output_type": "stream",
          "name": "stdout",
          "text": [
            "16\n"
          ]
        },
        {
          "output_type": "display_data",
          "data": {
            "text/plain": [
              "<PIL.BmpImagePlugin.BmpImageFile image mode=L size=200x200 at 0x7F2C1829FF70>"
            ],
            "image/png": "[encoded data removed]"
          },
          "metadata": {}
        },
        {
          "output_type": "stream",
          "name": "stdout",
          "text": [
            "17\n"
          ]
        },
        {
          "output_type": "display_data",
          "data": {
            "text/plain": [
              "<PIL.BmpImagePlugin.BmpImageFile image mode=L size=200x200 at 0x7F2C1829FAF0>"
            ],
            "image/png": "[encoded data removed]"
          },
          "metadata": {}
        },
        {
          "output_type": "stream",
          "name": "stdout",
          "text": [
            "18\n"
          ]
        },
        {
          "output_type": "display_data",
          "data": {
            "text/plain": [
              "<PIL.BmpImagePlugin.BmpImageFile image mode=L size=200x200 at 0x7F2C1829FA60>"
            ],
            "image/png": "[encoded data removed]"
          },
          "metadata": {}
        },
        {
          "output_type": "stream",
          "name": "stdout",
          "text": [
            "19\n"
          ]
        },
        {
          "output_type": "display_data",
          "data": {
            "text/plain": [
              "<PIL.BmpImagePlugin.BmpImageFile image mode=L size=200x200 at 0x7F2C1829F1F0>"
            ],
            "image/png": "[encoded data removed]"
          },
          "metadata": {}
        },
        {
          "output_type": "stream",
          "name": "stdout",
          "text": [
            "20\n"
          ]
        },
        {
          "output_type": "display_data",
          "data": {
            "text/plain": [
              "<PIL.BmpImagePlugin.BmpImageFile image mode=L size=200x200 at 0x7F2C1829FD30>"
            ],
            "image/png": "[encoded data removed]"
          },
          "metadata": {}
        },
        {
          "output_type": "stream",
          "name": "stdout",
          "text": [
            "21\n"
          ]
        },
        {
          "output_type": "display_data",
          "data": {
            "text/plain": [
              "<PIL.BmpImagePlugin.BmpImageFile image mode=L size=200x200 at 0x7F2C1829FAF0>"
            ],
            "image/png": "[encoded data removed]"
          },
          "metadata": {}
        },
        {
          "output_type": "stream",
          "name": "stdout",
          "text": [
            "22\n"
          ]
        },
        {
          "output_type": "display_data",
          "data": {
            "text/plain": [
              "<PIL.BmpImagePlugin.BmpImageFile image mode=L size=200x200 at 0x7F2C1829FF10>"
            ],
            "image/png": "[encoded data removed]"
          },
          "metadata": {}
        },
        {
          "output_type": "stream",
          "name": "stdout",
          "text": [
            "23\n"
          ]
        },
        {
          "output_type": "display_data",
          "data": {
            "text/plain": [
              "<PIL.BmpImagePlugin.BmpImageFile image mode=L size=200x200 at 0x7F2C1829FA30>"
            ],
            "image/png": "[encoded data removed]"
          },
          "metadata": {}
        },
        {
          "output_type": "stream",
          "name": "stdout",
          "text": [
            "24\n"
          ]
        },
        {
          "output_type": "display_data",
          "data": {
            "text/plain": [
              "<PIL.BmpImagePlugin.BmpImageFile image mode=L size=200x200 at 0x7F2C1829F1F0>"
            ],
            "image/png": "[encoded data removed]"
          },
          "metadata": {}
        },
        {
          "output_type": "stream",
          "name": "stdout",
          "text": [
            "25\n"
          ]
        },
        {
          "output_type": "display_data",
          "data": {
            "text/plain": [
              "<PIL.BmpImagePlugin.BmpImageFile image mode=L size=200x200 at 0x7F2C1829FAF0>"
            ],
            "image/png": "[encoded data removed]"
          },
          "metadata": {}
        },
        {
          "output_type": "stream",
          "name": "stdout",
          "text": [
            "26\n"
          ]
        },
        {
          "output_type": "display_data",
          "data": {
            "text/plain": [
              "<PIL.BmpImagePlugin.BmpImageFile image mode=L size=200x200 at 0x7F2C1829FD30>"
            ],
            "image/png": "[encoded data removed]"
          },
          "metadata": {}
        },
        {
          "output_type": "stream",
          "name": "stdout",
          "text": [
            "27\n"
          ]
        },
        {
          "output_type": "display_data",
          "data": {
            "text/plain": [
              "<PIL.BmpImagePlugin.BmpImageFile image mode=L size=200x200 at 0x7F2C1829F9D0>"
            ],
            "image/png": "[encoded data removed]"
          },
          "metadata": {}
        },
        {
          "output_type": "stream",
          "name": "stdout",
          "text": [
            "28\n"
          ]
        },
        {
          "output_type": "display_data",
          "data": {
            "text/plain": [
              "<PIL.BmpImagePlugin.BmpImageFile image mode=L size=200x200 at 0x7F2C1829FA30>"
            ],
            "image/png": "[encoded data removed]"
          },
          "metadata": {}
        },
        {
          "output_type": "stream",
          "name": "stdout",
          "text": [
            "29\n"
          ]
        },
        {
          "output_type": "display_data",
          "data": {
            "text/plain": [
              "<PIL.BmpImagePlugin.BmpImageFile image mode=L size=200x200 at 0x7F2C1829F970>"
            ],
            "image/png": "[encoded data removed]"
          },
          "metadata": {}
        },
        {
          "output_type": "stream",
          "name": "stdout",
          "text": [
            "30\n"
          ]
        },
        {
          "output_type": "display_data",
          "data": {
            "text/plain": [
              "<PIL.BmpImagePlugin.BmpImageFile image mode=L size=200x200 at 0x7F2C1829FD30>"
            ],
            "image/png": "[encoded data removed]"
          },
          "metadata": {}
        },
        {
          "output_type": "stream",
          "name": "stdout",
          "text": [
            "31\n"
          ]
        },
        {
          "output_type": "display_data",
          "data": {
            "text/plain": [
              "<PIL.BmpImagePlugin.BmpImageFile image mode=L size=200x200 at 0x7F2C1829F1F0>"
            ],
            "image/png": "[encoded data removed]"
          },
          "metadata": {}
        },
        {
          "output_type": "stream",
          "name": "stdout",
          "text": [
            "32\n"
          ]
        },
        {
          "output_type": "display_data",
          "data": {
            "text/plain": [
              "<PIL.BmpImagePlugin.BmpImageFile image mode=L size=200x200 at 0x7F2C1829FA30>"
            ],
            "image/png": "[encoded data removed]"
          },
          "metadata": {}
        },
        {
          "output_type": "stream",
          "name": "stdout",
          "text": [
            "33\n"
          ]
        },
        {
          "output_type": "display_data",
          "data": {
            "text/plain": [
              "<PIL.BmpImagePlugin.BmpImageFile image mode=L size=200x200 at 0x7F2C1829F970>"
            ],
            "image/png": "[encoded data removed]"
          },
          "metadata": {}
        },
        {
          "output_type": "stream",
          "name": "stdout",
          "text": [
            "34\n"
          ]
        },
        {
          "output_type": "display_data",
          "data": {
            "text/plain": [
              "<PIL.BmpImagePlugin.BmpImageFile image mode=L size=200x200 at 0x7F2C1829FD30>"
            ],
            "image/png": "[encoded data removed]"
          },
          "metadata": {}
        },
        {
          "output_type": "stream",
          "name": "stdout",
          "text": [
            "35\n"
          ]
        }
      ]
    },
    {
      "cell_type": "code",
      "source": [
        "fig = Image.fromarray(img_np)\n",
        "fig.show()"
      ],
      "metadata": {
        "colab": {
          "base_uri": "https://localhost:8080/",
          "height": 217
        },
        "id": "AxDoJ9Tv0dXZ",
        "outputId": "75947de1-f23f-4169-fea3-49757a5a8e5f"
      },
      "execution_count": null,
      "outputs": [
        {
          "output_type": "display_data",
          "data": {
            "text/plain": [
              "<PIL.Image.Image image mode=L size=200x200 at 0x7F2C1830EA30>"
            ],
            "image/png": "[encoded data removed]"
          },
          "metadata": {}
        }
      ]
    },
    {
      "cell_type": "code",
      "source": [
        "fig = Image.open('Lekagul Roadways.bmp')\n",
        "fig_rgb = fig.convert('RGB')\n",
        "fig_rgb.show()"
      ],
      "metadata": {
        "colab": {
          "base_uri": "https://localhost:8080/",
          "height": 217
        },
        "id": "PEiw53gnIZqo",
        "outputId": "028a8d44-93a1-4932-f003-364247791a7f"
      },
      "execution_count": null,
      "outputs": [
        {
          "output_type": "display_data",
          "data": {
            "text/plain": [
              "<PIL.Image.Image image mode=RGB size=200x200 at 0x7F2C1830E820>"
            ],
            "image/png": "[encoded data removed]"
          },
          "metadata": {}
        }
      ]
    },
    {
      "cell_type": "code",
      "source": [
        "fig_np = np.array(fig_rgb)\n",
        "print(fig_np.shape)\n",
        "print(fig_np.dtype)"
      ],
      "metadata": {
        "colab": {
          "base_uri": "https://localhost:8080/"
        },
        "id": "L6aY6-ojLVyn",
        "outputId": "a0ddca26-7d44-49c1-d5bb-c32227d82574"
      },
      "execution_count": null,
      "outputs": [
        {
          "output_type": "stream",
          "name": "stdout",
          "text": [
            "(200, 200, 3)\n",
            "uint8\n"
          ]
        }
      ]
    },
    {
      "cell_type": "code",
      "source": [
        "saved_tuple = {}\n",
        "for i in range(200):\n",
        "  for j in range(200):\n",
        "    cur_tuple = (fig_np[i][j][0], fig_np[i][j][1], fig_np[i][j][2])\n",
        "    if cur_tuple not in saved_tuple.keys():\n",
        "      temp = np.ones_like(fig_np, dtype=np.uint8)\n",
        "      for l in range(200):\n",
        "        for k in range(200):\n",
        "          for z in range(3):\n",
        "            temp[l, k, z] = cur_tuple[z]\n",
        "      temp_jpg = Image.fromarray(temp)\n",
        "      temp_jpg.show()\n",
        "      print('%d_%d_%d.jpg' % cur_tuple)\n",
        "      temp_jpg.save('%d_%d_%d.jpg' % cur_tuple)\n",
        "      saved_tuple[cur_tuple] = (i, j)"
      ],
      "metadata": {
        "id": "M_johA1fLjYM"
      },
      "execution_count": null,
      "outputs": []
    },
    {
      "cell_type": "code",
      "source": [
        "to_clean = [(17, 17, 17), (18, 18, 18), (16, 16, 16), (24, 24, 24), (23, 23, 23), (25, 25, 25), \n",
        "            (19, 19, 19), (1, 1, 1), (20, 20, 20), (70, 70, 70), (64, 64, 64), (21, 21, 21), \n",
        "            (6, 6, 6), (22, 22, 22), (46, 46, 46), (72, 72, 72), (67, 67, 67), (5, 5, 5), \n",
        "            (14, 14, 14), (31, 31, 31), (66, 66, 66), (68, 68, 68)]"
      ],
      "metadata": {
        "id": "RG4vCx9xP6Z-"
      },
      "execution_count": null,
      "outputs": []
    },
    {
      "cell_type": "code",
      "source": [
        "# Clean and convert the bmp into a jpg\n",
        "fig_np = np.array(Image.open('Lekagul Roadways.bmp').convert('RGB'))\n",
        "for i in range(200):\n",
        "  for j in range(200):\n",
        "    cur_tuple = fig_np[i, j, :]\n",
        "    flag = cur_tuple[0] == cur_tuple[1] and cur_tuple[1] == cur_tuple[2]\n",
        "    if flag:\n",
        "      fig_np[i, j, :] = np.ones((3), dtype=np.uint8)*255 if cur_tuple[0] > 123 \\\n",
        "                                          else np.zeros((3), dtype=np.uint8)\n",
        "cleaned_fig_np = fig_np\n",
        "cleaned_fig_jpg = Image.fromarray(cleaned_fig_np)\n",
        "cleaned_fig_jpg.show()\n",
        "cleaned_fig_jpg.save('cleaned_roadways.jpg')\n",
        "print(cleaned_fig_np)\n"
      ],
      "metadata": {
        "colab": {
          "base_uri": "https://localhost:8080/",
          "height": 1000
        },
        "id": "uhBaf6U7Q3Dd",
        "outputId": "421f469f-74a8-4eb2-d43e-ec7d04887639"
      },
      "execution_count": 4,
      "outputs": [
        {
          "output_type": "display_data",
          "data": {
            "text/plain": [
              "<PIL.Image.Image image mode=RGB size=200x200 at 0x7F7A499F8D30>"
            ],
            "image/png": "[encoded data removed]"
          },
          "metadata": {}
        },
        {
          "output_type": "stream",
          "name": "stdout",
          "text": [
            "[[[0 0 0]\n",
            "  [0 0 0]\n",
            "  [0 0 0]\n",
            "  ...\n",
            "  [0 0 0]\n",
            "  [0 0 0]\n",
            "  [0 0 0]]\n",
            "\n",
            " [[0 0 0]\n",
            "  [0 0 0]\n",
            "  [0 0 0]\n",
            "  ...\n",
            "  [0 0 0]\n",
            "  [0 0 0]\n",
            "  [0 0 0]]\n",
            "\n",
            " [[0 0 0]\n",
            "  [0 0 0]\n",
            "  [0 0 0]\n",
            "  ...\n",
            "  [0 0 0]\n",
            "  [0 0 0]\n",
            "  [0 0 0]]\n",
            "\n",
            " ...\n",
            "\n",
            " [[0 0 0]\n",
            "  [0 0 0]\n",
            "  [0 0 0]\n",
            "  ...\n",
            "  [0 0 0]\n",
            "  [0 0 0]\n",
            "  [0 0 0]]\n",
            "\n",
            " [[0 0 0]\n",
            "  [0 0 0]\n",
            "  [0 0 0]\n",
            "  ...\n",
            "  [0 0 0]\n",
            "  [0 0 0]\n",
            "  [0 0 0]]\n",
            "\n",
            " [[0 0 0]\n",
            "  [0 0 0]\n",
            "  [0 0 0]\n",
            "  ...\n",
            "  [0 0 0]\n",
            "  [0 0 0]\n",
            "  [0 0 0]]]\n"
          ]
        }
      ]
    },
    {
      "cell_type": "code",
      "source": [
        "cleaned_singles_map = np.zeros((200, 200, 2), dtype=np.int8)\n",
        "for i in range(200):\n",
        "  for j in range(200):\n",
        "    if (cleaned_fig_np[i][j] == np.array([0,0,0])).all():\n",
        "      cleaned_singles_map[i][j] = [0,-1]\n",
        "    if ((cleaned_fig_np[i][j] == np.array([0,255,255])).all()):\n",
        "      cleaned_singles_map[i][j] = [2, 0]\n",
        "    if (cleaned_fig_np[i][j] == np.array([76,255,0])).all():\n",
        "      cleaned_singles_map[i][j] = [3, 0]\n",
        "    if (cleaned_fig_np[i][j] == np.array([255,216,0])).all():\n",
        "      cleaned_singles_map[i][j] = [4, 0]\n",
        "    if (cleaned_fig_np[i][j] == np.array([255,0,0])).all():\n",
        "      cleaned_singles_map[i][j] = [5, 0]\n",
        "    if (cleaned_fig_np[i][j] == np.array([255,106,0])).all():\n",
        "      cleaned_singles_map[i][j] = [6, 0]\n",
        "    if (cleaned_fig_np[i][j] == np.array([255,0,220])).all():\n",
        "      cleaned_singles_map[i][j] = [7, 0]\n",
        "    if (cleaned_fig_np[i][j] == np.array([255, 255, 255])).all():\n",
        "      cleaned_singles_map[i][j] = [1, 1]\n",
        "print(cleaned_singles_map)\n"
      ],
      "metadata": {
        "colab": {
          "base_uri": "https://localhost:8080/"
        },
        "id": "Bmdnwbgj4TrJ",
        "outputId": "bcf38a6e-6539-4e88-ff3d-0f86e133d003"
      },
      "execution_count": 61,
      "outputs": [
        {
          "output_type": "stream",
          "name": "stdout",
          "text": [
            "[[[ 0 -1]\n",
            "  [ 0 -1]\n",
            "  [ 0 -1]\n",
            "  ...\n",
            "  [ 0 -1]\n",
            "  [ 0 -1]\n",
            "  [ 0 -1]]\n",
            "\n",
            " [[ 0 -1]\n",
            "  [ 0 -1]\n",
            "  [ 0 -1]\n",
            "  ...\n",
            "  [ 0 -1]\n",
            "  [ 0 -1]\n",
            "  [ 0 -1]]\n",
            "\n",
            " [[ 0 -1]\n",
            "  [ 0 -1]\n",
            "  [ 0 -1]\n",
            "  ...\n",
            "  [ 0 -1]\n",
            "  [ 0 -1]\n",
            "  [ 0 -1]]\n",
            "\n",
            " ...\n",
            "\n",
            " [[ 0 -1]\n",
            "  [ 0 -1]\n",
            "  [ 0 -1]\n",
            "  ...\n",
            "  [ 0 -1]\n",
            "  [ 0 -1]\n",
            "  [ 0 -1]]\n",
            "\n",
            " [[ 0 -1]\n",
            "  [ 0 -1]\n",
            "  [ 0 -1]\n",
            "  ...\n",
            "  [ 0 -1]\n",
            "  [ 0 -1]\n",
            "  [ 0 -1]]\n",
            "\n",
            " [[ 0 -1]\n",
            "  [ 0 -1]\n",
            "  [ 0 -1]\n",
            "  ...\n",
            "  [ 0 -1]\n",
            "  [ 0 -1]\n",
            "  [ 0 -1]]]\n"
          ]
        }
      ]
    },
    {
      "cell_type": "code",
      "source": [
        "name_list = ['general_gate', 'entrance', 'ranger_stop', 'gate', 'camping', 'ranger_base']\n",
        "name_color_dict = {\n",
        "    'general_gate':(0, 255, 255),\n",
        "    'entrance':(76, 255, 0),\n",
        "    'ranger_stop':(255, 216, 0),\n",
        "    'gate':(255, 0, 0),\n",
        "    'camping':(255, 106, 0),\n",
        "    'ranger_base':(255, 0 , 220)\n",
        "}"
      ],
      "metadata": {
        "id": "K7rfuE0MSG0G"
      },
      "execution_count": 21,
      "outputs": []
    },
    {
      "cell_type": "code",
      "source": [
        "color_name_dict = {}\n",
        "for key in name_color_dict:\n",
        "  color_name_dict[name_color_dict[key]] = key\n",
        "# print(color_name_dict)"
      ],
      "metadata": {
        "id": "TlLeIcsIjVw8"
      },
      "execution_count": 22,
      "outputs": []
    },
    {
      "cell_type": "code",
      "source": [
        "sensor_coordinate_dict = {}\n",
        "coordinate_sensor_dict = {}\n",
        "sensor_index_dict = {}\n",
        "index_sensor_dict = {}\n",
        "name_count = {}\n",
        "index = 50\n",
        "for i in range(200):\n",
        "  for j in range(200):\n",
        "    cur = (cleaned_fig_np[i, j, 0], cleaned_fig_np[i, j, 1], cleaned_fig_np[i, j, 2])\n",
        "    if cur in color_name_dict.keys():\n",
        "      sensor_type = color_name_dict[cur]\n",
        "      if sensor_type not in name_count.keys():\n",
        "        name_count[sensor_type] = 0\n",
        "      sensor = (sensor_type+'_%d') % name_count[sensor_type]\n",
        "      name_count[sensor_type] += 1\n",
        "      sensor_index_dict[sensor] = index\n",
        "      index_sensor_dict[index] = sensor\n",
        "      sensor_coordinate_dict[sensor] = (i, j)\n",
        "      coordinate_sensor_dict[(i, j)] = sensor\n",
        "      index += 1"
      ],
      "metadata": {
        "id": "_Puy8QbUj6sg"
      },
      "execution_count": 23,
      "outputs": []
    },
    {
      "cell_type": "code",
      "source": [
        "# Create a simplified graph for DFS\n",
        "graph = np.zeros((200, 200), dtype=np.uint8)\n",
        "for i in range(200):\n",
        "  for j in range(200):\n",
        "    cur = (cleaned_fig_np[i, j, 0], cleaned_fig_np[i, j, 1], cleaned_fig_np[i, j, 2])\n",
        "    if cur == (255, 255, 255):\n",
        "      graph[i][j] = 1\n",
        "      continue\n",
        "    if (i, j) in coordinate_sensor_dict.keys():\n",
        "      id = sensor_index_dict[coordinate_sensor_dict[(i, j)]]\n",
        "      graph[i][j] = id\n",
        "# print(graph)"
      ],
      "metadata": {
        "id": "su3LqhPdoK27"
      },
      "execution_count": 24,
      "outputs": []
    },
    {
      "cell_type": "code",
      "source": [
        "from numpy.core.fromnumeric import nonzero\n",
        "action_list = ['up', 'down', 'left', 'right']\n",
        "last_action = None\n",
        "# distance = 0.\n",
        "# weighted_graph = np.zeros((index, index), dtype=np.float32)\n",
        "graph_copy = graph.copy()\n",
        "graph_road = np.zeros_like(graph_copy)\n",
        "road_index = 0\n",
        "coordinate_distance_dict = {}\n",
        "x, y = 0, 0\n",
        "road_lengths = np.zeros((100,))\n",
        "start, end = None, None\n",
        "road_id_sensors_map = {}\n",
        "sensors_road_id_map = {}\n",
        "\n",
        "def compute_distance(x1, y1, x2, y2, cur_distance):\n",
        "  global last_action\n",
        "  global graph_copy\n",
        "  global action_list\n",
        "  global road_index\n",
        "  global coordinate_distance_dict\n",
        "  global x\n",
        "  global y\n",
        "  global start \n",
        "  global end\n",
        "  ret = False\n",
        "  if x1 == x2 and y1 == y2: \n",
        "    # print(x1, y1, cur_distance)\n",
        "    coordinate_distance_dict[(x, y, x2, y2)].append(cur_distance)\n",
        "    road_index += 1\n",
        "    road_lengths[road_index] = cur_distance\n",
        "    road_id_sensors_map[road_index] = (start, end)\n",
        "    sensors_road_id_map[(start, end)] = road_index \n",
        "    sensors_road_id_map[(end, start)] = road_index\n",
        "    return True\n",
        "  if x1 < 0 or x1 >= 200 or y1 < 0 or y1 >= 200:\n",
        "    return False\n",
        "  if graph_copy[x1][y1] != 1:\n",
        "    return False\n",
        "  graph_copy[x1][y1] = 0\n",
        "  for action in action_list:\n",
        "    new_dist = np.sqrt(2) if (action in ['up', 'down'] and last_action in ['left', 'right']) or \\\n",
        "                            (action in ['left', 'right'] and last_action in ['up', 'down']) else 1. \n",
        "    temp = last_action\n",
        "    last_action = action\n",
        "    # print(last_action)\n",
        "    distance = new_dist + cur_distance\n",
        "    if action == 'up':\n",
        "      done = compute_distance(x1, y1-1, x2, y2, distance)\n",
        "    elif action == 'down':\n",
        "      done = compute_distance(x1, y1+1, x2, y2, distance)\n",
        "    elif action == 'left':\n",
        "      done = compute_distance(x1-1, y1, x2, y2, distance)\n",
        "    else:\n",
        "      done = compute_distance(x1+1, y1, x2, y2, distance)\n",
        "    if done: \n",
        "      # print('ha')\n",
        "      graph_road[x1][y1] = road_index\n",
        "      ret = True\n",
        "    last_action = temp\n",
        "  return ret\n",
        "    # distance -= new_dist\n",
        "\n",
        "# Calculate the distances\n",
        "sensor_distance_dict = {}\n",
        "for sensor1 in sensor_coordinate_dict.keys():\n",
        "  start = sensor1\n",
        "  id1 = sensor_index_dict[sensor1]\n",
        "  x1, y1 = sensor_coordinate_dict[sensor1]\n",
        "  x, y = x1, y1\n",
        "  # print('start: ', x1, y1)\n",
        "  for sensor2 in sensor_coordinate_dict.keys():\n",
        "    end = sensor2\n",
        "    id2 = sensor_index_dict[sensor2]\n",
        "    x2, y2 = sensor_coordinate_dict[sensor2]\n",
        "    if id1 == id2: continue\n",
        "    last_action = None\n",
        "    distance = -1\n",
        "    graph_copy = graph.copy()\n",
        "    graph_copy[x1][y1] = 1\n",
        "    graph_copy[x2][y2] = 1\n",
        "    coordinate_distance_dict[(x1,y1,x2,y2)] = []\n",
        "    done = compute_distance(x1, y1, x2, y2, 0)\n",
        "\n",
        "    sensor_distance_dict[(sensor1, sensor2)] = []\n",
        "    sensor_distance_dict[(sensor2, sensor1)] = []\n",
        "\n",
        "    if done:\n",
        "      distances = coordinate_distance_dict[(x1, y1, x2, y2)]\n",
        "\n",
        "      sensor_distance_dict[(sensor1, sensor2)] = distances\n",
        "      sensor_distance_dict[(sensor2, sensor1)] = distances\n",
        "    break\n",
        "\n",
        "print(sensor_distance_dict)\n",
        "\n"
      ],
      "metadata": {
        "id": "hUX_9zKGqgrL",
        "colab": {
          "base_uri": "https://localhost:8080/"
        },
        "outputId": "dbef9aec-ac7e-41b2-d3b7-be3b389d6367"
      },
      "execution_count": 81,
      "outputs": [
        {
          "output_type": "stream",
          "name": "stdout",
          "text": [
            "{('general_gate_0', 'entrance_0'): [], ('entrance_0', 'general_gate_0'): [], ('ranger_stop_0', 'general_gate_0'): [], ('general_gate_0', 'ranger_stop_0'): [], ('ranger_stop_1', 'general_gate_0'): [], ('general_gate_0', 'ranger_stop_1'): [], ('general_gate_1', 'general_gate_0'): [], ('general_gate_0', 'general_gate_1'): [], ('general_gate_2', 'general_gate_0'): [246.0782104868025, 45.28427124746189], ('general_gate_0', 'general_gate_2'): [246.0782104868025, 45.28427124746189], ('gate_0', 'general_gate_0'): [], ('general_gate_0', 'gate_0'): [], ('ranger_stop_2', 'general_gate_0'): [], ('general_gate_0', 'ranger_stop_2'): [], ('camping_0', 'general_gate_0'): [], ('general_gate_0', 'camping_0'): [], ('gate_1', 'general_gate_0'): [], ('general_gate_0', 'gate_1'): [], ('ranger_stop_3', 'general_gate_0'): [], ('general_gate_0', 'ranger_stop_3'): [], ('camping_1', 'general_gate_0'): [279.705627484772, 287.50461735799547], ('general_gate_0', 'camping_1'): [279.705627484772, 287.50461735799547], ('camping_2', 'general_gate_0'): [93.46803743153538, 202.7228714274748], ('general_gate_0', 'camping_2'): [93.46803743153538, 202.7228714274748], ('gate_2', 'general_gate_0'): [], ('general_gate_0', 'gate_2'): [], ('general_gate_3', 'general_gate_0'): [295.3624817342644, 303.1614716074879], ('general_gate_0', 'general_gate_3'): [295.3624817342644, 303.1614716074879], ('gate_3', 'general_gate_0'): [220.52186130069813, 228.32085117392165], ('general_gate_0', 'gate_3'): [220.52186130069813, 228.32085117392165], ('camping_3', 'general_gate_0'): [], ('general_gate_0', 'camping_3'): [], ('entrance_1', 'general_gate_0'): [], ('general_gate_0', 'entrance_1'): [], ('camping_4', 'general_gate_0'): [], ('general_gate_0', 'camping_4'): [], ('entrance_2', 'general_gate_0'): [274.563491861041, 282.36248173426446], ('general_gate_0', 'entrance_2'): [274.563491861041, 282.36248173426446], ('camping_5', 'general_gate_0'): [], ('general_gate_0', 'camping_5'): [], ('ranger_stop_4', 'general_gate_0'): [], ('general_gate_0', 'ranger_stop_4'): [], ('general_gate_4', 'general_gate_0'): [], ('general_gate_0', 'general_gate_4'): [], ('general_gate_5', 'general_gate_0'): [169.26702730475893, 177.0660171779823], ('general_gate_0', 'general_gate_5'): [169.26702730475893, 177.0660171779823], ('gate_4', 'general_gate_0'): [332.5046173579956, 340.3036072312191], ('general_gate_0', 'gate_4'): [332.5046173579956, 340.3036072312191], ('ranger_stop_5', 'general_gate_0'): [], ('general_gate_0', 'ranger_stop_5'): [], ('camping_6', 'general_gate_0'): [], ('general_gate_0', 'camping_6'): [], ('general_gate_6', 'general_gate_0'): [411.2447327281735, 419.043722601397], ('general_gate_0', 'general_gate_6'): [411.2447327281735, 419.043722601397], ('general_gate_7', 'general_gate_0'): [], ('general_gate_0', 'general_gate_7'): [], ('camping_7', 'general_gate_0'): [], ('general_gate_0', 'camping_7'): [], ('gate_5', 'general_gate_0'): [420.90158697766594, 428.70057685088943], ('general_gate_0', 'gate_5'): [420.90158697766594, 428.70057685088943], ('ranger_stop_6', 'general_gate_0'): [], ('general_gate_0', 'ranger_stop_6'): [], ('gate_6', 'general_gate_0'): [], ('general_gate_0', 'gate_6'): [], ('ranger_stop_7', 'general_gate_0'): [], ('general_gate_0', 'ranger_stop_7'): [], ('gate_7', 'general_gate_0'): [], ('general_gate_0', 'gate_7'): [], ('entrance_3', 'general_gate_0'): [], ('general_gate_0', 'entrance_3'): [], ('ranger_base_0', 'general_gate_0'): [], ('general_gate_0', 'ranger_base_0'): [], ('camping_8', 'general_gate_0'): [482.84271247462055, 490.64170234784405], ('general_gate_0', 'camping_8'): [482.84271247462055, 490.64170234784405], ('gate_8', 'general_gate_0'): [473.52900397563576, 481.32799384885925], ('general_gate_0', 'gate_8'): [473.52900397563576, 481.32799384885925], ('entrance_4', 'general_gate_0'): [474.11479041326265, 481.91378028648614], ('general_gate_0', 'entrance_4'): [474.11479041326265, 481.91378028648614]}\n"
          ]
        }
      ]
    },
    {
      "cell_type": "code",
      "source": [
        "for key in sensor_distance_dict.keys():\n",
        "  distance = sensor_distance_dict[key]\n",
        "  if distance != -1:\n",
        "    print(key, distance)"
      ],
      "metadata": {
        "id": "BCwfrsBYpTV-"
      },
      "execution_count": null,
      "outputs": []
    },
    {
      "cell_type": "code",
      "source": [
        "print(graph_road.shape)\n",
        "for i in range(200):\n",
        "  for j in range(200):\n",
        "    if graph_road[i][j] != 0:\n",
        "      print(i, j, graph_road[i][j])"
      ],
      "metadata": {
        "id": "tIjjyhd7rtYq"
      },
      "execution_count": null,
      "outputs": []
    },
    {
      "cell_type": "code",
      "source": [
        "for i in range(200):\n",
        "  for j in range(200):\n",
        "    if cleaned_singles_map[i][j][0] == 1:\n",
        "      cleaned_singles_map[i][j][1] = graph_road[i][j]"
      ],
      "metadata": {
        "id": "KPOAHGyGKuau"
      },
      "execution_count": 64,
      "outputs": []
    },
    {
      "cell_type": "code",
      "source": [
        "import json"
      ],
      "metadata": {
        "id": "0jXtAtDIQdbz"
      },
      "execution_count": 65,
      "outputs": []
    },
    {
      "cell_type": "code",
      "source": [
        "data = []\n",
        "# with open('bmp_per_pixel.json', 'w') as outfile:\n",
        "for i in range(200):\n",
        "  for j in range(200):\n",
        "    # with open('bmp_per_pixel.json', 'w') as outfile:\n",
        "      # print(j)\n",
        "    data_new = {\n",
        "            'x': int(i),\n",
        "            'y': int(j),\n",
        "            'type': int(cleaned_singles_map[i][j][0]),\n",
        "            'road': int(cleaned_singles_map[i][j][1])\n",
        "      }\n",
        "    data.append(data_new)\n",
        "    # json_string = json.dumps(data)\n",
        "      # outfile.write(json_string)\n",
        "with open('bmp_per_pixel.json', 'w') as outfile:\n",
        "  json.dump(data, outfile)\n",
        "  # outfile.write(json_string)"
      ],
      "metadata": {
        "id": "8gnrRQwgQrfo"
      },
      "execution_count": 80,
      "outputs": []
    },
    {
      "cell_type": "code",
      "source": [
        "road_info = []\n",
        "\n",
        "# num_roads = max(road_lengths)\n",
        "for i in range(1, 100):\n",
        "  if road_lengths[i] == 0:\n",
        "    break\n",
        "  road = {\n",
        "      'index': i,\n",
        "      'length': road_lengths[i],\n",
        "      'sensor1': road_id_sensors_map[i][0],\n",
        "      'sensor2': road_id_sensors_map[i][1]\n",
        "  }\n",
        "  road_info.append(road)\n",
        "\n",
        "with open('road_info.json', 'w') as outfile:\n",
        "  json.dump(road_info, outfile)\n"
      ],
      "metadata": {
        "id": "m37Dqb3XSg6k"
      },
      "execution_count": 84,
      "outputs": []
    },
    {
      "cell_type": "code",
      "source": [
        "print(road_lengths)"
      ],
      "metadata": {
        "colab": {
          "base_uri": "https://localhost:8080/"
        },
        "id": "4rumSZYsWi2f",
        "outputId": "e5237c7a-53eb-4479-c42c-c6c49de5eb8a"
      },
      "execution_count": 83,
      "outputs": [
        {
          "output_type": "stream",
          "name": "stdout",
          "text": [
            "[  0.         246.07821049  45.28427125 279.70562748 287.50461736\n",
            "  93.46803743 202.72287143 295.36248173 303.16147161 220.5218613\n",
            " 228.32085117 274.56349186 282.36248173 169.2670273  177.06601718\n",
            " 332.50461736 340.30360723 411.24473273 419.0437226  420.90158698\n",
            " 428.70057685 482.84271247 490.64170235 473.52900398 481.32799385\n",
            " 474.11479041 481.91378029   0.           0.           0.\n",
            "   0.           0.           0.           0.           0.\n",
            "   0.           0.           0.           0.           0.\n",
            "   0.           0.           0.           0.           0.\n",
            "   0.           0.           0.           0.           0.\n",
            "   0.           0.           0.           0.           0.\n",
            "   0.           0.           0.           0.           0.\n",
            "   0.           0.           0.           0.           0.\n",
            "   0.           0.           0.           0.           0.\n",
            "   0.           0.           0.           0.           0.\n",
            "   0.           0.           0.           0.           0.\n",
            "   0.           0.           0.           0.           0.\n",
            "   0.           0.           0.           0.           0.\n",
            "   0.           0.           0.           0.           0.\n",
            "   0.           0.           0.           0.           0.        ]\n"
          ]
        }
      ]
    },
    {
      "cell_type": "code",
      "source": [],
      "metadata": {
        "id": "VjHp_Ja0Wr9H"
      },
      "execution_count": null,
      "outputs": []
    }
  ]
}