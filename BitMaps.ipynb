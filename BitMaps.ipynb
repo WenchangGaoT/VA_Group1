{
  "nbformat": 4,
  "nbformat_minor": 0,
  "metadata": {
    "colab": {
      "provenance": [],
      "authorship_tag": "ABX9TyPuRxPW+1qVGqUgx6oyns4k",
      "include_colab_link": true
    },
    "kernelspec": {
      "name": "python3",
      "display_name": "Python 3"
    },
    "language_info": {
      "name": "python"
    },
    "gpuClass": "standard"
  },
  "cells": [
    {
      "cell_type": "markdown",
      "metadata": {
        "id": "view-in-github",
        "colab_type": "text"
      },
      "source": [
        "<a href=\"https://colab.research.google.com/github/WenchangGaoT/VA_Group1/blob/main/BitMaps.ipynb\" target=\"_parent\"><img src=\"https://colab.research.google.com/assets/colab-badge.svg\" alt=\"Open In Colab\"/></a>"
      ]
    },
    {
      "cell_type": "code",
      "source": [
        "from PIL import Image"
      ],
      "metadata": {
        "id": "neNyUjqlRblO"
      },
      "execution_count": 1,
      "outputs": []
    },
    {
      "cell_type": "code",
      "source": [
        "img_bmp = Image.open('Lekagul Roadways.bmp')\n",
        "# img_jpg = Image.open('Lekagul Roadways labeled v2.jpg')"
      ],
      "metadata": {
        "id": "AfcGBeRYTLvk"
      },
      "execution_count": 2,
      "outputs": []
    },
    {
      "cell_type": "code",
      "source": [
        "import numpy as np"
      ],
      "metadata": {
        "id": "7eBfI3W7TUFZ"
      },
      "execution_count": 3,
      "outputs": []
    },
    {
      "cell_type": "code",
      "source": [
        "img_bmp = np.array(img_bmp)\n",
        "station_map = {}\n",
        "for i in img_bmp:\n",
        "  for j in i: \n",
        "    if j != 0 and j != 35: station_map.update({j: 'New Node'})\n",
        "print(len(station_map))"
      ],
      "metadata": {
        "colab": {
          "base_uri": "https://localhost:8080/"
        },
        "id": "vPMZFL_xTfua",
        "outputId": "6c6130d5-1183-461a-b2b3-8ec79e696cc9"
      },
      "execution_count": null,
      "outputs": [
        {
          "output_type": "stream",
          "name": "stdout",
          "text": [
            "34\n"
          ]
        }
      ]
    },
    {
      "cell_type": "code",
      "source": [
        "coordinate_dict = {}\n",
        "entrances, general_gates, ranger_stops, gates, campings, ranger_bases = 0, 0, 0, 0, 0, 0\n",
        "shape_x, shape_y = img_bmp.shape\n",
        "histo = np.zeros((255,), dtype=np.int32)\n",
        "bmp_list = []\n",
        "print(img_bmp.dtype)\n",
        "for x in range(shape_x):\n",
        "  for y in range(shape_y):\n",
        "    histo[img_bmp[x, y]] += 1\n",
        "for i in range(1, 255):\n",
        "  if histo[i] > 0 and i != 35:\n",
        "    print(i, histo[i])\n",
        "    bmp_np = np.ones_like(img_bmp, dtype=np.uint8)*i \n",
        "    img_temp = Image.fromarray(bmp_np)\n",
        "    img_temp.save('%d.bmp' % i)\n",
        "    # bmp_list\n",
        "\n",
        "\n"
      ],
      "metadata": {
        "colab": {
          "base_uri": "https://localhost:8080/",
          "height": 365
        },
        "id": "sfxbpFXfVQFI",
        "outputId": "ffa1b0e0-01e0-4729-e130-2b562281ffbe"
      },
      "execution_count": 4,
      "outputs": [
        {
          "output_type": "error",
          "ename": "AttributeError",
          "evalue": "ignored",
          "traceback": [
            "\u001b[0;31m---------------------------------------------------------------------------\u001b[0m",
            "\u001b[0;31mAttributeError\u001b[0m                            Traceback (most recent call last)",
            "\u001b[0;32m<ipython-input-4-3a61d5a2e9f4>\u001b[0m in \u001b[0;36m<cell line: 3>\u001b[0;34m()\u001b[0m\n\u001b[1;32m      1\u001b[0m \u001b[0mcoordinate_dict\u001b[0m \u001b[0;34m=\u001b[0m \u001b[0;34m{\u001b[0m\u001b[0;34m}\u001b[0m\u001b[0;34m\u001b[0m\u001b[0;34m\u001b[0m\u001b[0m\n\u001b[1;32m      2\u001b[0m \u001b[0mentrances\u001b[0m\u001b[0;34m,\u001b[0m \u001b[0mgeneral_gates\u001b[0m\u001b[0;34m,\u001b[0m \u001b[0mranger_stops\u001b[0m\u001b[0;34m,\u001b[0m \u001b[0mgates\u001b[0m\u001b[0;34m,\u001b[0m \u001b[0mcampings\u001b[0m\u001b[0;34m,\u001b[0m \u001b[0mranger_bases\u001b[0m \u001b[0;34m=\u001b[0m \u001b[0;36m0\u001b[0m\u001b[0;34m,\u001b[0m \u001b[0;36m0\u001b[0m\u001b[0;34m,\u001b[0m \u001b[0;36m0\u001b[0m\u001b[0;34m,\u001b[0m \u001b[0;36m0\u001b[0m\u001b[0;34m,\u001b[0m \u001b[0;36m0\u001b[0m\u001b[0;34m,\u001b[0m \u001b[0;36m0\u001b[0m\u001b[0;34m\u001b[0m\u001b[0;34m\u001b[0m\u001b[0m\n\u001b[0;32m----> 3\u001b[0;31m \u001b[0mshape_x\u001b[0m\u001b[0;34m,\u001b[0m \u001b[0mshape_y\u001b[0m \u001b[0;34m=\u001b[0m \u001b[0mimg_bmp\u001b[0m\u001b[0;34m.\u001b[0m\u001b[0mshape\u001b[0m\u001b[0;34m\u001b[0m\u001b[0;34m\u001b[0m\u001b[0m\n\u001b[0m\u001b[1;32m      4\u001b[0m \u001b[0mhisto\u001b[0m \u001b[0;34m=\u001b[0m \u001b[0mnp\u001b[0m\u001b[0;34m.\u001b[0m\u001b[0mzeros\u001b[0m\u001b[0;34m(\u001b[0m\u001b[0;34m(\u001b[0m\u001b[0;36m255\u001b[0m\u001b[0;34m,\u001b[0m\u001b[0;34m)\u001b[0m\u001b[0;34m,\u001b[0m \u001b[0mdtype\u001b[0m\u001b[0;34m=\u001b[0m\u001b[0mnp\u001b[0m\u001b[0;34m.\u001b[0m\u001b[0mint32\u001b[0m\u001b[0;34m)\u001b[0m\u001b[0;34m\u001b[0m\u001b[0;34m\u001b[0m\u001b[0m\n\u001b[1;32m      5\u001b[0m \u001b[0mbmp_list\u001b[0m \u001b[0;34m=\u001b[0m \u001b[0;34m[\u001b[0m\u001b[0;34m]\u001b[0m\u001b[0;34m\u001b[0m\u001b[0;34m\u001b[0m\u001b[0m\n",
            "\u001b[0;32m/usr/local/lib/python3.9/dist-packages/PIL/Image.py\u001b[0m in \u001b[0;36m__getattr__\u001b[0;34m(self, name)\u001b[0m\n\u001b[1;32m    544\u001b[0m             )\n\u001b[1;32m    545\u001b[0m             \u001b[0;32mreturn\u001b[0m \u001b[0mself\u001b[0m\u001b[0;34m.\u001b[0m\u001b[0m_category\u001b[0m\u001b[0;34m\u001b[0m\u001b[0;34m\u001b[0m\u001b[0m\n\u001b[0;32m--> 546\u001b[0;31m         \u001b[0;32mraise\u001b[0m \u001b[0mAttributeError\u001b[0m\u001b[0;34m(\u001b[0m\u001b[0mname\u001b[0m\u001b[0;34m)\u001b[0m\u001b[0;34m\u001b[0m\u001b[0;34m\u001b[0m\u001b[0m\n\u001b[0m\u001b[1;32m    547\u001b[0m \u001b[0;34m\u001b[0m\u001b[0m\n\u001b[1;32m    548\u001b[0m     \u001b[0;34m@\u001b[0m\u001b[0mproperty\u001b[0m\u001b[0;34m\u001b[0m\u001b[0;34m\u001b[0m\u001b[0m\n",
            "\u001b[0;31mAttributeError\u001b[0m: shape"
          ]
        }
      ]
    },
    {
      "cell_type": "code",
      "source": [
        "bmp_34 = Image.open('24.bmp')\n",
        "bmp_34.show()\n",
        "img_bmp = Image.open('Lekagul Roadways.bmp', info=1)\n",
        "img_bmp.show()\n",
        "# print(bmp_8)"
      ],
      "metadata": {
        "id": "nGg3wehKW98_",
        "colab": {
          "base_uri": "https://localhost:8080/",
          "height": 476
        },
        "outputId": "a20f9237-bb5a-4b94-94a8-8ffdfa48195e"
      },
      "execution_count": null,
      "outputs": [
        {
          "output_type": "display_data",
          "data": {
            "text/plain": [
              "<PIL.BmpImagePlugin.BmpImageFile image mode=L size=200x200 at 0x7FDE842F1CD0>"
            ],
            "image/png": "[encoded data removed]"
          },
          "metadata": {}
        },
        {
          "output_type": "error",
          "ename": "TypeError",
          "evalue": "ignored",
          "traceback": [
            "\u001b[0;31m---------------------------------------------------------------------------\u001b[0m",
            "\u001b[0;31mTypeError\u001b[0m                                 Traceback (most recent call last)",
            "\u001b[0;32m<ipython-input-27-e65ca8f1bd42>\u001b[0m in \u001b[0;36m<cell line: 3>\u001b[0;34m()\u001b[0m\n\u001b[1;32m      1\u001b[0m \u001b[0mbmp_34\u001b[0m \u001b[0;34m=\u001b[0m \u001b[0mImage\u001b[0m\u001b[0;34m.\u001b[0m\u001b[0mopen\u001b[0m\u001b[0;34m(\u001b[0m\u001b[0;34m'24.bmp'\u001b[0m\u001b[0;34m)\u001b[0m\u001b[0;34m\u001b[0m\u001b[0;34m\u001b[0m\u001b[0m\n\u001b[1;32m      2\u001b[0m \u001b[0mbmp_34\u001b[0m\u001b[0;34m.\u001b[0m\u001b[0mshow\u001b[0m\u001b[0;34m(\u001b[0m\u001b[0;34m)\u001b[0m\u001b[0;34m\u001b[0m\u001b[0;34m\u001b[0m\u001b[0m\n\u001b[0;32m----> 3\u001b[0;31m \u001b[0mimg_bmp\u001b[0m \u001b[0;34m=\u001b[0m \u001b[0mImage\u001b[0m\u001b[0;34m.\u001b[0m\u001b[0mopen\u001b[0m\u001b[0;34m(\u001b[0m\u001b[0;34m'Lekagul Roadways.bmp'\u001b[0m\u001b[0;34m,\u001b[0m \u001b[0minfo\u001b[0m\u001b[0;34m=\u001b[0m\u001b[0;36m1\u001b[0m\u001b[0;34m)\u001b[0m\u001b[0;34m\u001b[0m\u001b[0;34m\u001b[0m\u001b[0m\n\u001b[0m\u001b[1;32m      4\u001b[0m \u001b[0mimg_bmp\u001b[0m\u001b[0;34m.\u001b[0m\u001b[0mshow\u001b[0m\u001b[0;34m(\u001b[0m\u001b[0;34m)\u001b[0m\u001b[0;34m\u001b[0m\u001b[0;34m\u001b[0m\u001b[0m\n\u001b[1;32m      5\u001b[0m \u001b[0;31m# print(bmp_8)\u001b[0m\u001b[0;34m\u001b[0m\u001b[0;34m\u001b[0m\u001b[0m\n",
            "\u001b[0;31mTypeError\u001b[0m: open() got an unexpected keyword argument 'info'"
          ]
        }
      ]
    },
    {
      "cell_type": "code",
      "source": [
        "img_np = np.array(img_bmp)\n",
        "histo = np.zeros((255), dtype=np.int32)\n",
        "for i in range(200):\n",
        "  for j in range(200):\n",
        "    if histo[img_np[i, j]] == 0:\n",
        "      img_temp_np = np.ones_like(img_np)*i \n",
        "      img_temp_bmp = Image.fromarray(img_temp_np)\n",
        "      img_temp_bmp.save('%d.bmp' % img_np[i, j])\n",
        "    histo[img_np[i, j]] += 1"
      ],
      "metadata": {
        "id": "hIQJhHpgv7AL"
      },
      "execution_count": 5,
      "outputs": []
    },
    {
      "cell_type": "code",
      "source": [
        "for i in range(36):\n",
        "  temp = Image.open('%d.bmp' % i)\n",
        "  temp.show()\n",
        "  print(i)"
      ],
      "metadata": {
        "id": "nD8KPwPD0JC0",
        "colab": {
          "base_uri": "https://localhost:8080/",
          "height": 1000
        },
        "outputId": "f90026e3-4ac4-4ff8-eac4-f5347f1ab693"
      },
      "execution_count": 6,
      "outputs": [
        {
          "output_type": "display_data",
          "data": {
            "text/plain": [
              "<PIL.BmpImagePlugin.BmpImageFile image mode=L size=200x200 at 0x7F2C1830EBB0>"
            ],
            "image/png": "[encoded data removed]"
          },
          "metadata": {}
        },
        {
          "output_type": "stream",
          "name": "stdout",
          "text": [
            "0\n"
          ]
        },
        {
          "output_type": "display_data",
          "data": {
            "text/plain": [
              "<PIL.BmpImagePlugin.BmpImageFile image mode=L size=200x200 at 0x7F2C18D99610>"
            ],
            "image/png": "[encoded data removed]"
          },
          "metadata": {}
        },
        {
          "output_type": "stream",
          "name": "stdout",
          "text": [
            "1\n"
          ]
        },
        {
          "output_type": "display_data",
          "data": {
            "text/plain": [
              "<PIL.BmpImagePlugin.BmpImageFile image mode=L size=200x200 at 0x7F2C1829D2E0>"
            ],
            "image/png": "[encoded data removed]"
          },
          "metadata": {}
        },
        {
          "output_type": "stream",
          "name": "stdout",
          "text": [
            "2\n"
          ]
        },
        {
          "output_type": "display_data",
          "data": {
            "text/plain": [
              "<PIL.BmpImagePlugin.BmpImageFile image mode=L size=200x200 at 0x7F2C1829DE80>"
            ],
            "image/png": "[encoded data removed]"
          },
          "metadata": {}
        },
        {
          "output_type": "stream",
          "name": "stdout",
          "text": [
            "3\n"
          ]
        },
        {
          "output_type": "display_data",
          "data": {
            "text/plain": [
              "<PIL.BmpImagePlugin.BmpImageFile image mode=L size=200x200 at 0x7F2C1829DDC0>"
            ],
            "image/png": "[encoded data removed]"
          },
          "metadata": {}
        },
        {
          "output_type": "stream",
          "name": "stdout",
          "text": [
            "4\n"
          ]
        },
        {
          "output_type": "display_data",
          "data": {
            "text/plain": [
              "<PIL.BmpImagePlugin.BmpImageFile image mode=L size=200x200 at 0x7F2C1829D2E0>"
            ],
            "image/png": "[encoded data removed]"
          },
          "metadata": {}
        },
        {
          "output_type": "stream",
          "name": "stdout",
          "text": [
            "5\n"
          ]
        },
        {
          "output_type": "display_data",
          "data": {
            "text/plain": [
              "<PIL.BmpImagePlugin.BmpImageFile image mode=L size=200x200 at 0x7F2C1829DE80>"
            ],
            "image/png": "[encoded data removed]"
          },
          "metadata": {}
        },
        {
          "output_type": "stream",
          "name": "stdout",
          "text": [
            "6\n"
          ]
        },
        {
          "output_type": "display_data",
          "data": {
            "text/plain": [
              "<PIL.BmpImagePlugin.BmpImageFile image mode=L size=200x200 at 0x7F2C1829DEB0>"
            ],
            "image/png": "[encoded data removed]"
          },
          "metadata": {}
        },
        {
          "output_type": "stream",
          "name": "stdout",
          "text": [
            "7\n"
          ]
        },
        {
          "output_type": "display_data",
          "data": {
            "text/plain": [
              "<PIL.BmpImagePlugin.BmpImageFile image mode=L size=200x200 at 0x7F2C1829D2E0>"
            ],
            "image/png": "[encoded data removed]"
          },
          "metadata": {}
        },
        {
          "output_type": "stream",
          "name": "stdout",
          "text": [
            "8\n"
          ]
        },
        {
          "output_type": "display_data",
          "data": {
            "text/plain": [
              "<PIL.BmpImagePlugin.BmpImageFile image mode=L size=200x200 at 0x7F2C1829DF10>"
            ],
            "image/png": "[encoded data removed]"
          },
          "metadata": {}
        },
        {
          "output_type": "stream",
          "name": "stdout",
          "text": [
            "9\n"
          ]
        },
        {
          "output_type": "display_data",
          "data": {
            "text/plain": [
              "<PIL.BmpImagePlugin.BmpImageFile image mode=L size=200x200 at 0x7F2C1829DEB0>"
            ],
            "image/png": "[encoded data removed]"
          },
          "metadata": {}
        },
        {
          "output_type": "stream",
          "name": "stdout",
          "text": [
            "10\n"
          ]
        },
        {
          "output_type": "display_data",
          "data": {
            "text/plain": [
              "<PIL.BmpImagePlugin.BmpImageFile image mode=L size=200x200 at 0x7F2C1829D430>"
            ],
            "image/png": "[encoded data removed]"
          },
          "metadata": {}
        },
        {
          "output_type": "stream",
          "name": "stdout",
          "text": [
            "11\n"
          ]
        },
        {
          "output_type": "display_data",
          "data": {
            "text/plain": [
              "<PIL.BmpImagePlugin.BmpImageFile image mode=L size=200x200 at 0x7F2C1829DF10>"
            ],
            "image/png": "[encoded data removed]"
          },
          "metadata": {}
        },
        {
          "output_type": "stream",
          "name": "stdout",
          "text": [
            "12\n"
          ]
        },
        {
          "output_type": "display_data",
          "data": {
            "text/plain": [
              "<PIL.BmpImagePlugin.BmpImageFile image mode=L size=200x200 at 0x7F2C1829D460>"
            ],
            "image/png": "[encoded data removed]"
          },
          "metadata": {}
        },
        {
          "output_type": "stream",
          "name": "stdout",
          "text": [
            "13\n"
          ]
        },
        {
          "output_type": "display_data",
          "data": {
            "text/plain": [
              "<PIL.BmpImagePlugin.BmpImageFile image mode=L size=200x200 at 0x7F2C1829FAF0>"
            ],
            "image/png": "[encoded data removed]"
          },
          "metadata": {}
        },
        {
          "output_type": "stream",
          "name": "stdout",
          "text": [
            "14\n"
          ]
        },
        {
          "output_type": "display_data",
          "data": {
            "text/plain": [
              "<PIL.BmpImagePlugin.BmpImageFile image mode=L size=200x200 at 0x7F2C1829F1F0>"
            ],
            "image/png": "[encoded data removed]"
          },
          "metadata": {}
        },
        {
          "output_type": "stream",
          "name": "stdout",
          "text": [
            "15\n"
          ]
        },
        {
          "output_type": "display_data",
          "data": {
            "text/plain": [
              "<PIL.BmpImagePlugin.BmpImageFile image mode=L size=200x200 at 0x7F2C1829FF10>"
            ],
            "image/png": "[encoded data removed]"
          },
          "metadata": {}
        },
        {
          "output_type": "stream",
          "name": "stdout",
          "text": [
            "16\n"
          ]
        },
        {
          "output_type": "display_data",
          "data": {
            "text/plain": [
              "<PIL.BmpImagePlugin.BmpImageFile image mode=L size=200x200 at 0x7F2C1829FF70>"
            ],
            "image/png": "[encoded data removed]"
          },
          "metadata": {}
        },
        {
          "output_type": "stream",
          "name": "stdout",
          "text": [
            "17\n"
          ]
        },
        {
          "output_type": "display_data",
          "data": {
            "text/plain": [
              "<PIL.BmpImagePlugin.BmpImageFile image mode=L size=200x200 at 0x7F2C1829FAF0>"
            ],
            "image/png": "[encoded data removed]"
          },
          "metadata": {}
        },
        {
          "output_type": "stream",
          "name": "stdout",
          "text": [
            "18\n"
          ]
        },
        {
          "output_type": "display_data",
          "data": {
            "text/plain": [
              "<PIL.BmpImagePlugin.BmpImageFile image mode=L size=200x200 at 0x7F2C1829FA60>"
            ],
            "image/png": "[encoded data removed]"
          },
          "metadata": {}
        },
        {
          "output_type": "stream",
          "name": "stdout",
          "text": [
            "19\n"
          ]
        },
        {
          "output_type": "display_data",
          "data": {
            "text/plain": [
              "<PIL.BmpImagePlugin.BmpImageFile image mode=L size=200x200 at 0x7F2C1829F1F0>"
            ],
            "image/png": "[encoded data removed]"
          },
          "metadata": {}
        },
        {
          "output_type": "stream",
          "name": "stdout",
          "text": [
            "20\n"
          ]
        },
        {
          "output_type": "display_data",
          "data": {
            "text/plain": [
              "<PIL.BmpImagePlugin.BmpImageFile image mode=L size=200x200 at 0x7F2C1829FD30>"
            ],
            "image/png": "[encoded data removed]"
          },
          "metadata": {}
        },
        {
          "output_type": "stream",
          "name": "stdout",
          "text": [
            "21\n"
          ]
        },
        {
          "output_type": "display_data",
          "data": {
            "text/plain": [
              "<PIL.BmpImagePlugin.BmpImageFile image mode=L size=200x200 at 0x7F2C1829FAF0>"
            ],
            "image/png": "[encoded data removed]"
          },
          "metadata": {}
        },
        {
          "output_type": "stream",
          "name": "stdout",
          "text": [
            "22\n"
          ]
        },
        {
          "output_type": "display_data",
          "data": {
            "text/plain": [
              "<PIL.BmpImagePlugin.BmpImageFile image mode=L size=200x200 at 0x7F2C1829FF10>"
            ],
            "image/png": "[encoded data removed]"
          },
          "metadata": {}
        },
        {
          "output_type": "stream",
          "name": "stdout",
          "text": [
            "23\n"
          ]
        },
        {
          "output_type": "display_data",
          "data": {
            "text/plain": [
              "<PIL.BmpImagePlugin.BmpImageFile image mode=L size=200x200 at 0x7F2C1829FA30>"
            ],
            "image/png": "[encoded data removed]"
          },
          "metadata": {}
        },
        {
          "output_type": "stream",
          "name": "stdout",
          "text": [
            "24\n"
          ]
        },
        {
          "output_type": "display_data",
          "data": {
            "text/plain": [
              "<PIL.BmpImagePlugin.BmpImageFile image mode=L size=200x200 at 0x7F2C1829F1F0>"
            ],
            "image/png": "[encoded data removed]"
          },
          "metadata": {}
        },
        {
          "output_type": "stream",
          "name": "stdout",
          "text": [
            "25\n"
          ]
        },
        {
          "output_type": "display_data",
          "data": {
            "text/plain": [
              "<PIL.BmpImagePlugin.BmpImageFile image mode=L size=200x200 at 0x7F2C1829FAF0>"
            ],
            "image/png": "[encoded data removed]"
          },
          "metadata": {}
        },
        {
          "output_type": "stream",
          "name": "stdout",
          "text": [
            "26\n"
          ]
        },
        {
          "output_type": "display_data",
          "data": {
            "text/plain": [
              "<PIL.BmpImagePlugin.BmpImageFile image mode=L size=200x200 at 0x7F2C1829FD30>"
            ],
            "image/png": "[encoded data removed]"
          },
          "metadata": {}
        },
        {
          "output_type": "stream",
          "name": "stdout",
          "text": [
            "27\n"
          ]
        },
        {
          "output_type": "display_data",
          "data": {
            "text/plain": [
              "<PIL.BmpImagePlugin.BmpImageFile image mode=L size=200x200 at 0x7F2C1829F9D0>"
            ],
            "image/png": "[encoded data removed]"
          },
          "metadata": {}
        },
        {
          "output_type": "stream",
          "name": "stdout",
          "text": [
            "28\n"
          ]
        },
        {
          "output_type": "display_data",
          "data": {
            "text/plain": [
              "<PIL.BmpImagePlugin.BmpImageFile image mode=L size=200x200 at 0x7F2C1829FA30>"
            ],
            "image/png": "[encoded data removed]"
          },
          "metadata": {}
        },
        {
          "output_type": "stream",
          "name": "stdout",
          "text": [
            "29\n"
          ]
        },
        {
          "output_type": "display_data",
          "data": {
            "text/plain": [
              "<PIL.BmpImagePlugin.BmpImageFile image mode=L size=200x200 at 0x7F2C1829F970>"
            ],
            "image/png": "[encoded data removed]"
          },
          "metadata": {}
        },
        {
          "output_type": "stream",
          "name": "stdout",
          "text": [
            "30\n"
          ]
        },
        {
          "output_type": "display_data",
          "data": {
            "text/plain": [
              "<PIL.BmpImagePlugin.BmpImageFile image mode=L size=200x200 at 0x7F2C1829FD30>"
            ],
            "image/png": "[encoded data removed]"
          },
          "metadata": {}
        },
        {
          "output_type": "stream",
          "name": "stdout",
          "text": [
            "31\n"
          ]
        },
        {
          "output_type": "display_data",
          "data": {
            "text/plain": [
              "<PIL.BmpImagePlugin.BmpImageFile image mode=L size=200x200 at 0x7F2C1829F1F0>"
            ],
            "image/png": "[encoded data removed]"
          },
          "metadata": {}
        },
        {
          "output_type": "stream",
          "name": "stdout",
          "text": [
            "32\n"
          ]
        },
        {
          "output_type": "display_data",
          "data": {
            "text/plain": [
              "<PIL.BmpImagePlugin.BmpImageFile image mode=L size=200x200 at 0x7F2C1829FA30>"
            ],
            "image/png": "[encoded data removed]"
          },
          "metadata": {}
        },
        {
          "output_type": "stream",
          "name": "stdout",
          "text": [
            "33\n"
          ]
        },
        {
          "output_type": "display_data",
          "data": {
            "text/plain": [
              "<PIL.BmpImagePlugin.BmpImageFile image mode=L size=200x200 at 0x7F2C1829F970>"
            ],
            "image/png": "[encoded data removed]"
          },
          "metadata": {}
        },
        {
          "output_type": "stream",
          "name": "stdout",
          "text": [
            "34\n"
          ]
        },
        {
          "output_type": "display_data",
          "data": {
            "text/plain": [
              "<PIL.BmpImagePlugin.BmpImageFile image mode=L size=200x200 at 0x7F2C1829FD30>"
            ],
            "image/png": "[encoded data removed]"
          },
          "metadata": {}
        },
        {
          "output_type": "stream",
          "name": "stdout",
          "text": [
            "35\n"
          ]
        }
      ]
    },
    {
      "cell_type": "code",
      "source": [
        "fig = Image.fromarray(img_np)\n",
        "fig.show()"
      ],
      "metadata": {
        "colab": {
          "base_uri": "https://localhost:8080/",
          "height": 217
        },
        "id": "AxDoJ9Tv0dXZ",
        "outputId": "75947de1-f23f-4169-fea3-49757a5a8e5f"
      },
      "execution_count": 7,
      "outputs": [
        {
          "output_type": "display_data",
          "data": {
            "text/plain": [
              "<PIL.Image.Image image mode=L size=200x200 at 0x7F2C1830EA30>"
            ],
            "image/png": "[encoded data removed]"
          },
          "metadata": {}
        }
      ]
    },
    {
      "cell_type": "code",
      "source": [
        "fig = Image.open('Lekagul Roadways.bmp')\n",
        "fig_rgb = fig.convert('RGB')\n",
        "fig_rgb.show()"
      ],
      "metadata": {
        "colab": {
          "base_uri": "https://localhost:8080/",
          "height": 217
        },
        "id": "PEiw53gnIZqo",
        "outputId": "028a8d44-93a1-4932-f003-364247791a7f"
      },
      "execution_count": 8,
      "outputs": [
        {
          "output_type": "display_data",
          "data": {
            "text/plain": [
              "<PIL.Image.Image image mode=RGB size=200x200 at 0x7F2C1830E820>"
            ],
            "image/png": "[encoded data removed]"
          },
          "metadata": {}
        }
      ]
    },
    {
      "cell_type": "code",
      "source": [
        "fig_np = np.array(fig_rgb)\n",
        "print(fig_np.shape)\n",
        "print(fig_np.dtype)"
      ],
      "metadata": {
        "colab": {
          "base_uri": "https://localhost:8080/"
        },
        "id": "L6aY6-ojLVyn",
        "outputId": "a0ddca26-7d44-49c1-d5bb-c32227d82574"
      },
      "execution_count": 9,
      "outputs": [
        {
          "output_type": "stream",
          "name": "stdout",
          "text": [
            "(200, 200, 3)\n",
            "uint8\n"
          ]
        }
      ]
    },
    {
      "cell_type": "code",
      "source": [
        "saved_tuple = {}\n",
        "for i in range(200):\n",
        "  for j in range(200):\n",
        "    cur_tuple = (fig_np[i][j][0], fig_np[i][j][1], fig_np[i][j][2])\n",
        "    if cur_tuple not in saved_tuple.keys():\n",
        "      temp = np.ones_like(fig_np, dtype=np.uint8)\n",
        "      for l in range(200):\n",
        "        for k in range(200):\n",
        "          for z in range(3):\n",
        "            temp[l, k, z] = cur_tuple[z]\n",
        "      temp_jpg = Image.fromarray(temp)\n",
        "      temp_jpg.show()\n",
        "      print('%d_%d_%d.jpg' % cur_tuple)\n",
        "      temp_jpg.save('%d_%d_%d.jpg' % cur_tuple)\n",
        "      saved_tuple[cur_tuple] = (i, j)"
      ],
      "metadata": {
        "colab": {
          "base_uri": "https://localhost:8080/",
          "height": 1000
        },
        "id": "M_johA1fLjYM",
        "outputId": "ab5211ca-04b0-437b-9a0b-736321e4f004"
      },
      "execution_count": 10,
      "outputs": [
        {
          "output_type": "display_data",
          "data": {
            "text/plain": [
              "<PIL.Image.Image image mode=RGB size=200x200 at 0x7F2C1829D430>"
            ],
            "image/png": "[encoded data removed]"
          },
          "metadata": {}
        },
        {
          "output_type": "stream",
          "name": "stdout",
          "text": [
            "0_0_0.jpg\n"
          ]
        },
        {
          "output_type": "display_data",
          "data": {
            "text/plain": [
              "<PIL.Image.Image image mode=RGB size=200x200 at 0x7F2C18D99D30>"
            ],
            "image/png": "[encoded data removed]"
          },
          "metadata": {}
        },
        {
          "output_type": "stream",
          "name": "stdout",
          "text": [
            "255_255_255.jpg\n"
          ]
        },
        {
          "output_type": "display_data",
          "data": {
            "text/plain": [
              "<PIL.Image.Image image mode=RGB size=200x200 at 0x7F2C1829DE80>"
            ],
            "image/png": "[encoded data removed]"
          },
          "metadata": {}
        },
        {
          "output_type": "stream",
          "name": "stdout",
          "text": [
            "0_255_255.jpg\n"
          ]
        },
        {
          "output_type": "display_data",
          "data": {
            "text/plain": [
              "<PIL.Image.Image image mode=RGB size=200x200 at 0x7F2C1829D430>"
            ],
            "image/png": "[encoded data removed]"
          },
          "metadata": {}
        },
        {
          "output_type": "stream",
          "name": "stdout",
          "text": [
            "76_255_0.jpg\n"
          ]
        },
        {
          "output_type": "display_data",
          "data": {
            "text/plain": [
              "<PIL.Image.Image image mode=RGB size=200x200 at 0x7F2C18523A60>"
            ],
            "image/png": "[encoded data removed]"
          },
          "metadata": {}
        },
        {
          "output_type": "stream",
          "name": "stdout",
          "text": [
            "17_17_17.jpg\n"
          ]
        },
        {
          "output_type": "display_data",
          "data": {
            "text/plain": [
              "<PIL.Image.Image image mode=RGB size=200x200 at 0x7F2C18523640>"
            ],
            "image/png": "[encoded data removed]"
          },
          "metadata": {}
        },
        {
          "output_type": "stream",
          "name": "stdout",
          "text": [
            "255_216_0.jpg\n"
          ]
        },
        {
          "output_type": "display_data",
          "data": {
            "text/plain": [
              "<PIL.Image.Image image mode=RGB size=200x200 at 0x7F2C1829DBE0>"
            ],
            "image/png": "[encoded data removed]"
          },
          "metadata": {}
        },
        {
          "output_type": "stream",
          "name": "stdout",
          "text": [
            "18_18_18.jpg\n"
          ]
        },
        {
          "output_type": "display_data",
          "data": {
            "text/plain": [
              "<PIL.Image.Image image mode=RGB size=200x200 at 0x7F2C18D99F10>"
            ],
            "image/png": "[encoded data removed]"
          },
          "metadata": {}
        },
        {
          "output_type": "stream",
          "name": "stdout",
          "text": [
            "16_16_16.jpg\n"
          ]
        },
        {
          "output_type": "display_data",
          "data": {
            "text/plain": [
              "<PIL.Image.Image image mode=RGB size=200x200 at 0x7F2C18523B80>"
            ],
            "image/png": "[encoded data removed]"
          },
          "metadata": {}
        },
        {
          "output_type": "stream",
          "name": "stdout",
          "text": [
            "24_24_24.jpg\n"
          ]
        },
        {
          "output_type": "display_data",
          "data": {
            "text/plain": [
              "<PIL.Image.Image image mode=RGB size=200x200 at 0x7F2C1829DDC0>"
            ],
            "image/png": "[encoded data removed]"
          },
          "metadata": {}
        },
        {
          "output_type": "stream",
          "name": "stdout",
          "text": [
            "23_23_23.jpg\n"
          ]
        },
        {
          "output_type": "display_data",
          "data": {
            "text/plain": [
              "<PIL.Image.Image image mode=RGB size=200x200 at 0x7F2C18D99550>"
            ],
            "image/png": "[encoded data removed]"
          },
          "metadata": {}
        },
        {
          "output_type": "stream",
          "name": "stdout",
          "text": [
            "25_25_25.jpg\n"
          ]
        },
        {
          "output_type": "display_data",
          "data": {
            "text/plain": [
              "<PIL.Image.Image image mode=RGB size=200x200 at 0x7F2C18523640>"
            ],
            "image/png": "[encoded data removed]"
          },
          "metadata": {}
        },
        {
          "output_type": "stream",
          "name": "stdout",
          "text": [
            "19_19_19.jpg\n"
          ]
        },
        {
          "output_type": "display_data",
          "data": {
            "text/plain": [
              "<PIL.Image.Image image mode=RGB size=200x200 at 0x7F2C18D99550>"
            ],
            "image/png": "[encoded data removed]"
          },
          "metadata": {}
        },
        {
          "output_type": "stream",
          "name": "stdout",
          "text": [
            "255_0_0.jpg\n"
          ]
        },
        {
          "output_type": "display_data",
          "data": {
            "text/plain": [
              "<PIL.Image.Image image mode=RGB size=200x200 at 0x7F2C18D99F10>"
            ],
            "image/png": "[encoded data removed]"
          },
          "metadata": {}
        },
        {
          "output_type": "stream",
          "name": "stdout",
          "text": [
            "1_1_1.jpg\n"
          ]
        },
        {
          "output_type": "display_data",
          "data": {
            "text/plain": [
              "<PIL.Image.Image image mode=RGB size=200x200 at 0x7F2C1829DBE0>"
            ],
            "image/png": "[encoded data removed]"
          },
          "metadata": {}
        },
        {
          "output_type": "stream",
          "name": "stdout",
          "text": [
            "255_106_0.jpg\n"
          ]
        },
        {
          "output_type": "display_data",
          "data": {
            "text/plain": [
              "<PIL.Image.Image image mode=RGB size=200x200 at 0x7F2C18D99610>"
            ],
            "image/png": "[encoded data removed]"
          },
          "metadata": {}
        },
        {
          "output_type": "stream",
          "name": "stdout",
          "text": [
            "70_70_70.jpg\n"
          ]
        },
        {
          "output_type": "display_data",
          "data": {
            "text/plain": [
              "<PIL.Image.Image image mode=RGB size=200x200 at 0x7F2C18D99D30>"
            ],
            "image/png": "[encoded data removed]"
          },
          "metadata": {}
        },
        {
          "output_type": "stream",
          "name": "stdout",
          "text": [
            "20_20_20.jpg\n"
          ]
        },
        {
          "output_type": "display_data",
          "data": {
            "text/plain": [
              "<PIL.Image.Image image mode=RGB size=200x200 at 0x7F2C1829FD00>"
            ],
            "image/png": "[encoded data removed]"
          },
          "metadata": {}
        },
        {
          "output_type": "stream",
          "name": "stdout",
          "text": [
            "64_64_64.jpg\n"
          ]
        },
        {
          "output_type": "display_data",
          "data": {
            "text/plain": [
              "<PIL.Image.Image image mode=RGB size=200x200 at 0x7F2C18523B80>"
            ],
            "image/png": "[encoded data removed]"
          },
          "metadata": {}
        },
        {
          "output_type": "stream",
          "name": "stdout",
          "text": [
            "21_21_21.jpg\n"
          ]
        },
        {
          "output_type": "display_data",
          "data": {
            "text/plain": [
              "<PIL.Image.Image image mode=RGB size=200x200 at 0x7F2C18D99D30>"
            ],
            "image/png": "[encoded data removed]"
          },
          "metadata": {}
        },
        {
          "output_type": "stream",
          "name": "stdout",
          "text": [
            "6_6_6.jpg\n"
          ]
        },
        {
          "output_type": "display_data",
          "data": {
            "text/plain": [
              "<PIL.Image.Image image mode=RGB size=200x200 at 0x7F2C1829D160>"
            ],
            "image/png": "[encoded data removed]"
          },
          "metadata": {}
        },
        {
          "output_type": "stream",
          "name": "stdout",
          "text": [
            "22_22_22.jpg\n"
          ]
        },
        {
          "output_type": "display_data",
          "data": {
            "text/plain": [
              "<PIL.Image.Image image mode=RGB size=200x200 at 0x7F2C1829FD00>"
            ],
            "image/png": "[encoded data removed]"
          },
          "metadata": {}
        },
        {
          "output_type": "stream",
          "name": "stdout",
          "text": [
            "46_46_46.jpg\n"
          ]
        },
        {
          "output_type": "display_data",
          "data": {
            "text/plain": [
              "<PIL.Image.Image image mode=RGB size=200x200 at 0x7F2C1829D400>"
            ],
            "image/png": "[encoded data removed]"
          },
          "metadata": {}
        },
        {
          "output_type": "stream",
          "name": "stdout",
          "text": [
            "72_72_72.jpg\n"
          ]
        },
        {
          "output_type": "display_data",
          "data": {
            "text/plain": [
              "<PIL.Image.Image image mode=RGB size=200x200 at 0x7F2C18D99610>"
            ],
            "image/png": "[encoded data removed]"
          },
          "metadata": {}
        },
        {
          "output_type": "stream",
          "name": "stdout",
          "text": [
            "67_67_67.jpg\n"
          ]
        },
        {
          "output_type": "display_data",
          "data": {
            "text/plain": [
              "<PIL.Image.Image image mode=RGB size=200x200 at 0x7F2C1829DDC0>"
            ],
            "image/png": "[encoded data removed]"
          },
          "metadata": {}
        },
        {
          "output_type": "stream",
          "name": "stdout",
          "text": [
            "5_5_5.jpg\n"
          ]
        },
        {
          "output_type": "display_data",
          "data": {
            "text/plain": [
              "<PIL.Image.Image image mode=RGB size=200x200 at 0x7F2C1829FD30>"
            ],
            "image/png": "[encoded data removed]"
          },
          "metadata": {}
        },
        {
          "output_type": "stream",
          "name": "stdout",
          "text": [
            "14_14_14.jpg\n"
          ]
        },
        {
          "output_type": "display_data",
          "data": {
            "text/plain": [
              "<PIL.Image.Image image mode=RGB size=200x200 at 0x7F2C18D99550>"
            ],
            "image/png": "[encoded data removed]"
          },
          "metadata": {}
        },
        {
          "output_type": "stream",
          "name": "stdout",
          "text": [
            "31_31_31.jpg\n"
          ]
        },
        {
          "output_type": "display_data",
          "data": {
            "text/plain": [
              "<PIL.Image.Image image mode=RGB size=200x200 at 0x7F2C1829D160>"
            ],
            "image/png": "[encoded data removed]"
          },
          "metadata": {}
        },
        {
          "output_type": "stream",
          "name": "stdout",
          "text": [
            "66_66_66.jpg\n"
          ]
        },
        {
          "output_type": "display_data",
          "data": {
            "text/plain": [
              "<PIL.Image.Image image mode=RGB size=200x200 at 0x7F2C18523C40>"
            ],
            "image/png": "[encoded data removed]"
          },
          "metadata": {}
        },
        {
          "output_type": "stream",
          "name": "stdout",
          "text": [
            "68_68_68.jpg\n"
          ]
        },
        {
          "output_type": "display_data",
          "data": {
            "text/plain": [
              "<PIL.Image.Image image mode=RGB size=200x200 at 0x7F2C18D998E0>"
            ],
            "image/png": "[encoded data removed]"
          },
          "metadata": {}
        },
        {
          "output_type": "stream",
          "name": "stdout",
          "text": [
            "239_239_239.jpg\n"
          ]
        },
        {
          "output_type": "display_data",
          "data": {
            "text/plain": [
              "<PIL.Image.Image image mode=RGB size=200x200 at 0x7F2C1829FD30>"
            ],
            "image/png": "[encoded data removed]"
          },
          "metadata": {}
        },
        {
          "output_type": "stream",
          "name": "stdout",
          "text": [
            "65_65_65.jpg\n"
          ]
        },
        {
          "output_type": "display_data",
          "data": {
            "text/plain": [
              "<PIL.Image.Image image mode=RGB size=200x200 at 0x7F2C18D998E0>"
            ],
            "image/png": "[encoded data removed]"
          },
          "metadata": {}
        },
        {
          "output_type": "stream",
          "name": "stdout",
          "text": [
            "9_9_9.jpg\n"
          ]
        },
        {
          "output_type": "display_data",
          "data": {
            "text/plain": [
              "<PIL.Image.Image image mode=RGB size=200x200 at 0x7F2C1829FCD0>"
            ],
            "image/png": "[encoded data removed]"
          },
          "metadata": {}
        },
        {
          "output_type": "stream",
          "name": "stdout",
          "text": [
            "2_2_2.jpg\n"
          ]
        },
        {
          "output_type": "display_data",
          "data": {
            "text/plain": [
              "<PIL.Image.Image image mode=RGB size=200x200 at 0x7F2C1829DDC0>"
            ],
            "image/png": "[encoded data removed]"
          },
          "metadata": {}
        },
        {
          "output_type": "stream",
          "name": "stdout",
          "text": [
            "3_3_3.jpg\n"
          ]
        },
        {
          "output_type": "display_data",
          "data": {
            "text/plain": [
              "<PIL.Image.Image image mode=RGB size=200x200 at 0x7F2C1829FD30>"
            ],
            "image/png": "[encoded data removed]"
          },
          "metadata": {}
        },
        {
          "output_type": "stream",
          "name": "stdout",
          "text": [
            "255_0_220.jpg\n"
          ]
        },
        {
          "output_type": "display_data",
          "data": {
            "text/plain": [
              "<PIL.Image.Image image mode=RGB size=200x200 at 0x7F2C18523A00>"
            ],
            "image/png": "[encoded data removed]"
          },
          "metadata": {}
        },
        {
          "output_type": "stream",
          "name": "stdout",
          "text": [
            "8_8_8.jpg\n"
          ]
        }
      ]
    },
    {
      "cell_type": "code",
      "source": [
        "to_clean = [(17, 17, 17), (18, 18, 18), (16, 16, 16), (24, 24, 24), (23, 23, 23), (25, 25, 25), \n",
        "            (19, 19, 19), (1, 1, 1), (20, 20, 20), (70, 70, 70), (64, 64, 64), (21, 21, 21), \n",
        "            (6, 6, 6), (22, 22, 22), (46, 46, 46), (72, 72, 72), (67, 67, 67), (5, 5, 5), \n",
        "            (14, 14, 14), (31, 31, 31), (66, 66, 66), (68, 68, 68)]"
      ],
      "metadata": {
        "id": "RG4vCx9xP6Z-"
      },
      "execution_count": null,
      "outputs": []
    },
    {
      "cell_type": "code",
      "source": [
        "# Clean and convert the bmp into a jpg\n",
        "fig_np = np.array(Image.open('Lekagul Roadways.bmp').convert('RGB'))\n",
        "for i in range(200):\n",
        "  for j in range(200):\n",
        "    cur_tuple = fig_np[i, j, :]\n",
        "    flag = cur_tuple[0] == cur_tuple[1] and cur_tuple[1] == cur_tuple[2]\n",
        "    if flag:\n",
        "      fig_np[i, j, :] = np.ones((3), dtype=np.uint8)*255 if cur_tuple[0] > 123 \\\n",
        "                                          else np.zeros((3), dtype=np.uint8)\n",
        "cleaned_fig_np = fig_np\n",
        "cleaned_fig_jpg = Image.fromarray(cleaned_fig_np)\n",
        "cleaned_fig_jpg.show()\n",
        "cleaned_fig_jpg.save('cleaned_roadways.jpg')\n"
      ],
      "metadata": {
        "colab": {
          "base_uri": "https://localhost:8080/",
          "height": 217
        },
        "id": "uhBaf6U7Q3Dd",
        "outputId": "aca6117b-8f98-47c2-e9cd-424372fc8b39"
      },
      "execution_count": 11,
      "outputs": [
        {
          "output_type": "display_data",
          "data": {
            "text/plain": [
              "<PIL.Image.Image image mode=RGB size=200x200 at 0x7F2C19B8AA30>"
            ],
            "image/png": "[encoded data removed]"
          },
          "metadata": {}
        }
      ]
    },
    {
      "cell_type": "code",
      "source": [
        "name_list = ['general_gate', 'entrance', 'ranger_stop', 'gate', 'camping', 'ranger_base']\n",
        "name_color_dict = {\n",
        "    'general_gate':(0, 255, 255),\n",
        "    'entrance':(76, 255, 0),\n",
        "    'ranger_stop':(255, 216, 0),\n",
        "    'gate':(255, 0, 0),\n",
        "    'camping':(255, 106, 0),\n",
        "    'ranger_base':(255, 0 , 220)\n",
        "}"
      ],
      "metadata": {
        "id": "K7rfuE0MSG0G"
      },
      "execution_count": 12,
      "outputs": []
    },
    {
      "cell_type": "code",
      "source": [
        "color_name_dict = {}\n",
        "for key in name_color_dict:\n",
        "  color_name_dict[name_color_dict[key]] = key\n",
        "# print(color_name_dict)"
      ],
      "metadata": {
        "id": "TlLeIcsIjVw8"
      },
      "execution_count": 13,
      "outputs": []
    },
    {
      "cell_type": "code",
      "source": [
        "sensor_coordinate_dict = {}\n",
        "coordinate_sensor_dict = {}\n",
        "sensor_index_dict = {}\n",
        "index_sensor_dict = {}\n",
        "name_count = {}\n",
        "index = 50\n",
        "for i in range(200):\n",
        "  for j in range(200):\n",
        "    cur = (cleaned_fig_np[i, j, 0], cleaned_fig_np[i, j, 1], cleaned_fig_np[i, j, 2])\n",
        "    if cur in color_name_dict.keys():\n",
        "      sensor_type = color_name_dict[cur]\n",
        "      if sensor_type not in name_count.keys():\n",
        "        name_count[sensor_type] = 0\n",
        "      sensor = (sensor_type+'_%d') % name_count[sensor_type]\n",
        "      name_count[sensor_type] += 1\n",
        "      sensor_index_dict[sensor] = index\n",
        "      index_sensor_dict[index] = sensor\n",
        "      sensor_coordinate_dict[sensor] = (i, j)\n",
        "      coordinate_sensor_dict[(i, j)] = sensor\n",
        "      index += 1"
      ],
      "metadata": {
        "id": "_Puy8QbUj6sg"
      },
      "execution_count": 14,
      "outputs": []
    },
    {
      "cell_type": "code",
      "source": [
        "# Create a simplified graph for DFS\n",
        "graph = np.zeros((200, 200), dtype=np.uint8)\n",
        "for i in range(200):\n",
        "  for j in range(200):\n",
        "    cur = (cleaned_fig_np[i, j, 0], cleaned_fig_np[i, j, 1], cleaned_fig_np[i, j, 2])\n",
        "    if cur == (255, 255, 255):\n",
        "      graph[i][j] = 1\n",
        "      continue\n",
        "    if (i, j) in coordinate_sensor_dict.keys():\n",
        "      id = sensor_index_dict[coordinate_sensor_dict[(i, j)]]\n",
        "      graph[i][j] = id\n",
        "# print(graph)"
      ],
      "metadata": {
        "id": "su3LqhPdoK27"
      },
      "execution_count": 15,
      "outputs": []
    },
    {
      "cell_type": "code",
      "source": [
        "action_list = ['up', 'down', 'left', 'right']\n",
        "last_action = None\n",
        "distance = 0.\n",
        "weighted_graph = np.zeros((index, index), dtype=np.float32)\n",
        "graph_copy = graph.copy()\n",
        "\n",
        "def compute_distance(x1, y1, x2, y2):\n",
        "  global distance\n",
        "  global last_action\n",
        "  global graph_copy\n",
        "  global action_list\n",
        "  # print(last_action)\n",
        "  if x1 == x2 and y1 == y2: \n",
        "    return True\n",
        "  if x1 < 0 or x1 >= 200 or y1 < 0 or y1 >= 200:\n",
        "    return False\n",
        "  if graph_copy[x1][y1] != 1:\n",
        "    return False\n",
        "  graph_copy[x1][y1] = 0\n",
        "  for action in action_list:\n",
        "    if last_action != None:\n",
        "      new_dist = np.sqrt(2) if (action in ['up', 'down'] and last_action in ['left', 'right']) or \\\n",
        "                            (action in ['left', 'right'] and last_action in ['up', 'down']) else 1. \n",
        "    else: \n",
        "      new_dist = 1.\n",
        "    temp = last_action\n",
        "    last_action = action\n",
        "    # print(last_action)\n",
        "    distance += new_dist\n",
        "    if action == 'up':\n",
        "      done = compute_distance(x1, y1-1, x2, y2)\n",
        "    elif action == 'down':\n",
        "      done = compute_distance(x1, y1+1, x2, y2)\n",
        "    elif action == 'left':\n",
        "      done = compute_distance(x1-1, y1, x2, y2)\n",
        "    else:\n",
        "      done = compute_distance(x1+1, y1, x2, y2)\n",
        "    if done: return True\n",
        "    last_action = temp\n",
        "    distance -= new_dist\n",
        "\n",
        "# Calculate the distances\n",
        "sensor_distance_dict = {}\n",
        "for sensor1 in sensor_coordinate_dict.keys():\n",
        "  id1 = sensor_index_dict[sensor1]\n",
        "  x1, y1 = sensor_coordinate_dict[sensor1]\n",
        "  for sensor2 in sensor_coordinate_dict.keys():\n",
        "    id2 = sensor_index_dict[sensor2]\n",
        "    x2, y2 = sensor_coordinate_dict[sensor2]\n",
        "    if id1 == id2: continue\n",
        "    last_action = None\n",
        "    distance = 0.\n",
        "    graph_copy = graph.copy()\n",
        "    graph_copy[x1][y1] = 1\n",
        "    graph_copy[x2][y2] = 1\n",
        "    done = compute_distance(x1, y1, x2, y2)\n",
        "    if done:\n",
        "      sensor_distance_dict[(sensor1, sensor2)] = distance \n",
        "      sensor_distance_dict[(sensor2, sensor1)] = distance \n",
        "    else:\n",
        "      sensor_distance_dict[(sensor1, sensor2)] = -1\n",
        "      sensor_distance_dict[(sensor2, sensor1)] = -1\n",
        "print(sensor_distance_dict)\n",
        "\n"
      ],
      "metadata": {
        "id": "hUX_9zKGqgrL",
        "colab": {
          "base_uri": "https://localhost:8080/"
        },
        "outputId": "db4d572c-c819-4aab-cfa7-acca068494e1"
      },
      "execution_count": 28,
      "outputs": [
        {
          "output_type": "stream",
          "name": "stdout",
          "text": [
            "{('general_gate_0', 'entrance_0'): -1, ('entrance_0', 'general_gate_0'): -1, ('general_gate_0', 'ranger_stop_0'): -1, ('ranger_stop_0', 'general_gate_0'): -1, ('general_gate_0', 'ranger_stop_1'): -1, ('ranger_stop_1', 'general_gate_0'): -1, ('general_gate_0', 'general_gate_1'): -1, ('general_gate_1', 'general_gate_0'): -1, ('general_gate_0', 'general_gate_2'): 246.0782104868025, ('general_gate_2', 'general_gate_0'): 246.0782104868025, ('general_gate_0', 'gate_0'): -1, ('gate_0', 'general_gate_0'): -1, ('general_gate_0', 'ranger_stop_2'): -1, ('ranger_stop_2', 'general_gate_0'): -1, ('general_gate_0', 'camping_0'): -1, ('camping_0', 'general_gate_0'): -1, ('general_gate_0', 'gate_1'): -1, ('gate_1', 'general_gate_0'): -1, ('general_gate_0', 'ranger_stop_3'): -1, ('ranger_stop_3', 'general_gate_0'): -1, ('general_gate_0', 'camping_1'): 279.705627484772, ('camping_1', 'general_gate_0'): 279.705627484772, ('general_gate_0', 'camping_2'): 93.46803743153538, ('camping_2', 'general_gate_0'): 93.46803743153538, ('general_gate_0', 'gate_2'): -1, ('gate_2', 'general_gate_0'): -1, ('general_gate_0', 'general_gate_3'): 295.3624817342644, ('general_gate_3', 'general_gate_0'): 295.3624817342644, ('general_gate_0', 'gate_3'): 220.52186130069813, ('gate_3', 'general_gate_0'): 220.52186130069813, ('general_gate_0', 'camping_3'): -1, ('camping_3', 'general_gate_0'): -1, ('general_gate_0', 'entrance_1'): -1, ('entrance_1', 'general_gate_0'): -1, ('general_gate_0', 'camping_4'): -1, ('camping_4', 'general_gate_0'): -1, ('general_gate_0', 'entrance_2'): 274.5634918610409, ('entrance_2', 'general_gate_0'): 274.5634918610409, ('general_gate_0', 'camping_5'): -1, ('camping_5', 'general_gate_0'): -1, ('general_gate_0', 'ranger_stop_4'): -1, ('ranger_stop_4', 'general_gate_0'): -1, ('general_gate_0', 'general_gate_4'): -1, ('general_gate_4', 'general_gate_0'): -1, ('general_gate_0', 'general_gate_5'): 169.26702730475898, ('general_gate_5', 'general_gate_0'): 169.26702730475898, ('general_gate_0', 'gate_4'): 332.5046173579956, ('gate_4', 'general_gate_0'): 332.5046173579956, ('general_gate_0', 'ranger_stop_5'): -1, ('ranger_stop_5', 'general_gate_0'): -1, ('general_gate_0', 'camping_6'): -1, ('camping_6', 'general_gate_0'): -1, ('general_gate_0', 'general_gate_6'): 411.2447327281735, ('general_gate_6', 'general_gate_0'): 411.2447327281735, ('general_gate_0', 'general_gate_7'): -1, ('general_gate_7', 'general_gate_0'): -1, ('general_gate_0', 'camping_7'): -1, ('camping_7', 'general_gate_0'): -1, ('general_gate_0', 'gate_5'): 420.90158697766594, ('gate_5', 'general_gate_0'): 420.90158697766594, ('general_gate_0', 'ranger_stop_6'): -1, ('ranger_stop_6', 'general_gate_0'): -1, ('general_gate_0', 'gate_6'): -1, ('gate_6', 'general_gate_0'): -1, ('general_gate_0', 'ranger_stop_7'): -1, ('ranger_stop_7', 'general_gate_0'): -1, ('general_gate_0', 'gate_7'): -1, ('gate_7', 'general_gate_0'): -1, ('general_gate_0', 'entrance_3'): -1, ('entrance_3', 'general_gate_0'): -1, ('general_gate_0', 'ranger_base_0'): -1, ('ranger_base_0', 'general_gate_0'): -1, ('general_gate_0', 'camping_8'): 482.84271247462055, ('camping_8', 'general_gate_0'): 482.84271247462055, ('general_gate_0', 'gate_8'): 473.5290039756357, ('gate_8', 'general_gate_0'): 473.5290039756357, ('general_gate_0', 'entrance_4'): 474.11479041326265, ('entrance_4', 'general_gate_0'): 474.11479041326265, ('entrance_0', 'ranger_stop_0'): -1, ('ranger_stop_0', 'entrance_0'): -1, ('entrance_0', 'ranger_stop_1'): -1, ('ranger_stop_1', 'entrance_0'): -1, ('entrance_0', 'general_gate_1'): 15.242640687119287, ('general_gate_1', 'entrance_0'): 15.242640687119287, ('entrance_0', 'general_gate_2'): -1, ('general_gate_2', 'entrance_0'): -1, ('entrance_0', 'gate_0'): 25.071067811865518, ('gate_0', 'entrance_0'): 25.071067811865518, ('entrance_0', 'ranger_stop_2'): -1, ('ranger_stop_2', 'entrance_0'): -1, ('entrance_0', 'camping_0'): -1, ('camping_0', 'entrance_0'): -1, ('entrance_0', 'gate_1'): -1, ('gate_1', 'entrance_0'): -1, ('entrance_0', 'ranger_stop_3'): -1, ('ranger_stop_3', 'entrance_0'): -1, ('entrance_0', 'camping_1'): -1, ('camping_1', 'entrance_0'): -1, ('entrance_0', 'camping_2'): -1, ('camping_2', 'entrance_0'): -1, ('entrance_0', 'gate_2'): -1, ('gate_2', 'entrance_0'): -1, ('entrance_0', 'general_gate_3'): -1, ('general_gate_3', 'entrance_0'): -1, ('entrance_0', 'gate_3'): -1, ('gate_3', 'entrance_0'): -1, ('entrance_0', 'camping_3'): -1, ('camping_3', 'entrance_0'): -1, ('entrance_0', 'entrance_1'): -1, ('entrance_1', 'entrance_0'): -1, ('entrance_0', 'camping_4'): -1, ('camping_4', 'entrance_0'): -1, ('entrance_0', 'entrance_2'): -1, ('entrance_2', 'entrance_0'): -1, ('entrance_0', 'camping_5'): -1, ('camping_5', 'entrance_0'): -1, ('entrance_0', 'ranger_stop_4'): -1, ('ranger_stop_4', 'entrance_0'): -1, ('entrance_0', 'general_gate_4'): 157.48023074035515, ('general_gate_4', 'entrance_0'): 157.48023074035515, ('entrance_0', 'general_gate_5'): -1, ('general_gate_5', 'entrance_0'): -1, ('entrance_0', 'gate_4'): -1, ('gate_4', 'entrance_0'): -1, ('entrance_0', 'ranger_stop_5'): -1, ('ranger_stop_5', 'entrance_0'): -1, ('entrance_0', 'camping_6'): -1, ('camping_6', 'entrance_0'): -1, ('entrance_0', 'general_gate_6'): -1, ('general_gate_6', 'entrance_0'): -1, ('entrance_0', 'general_gate_7'): 319.3746750430845, ('general_gate_7', 'entrance_0'): 319.3746750430845, ('entrance_0', 'camping_7'): -1, ('camping_7', 'entrance_0'): -1, ('entrance_0', 'gate_5'): -1, ('gate_5', 'entrance_0'): -1, ('entrance_0', 'ranger_stop_6'): -1, ('ranger_stop_6', 'entrance_0'): -1, ('entrance_0', 'gate_6'): 251.29141392239887, ('gate_6', 'entrance_0'): 251.29141392239887, ('entrance_0', 'ranger_stop_7'): -1, ('ranger_stop_7', 'entrance_0'): -1, ('entrance_0', 'gate_7'): 373.9432175380085, ('gate_7', 'entrance_0'): 373.9432175380085, ('entrance_0', 'entrance_3'): 265.8772003600258, ('entrance_3', 'entrance_0'): 265.8772003600258, ('entrance_0', 'ranger_base_0'): -1, ('ranger_base_0', 'entrance_0'): -1, ('entrance_0', 'camping_8'): -1, ('camping_8', 'entrance_0'): -1, ('entrance_0', 'gate_8'): -1, ('gate_8', 'entrance_0'): -1, ('entrance_0', 'entrance_4'): -1, ('entrance_4', 'entrance_0'): -1, ('ranger_stop_0', 'ranger_stop_1'): -1, ('ranger_stop_1', 'ranger_stop_0'): -1, ('ranger_stop_0', 'general_gate_1'): -1, ('general_gate_1', 'ranger_stop_0'): -1, ('ranger_stop_0', 'general_gate_2'): 42.11269837220808, ('general_gate_2', 'ranger_stop_0'): 42.11269837220808, ('ranger_stop_0', 'gate_0'): -1, ('gate_0', 'ranger_stop_0'): -1, ('ranger_stop_0', 'ranger_stop_2'): 36.62741699796952, ('ranger_stop_2', 'ranger_stop_0'): 36.62741699796952, ('ranger_stop_0', 'camping_0'): -1, ('camping_0', 'ranger_stop_0'): -1, ('ranger_stop_0', 'gate_1'): -1, ('gate_1', 'ranger_stop_0'): -1, ('ranger_stop_0', 'ranger_stop_3'): -1, ('ranger_stop_3', 'ranger_stop_0'): -1, ('ranger_stop_0', 'camping_1'): -1, ('camping_1', 'ranger_stop_0'): -1, ('ranger_stop_0', 'camping_2'): -1, ('camping_2', 'ranger_stop_0'): -1, ('ranger_stop_0', 'gate_2'): -1, ('gate_2', 'ranger_stop_0'): -1, ('ranger_stop_0', 'general_gate_3'): -1, ('general_gate_3', 'ranger_stop_0'): -1, ('ranger_stop_0', 'gate_3'): -1, ('gate_3', 'ranger_stop_0'): -1, ('ranger_stop_0', 'camping_3'): -1, ('camping_3', 'ranger_stop_0'): -1, ('ranger_stop_0', 'entrance_1'): -1, ('entrance_1', 'ranger_stop_0'): -1, ('ranger_stop_0', 'camping_4'): -1, ('camping_4', 'ranger_stop_0'): -1, ('ranger_stop_0', 'entrance_2'): -1, ('entrance_2', 'ranger_stop_0'): -1, ('ranger_stop_0', 'camping_5'): -1, ('camping_5', 'ranger_stop_0'): -1, ('ranger_stop_0', 'ranger_stop_4'): -1, ('ranger_stop_4', 'ranger_stop_0'): -1, ('ranger_stop_0', 'general_gate_4'): -1, ('general_gate_4', 'ranger_stop_0'): -1, ('ranger_stop_0', 'general_gate_5'): -1, ('general_gate_5', 'ranger_stop_0'): -1, ('ranger_stop_0', 'gate_4'): -1, ('gate_4', 'ranger_stop_0'): -1, ('ranger_stop_0', 'ranger_stop_5'): -1, ('ranger_stop_5', 'ranger_stop_0'): -1, ('ranger_stop_0', 'camping_6'): -1, ('camping_6', 'ranger_stop_0'): -1, ('ranger_stop_0', 'general_gate_6'): -1, ('general_gate_6', 'ranger_stop_0'): -1, ('ranger_stop_0', 'general_gate_7'): -1, ('general_gate_7', 'ranger_stop_0'): -1, ('ranger_stop_0', 'camping_7'): -1, ('camping_7', 'ranger_stop_0'): -1, ('ranger_stop_0', 'gate_5'): -1, ('gate_5', 'ranger_stop_0'): -1, ('ranger_stop_0', 'ranger_stop_6'): -1, ('ranger_stop_6', 'ranger_stop_0'): -1, ('ranger_stop_0', 'gate_6'): -1, ('gate_6', 'ranger_stop_0'): -1, ('ranger_stop_0', 'ranger_stop_7'): -1, ('ranger_stop_7', 'ranger_stop_0'): -1, ('ranger_stop_0', 'gate_7'): -1, ('gate_7', 'ranger_stop_0'): -1, ('ranger_stop_0', 'entrance_3'): -1, ('entrance_3', 'ranger_stop_0'): -1, ('ranger_stop_0', 'ranger_base_0'): -1, ('ranger_base_0', 'ranger_stop_0'): -1, ('ranger_stop_0', 'camping_8'): -1, ('camping_8', 'ranger_stop_0'): -1, ('ranger_stop_0', 'gate_8'): -1, ('gate_8', 'ranger_stop_0'): -1, ('ranger_stop_0', 'entrance_4'): -1, ('entrance_4', 'ranger_stop_0'): -1, ('ranger_stop_1', 'general_gate_1'): -1, ('general_gate_1', 'ranger_stop_1'): -1, ('ranger_stop_1', 'general_gate_2'): -1, ('general_gate_2', 'ranger_stop_1'): -1, ('ranger_stop_1', 'gate_0'): -1, ('gate_0', 'ranger_stop_1'): -1, ('ranger_stop_1', 'ranger_stop_2'): -1, ('ranger_stop_2', 'ranger_stop_1'): -1, ('ranger_stop_1', 'camping_0'): -1, ('camping_0', 'ranger_stop_1'): -1, ('ranger_stop_1', 'gate_1'): -1, ('gate_1', 'ranger_stop_1'): -1, ('ranger_stop_1', 'ranger_stop_3'): -1, ('ranger_stop_3', 'ranger_stop_1'): -1, ('ranger_stop_1', 'camping_1'): -1, ('camping_1', 'ranger_stop_1'): -1, ('ranger_stop_1', 'camping_2'): -1, ('camping_2', 'ranger_stop_1'): -1, ('ranger_stop_1', 'gate_2'): 66.74011537017756, ('gate_2', 'ranger_stop_1'): 66.74011537017756, ('ranger_stop_1', 'general_gate_3'): -1, ('general_gate_3', 'ranger_stop_1'): -1, ('ranger_stop_1', 'gate_3'): -1, ('gate_3', 'ranger_stop_1'): -1, ('ranger_stop_1', 'camping_3'): -1, ('camping_3', 'ranger_stop_1'): -1, ('ranger_stop_1', 'entrance_1'): -1, ('entrance_1', 'ranger_stop_1'): -1, ('ranger_stop_1', 'camping_4'): -1, ('camping_4', 'ranger_stop_1'): -1, ('ranger_stop_1', 'entrance_2'): -1, ('entrance_2', 'ranger_stop_1'): -1, ('ranger_stop_1', 'camping_5'): -1, ('camping_5', 'ranger_stop_1'): -1, ('ranger_stop_1', 'ranger_stop_4'): -1, ('ranger_stop_4', 'ranger_stop_1'): -1, ('ranger_stop_1', 'general_gate_4'): -1, ('general_gate_4', 'ranger_stop_1'): -1, ('ranger_stop_1', 'general_gate_5'): -1, ('general_gate_5', 'ranger_stop_1'): -1, ('ranger_stop_1', 'gate_4'): -1, ('gate_4', 'ranger_stop_1'): -1, ('ranger_stop_1', 'ranger_stop_5'): -1, ('ranger_stop_5', 'ranger_stop_1'): -1, ('ranger_stop_1', 'camping_6'): -1, ('camping_6', 'ranger_stop_1'): -1, ('ranger_stop_1', 'general_gate_6'): -1, ('general_gate_6', 'ranger_stop_1'): -1, ('ranger_stop_1', 'general_gate_7'): -1, ('general_gate_7', 'ranger_stop_1'): -1, ('ranger_stop_1', 'camping_7'): -1, ('camping_7', 'ranger_stop_1'): -1, ('ranger_stop_1', 'gate_5'): -1, ('gate_5', 'ranger_stop_1'): -1, ('ranger_stop_1', 'ranger_stop_6'): -1, ('ranger_stop_6', 'ranger_stop_1'): -1, ('ranger_stop_1', 'gate_6'): -1, ('gate_6', 'ranger_stop_1'): -1, ('ranger_stop_1', 'ranger_stop_7'): -1, ('ranger_stop_7', 'ranger_stop_1'): -1, ('ranger_stop_1', 'gate_7'): -1, ('gate_7', 'ranger_stop_1'): -1, ('ranger_stop_1', 'entrance_3'): -1, ('entrance_3', 'ranger_stop_1'): -1, ('ranger_stop_1', 'ranger_base_0'): -1, ('ranger_base_0', 'ranger_stop_1'): -1, ('ranger_stop_1', 'camping_8'): -1, ('camping_8', 'ranger_stop_1'): -1, ('ranger_stop_1', 'gate_8'): -1, ('gate_8', 'ranger_stop_1'): -1, ('ranger_stop_1', 'entrance_4'): -1, ('entrance_4', 'ranger_stop_1'): -1, ('general_gate_1', 'general_gate_2'): -1, ('general_gate_2', 'general_gate_1'): -1, ('general_gate_1', 'gate_0'): 12.656854249492422, ('gate_0', 'general_gate_1'): 12.656854249492422, ('general_gate_1', 'ranger_stop_2'): 31.79898987322334, ('ranger_stop_2', 'general_gate_1'): 31.79898987322334, ('general_gate_1', 'camping_0'): -1, ('camping_0', 'general_gate_1'): -1, ('general_gate_1', 'gate_1'): -1, ('gate_1', 'general_gate_1'): -1, ('general_gate_1', 'ranger_stop_3'): -1, ('ranger_stop_3', 'general_gate_1'): -1, ('general_gate_1', 'camping_1'): -1, ('camping_1', 'general_gate_1'): -1, ('general_gate_1', 'camping_2'): -1, ('camping_2', 'general_gate_1'): -1, ('general_gate_1', 'gate_2'): -1, ('gate_2', 'general_gate_1'): -1, ('general_gate_1', 'general_gate_3'): -1, ('general_gate_3', 'general_gate_1'): -1, ('general_gate_1', 'gate_3'): -1, ('gate_3', 'general_gate_1'): -1, ('general_gate_1', 'camping_3'): -1, ('camping_3', 'general_gate_1'): -1, ('general_gate_1', 'entrance_1'): -1, ('entrance_1', 'general_gate_1'): -1, ('general_gate_1', 'camping_4'): -1, ('camping_4', 'general_gate_1'): -1, ('general_gate_1', 'entrance_2'): -1, ('entrance_2', 'general_gate_1'): -1, ('general_gate_1', 'camping_5'): -1, ('camping_5', 'general_gate_1'): -1, ('general_gate_1', 'ranger_stop_4'): -1, ('ranger_stop_4', 'general_gate_1'): -1, ('general_gate_1', 'general_gate_4'): 145.06601717798205, ('general_gate_4', 'general_gate_1'): 145.06601717798205, ('general_gate_1', 'general_gate_5'): -1, ('general_gate_5', 'general_gate_1'): -1, ('general_gate_1', 'gate_4'): -1, ('gate_4', 'general_gate_1'): -1, ('general_gate_1', 'ranger_stop_5'): -1, ('ranger_stop_5', 'general_gate_1'): -1, ('general_gate_1', 'camping_6'): -1, ('camping_6', 'general_gate_1'): -1, ('general_gate_1', 'general_gate_6'): -1, ('general_gate_6', 'general_gate_1'): -1, ('general_gate_1', 'general_gate_7'): 306.9604614807114, ('general_gate_7', 'general_gate_1'): 306.9604614807114, ('general_gate_1', 'camping_7'): -1, ('camping_7', 'general_gate_1'): -1, ('general_gate_1', 'gate_5'): -1, ('gate_5', 'general_gate_1'): -1, ('general_gate_1', 'ranger_stop_6'): -1, ('ranger_stop_6', 'general_gate_1'): -1, ('general_gate_1', 'gate_6'): 238.87720036002577, ('gate_6', 'general_gate_1'): 238.87720036002577, ('general_gate_1', 'ranger_stop_7'): -1, ('ranger_stop_7', 'general_gate_1'): -1, ('general_gate_1', 'gate_7'): 361.5290039756354, ('gate_7', 'general_gate_1'): 361.5290039756354, ('general_gate_1', 'entrance_3'): 253.46298679765272, ('entrance_3', 'general_gate_1'): 253.46298679765272, ('general_gate_1', 'ranger_base_0'): -1, ('ranger_base_0', 'general_gate_1'): -1, ('general_gate_1', 'camping_8'): -1, ('camping_8', 'general_gate_1'): -1, ('general_gate_1', 'gate_8'): -1, ('gate_8', 'general_gate_1'): -1, ('general_gate_1', 'entrance_4'): -1, ('entrance_4', 'general_gate_1'): -1, ('general_gate_2', 'gate_0'): -1, ('gate_0', 'general_gate_2'): -1, ('general_gate_2', 'ranger_stop_2'): -1, ('ranger_stop_2', 'general_gate_2'): -1, ('general_gate_2', 'camping_0'): -1, ('camping_0', 'general_gate_2'): -1, ('general_gate_2', 'gate_1'): -1, ('gate_1', 'general_gate_2'): -1, ('general_gate_2', 'ranger_stop_3'): -1, ('ranger_stop_3', 'general_gate_2'): -1, ('general_gate_2', 'camping_1'): 236.42135623730985, ('camping_1', 'general_gate_2'): 236.42135623730985, ('general_gate_2', 'camping_2'): 159.43860018001263, ('camping_2', 'general_gate_2'): 159.43860018001263, ('general_gate_2', 'gate_2'): -1, ('gate_2', 'general_gate_2'): -1, ('general_gate_2', 'general_gate_3'): 252.07821048680228, ('general_gate_3', 'general_gate_2'): 252.07821048680228, ('general_gate_2', 'gate_3'): 177.237590053236, ('gate_3', 'general_gate_2'): 177.237590053236, ('general_gate_2', 'camping_3'): -1, ('camping_3', 'general_gate_2'): -1, ('general_gate_2', 'entrance_1'): -1, ('entrance_1', 'general_gate_2'): -1, ('general_gate_2', 'camping_4'): -1, ('camping_4', 'general_gate_2'): -1, ('general_gate_2', 'entrance_2'): 231.2792206135788, ('entrance_2', 'general_gate_2'): 231.2792206135788, ('general_gate_2', 'camping_5'): -1, ('camping_5', 'general_gate_2'): -1, ('general_gate_2', 'ranger_stop_4'): -1, ('ranger_stop_4', 'general_gate_2'): -1, ('general_gate_2', 'general_gate_4'): -1, ('general_gate_4', 'general_gate_2'): -1, ('general_gate_2', 'general_gate_5'): 125.98275605729685, ('general_gate_5', 'general_gate_2'): 125.98275605729685, ('general_gate_2', 'gate_4'): 289.22034611053346, ('gate_4', 'general_gate_2'): 289.22034611053346, ('general_gate_2', 'ranger_stop_5'): -1, ('ranger_stop_5', 'general_gate_2'): -1, ('general_gate_2', 'camping_6'): -1, ('camping_6', 'general_gate_2'): -1, ('general_gate_2', 'general_gate_6'): 367.9604614807114, ('general_gate_6', 'general_gate_2'): 367.9604614807114, ('general_gate_2', 'general_gate_7'): -1, ('general_gate_7', 'general_gate_2'): -1, ('general_gate_2', 'camping_7'): -1, ('camping_7', 'general_gate_2'): -1, ('general_gate_2', 'gate_5'): 377.6173157302038, ('gate_5', 'general_gate_2'): 377.6173157302038, ('general_gate_2', 'ranger_stop_6'): -1, ('ranger_stop_6', 'general_gate_2'): -1, ('general_gate_2', 'gate_6'): -1, ('gate_6', 'general_gate_2'): -1, ('general_gate_2', 'ranger_stop_7'): -1, ('ranger_stop_7', 'general_gate_2'): -1, ('general_gate_2', 'gate_7'): -1, ('gate_7', 'general_gate_2'): -1, ('general_gate_2', 'entrance_3'): -1, ('entrance_3', 'general_gate_2'): -1, ('general_gate_2', 'ranger_base_0'): -1, ('ranger_base_0', 'general_gate_2'): -1, ('general_gate_2', 'camping_8'): 439.5584412271584, ('camping_8', 'general_gate_2'): 439.5584412271584, ('general_gate_2', 'gate_8'): 430.2447327281736, ('gate_8', 'general_gate_2'): 430.2447327281736, ('general_gate_2', 'entrance_4'): 430.8305191658005, ('entrance_4', 'general_gate_2'): 430.8305191658005, ('gate_0', 'ranger_stop_2'): -1, ('ranger_stop_2', 'gate_0'): -1, ('gate_0', 'camping_0'): -1, ('camping_0', 'gate_0'): -1, ('gate_0', 'gate_1'): 20.142135623730947, ('gate_1', 'gate_0'): 20.142135623730947, ('gate_0', 'ranger_stop_3'): -1, ('ranger_stop_3', 'gate_0'): -1, ('gate_0', 'camping_1'): -1, ('camping_1', 'gate_0'): -1, ('gate_0', 'camping_2'): -1, ('camping_2', 'gate_0'): -1, ('gate_0', 'gate_2'): -1, ('gate_2', 'gate_0'): -1, ('gate_0', 'general_gate_3'): -1, ('general_gate_3', 'gate_0'): -1, ('gate_0', 'gate_3'): -1, ('gate_3', 'gate_0'): -1, ('gate_0', 'camping_3'): -1, ('camping_3', 'gate_0'): -1, ('gate_0', 'entrance_1'): -1, ('entrance_1', 'gate_0'): -1, ('gate_0', 'camping_4'): -1, ('camping_4', 'gate_0'): -1, ('gate_0', 'entrance_2'): -1, ('entrance_2', 'gate_0'): -1, ('gate_0', 'camping_5'): -1, ('camping_5', 'gate_0'): -1, ('gate_0', 'ranger_stop_4'): -1, ('ranger_stop_4', 'gate_0'): -1, ('gate_0', 'general_gate_4'): 134.40916292848962, ('general_gate_4', 'gate_0'): 134.40916292848962, ('gate_0', 'general_gate_5'): -1, ('general_gate_5', 'gate_0'): -1, ('gate_0', 'gate_4'): -1, ('gate_4', 'gate_0'): -1, ('gate_0', 'ranger_stop_5'): -1, ('ranger_stop_5', 'gate_0'): -1, ('gate_0', 'camping_6'): -1, ('camping_6', 'gate_0'): -1, ('gate_0', 'general_gate_6'): -1, ('general_gate_6', 'gate_0'): -1, ('gate_0', 'general_gate_7'): 296.30360723121896, ('general_gate_7', 'gate_0'): 296.30360723121896, ('gate_0', 'camping_7'): -1, ('camping_7', 'gate_0'): -1, ('gate_0', 'gate_5'): -1, ('gate_5', 'gate_0'): -1, ('gate_0', 'ranger_stop_6'): -1, ('ranger_stop_6', 'gate_0'): -1, ('gate_0', 'gate_6'): 228.22034611053334, ('gate_6', 'gate_0'): 228.22034611053334, ('gate_0', 'ranger_stop_7'): -1, ('ranger_stop_7', 'gate_0'): -1, ('gate_0', 'gate_7'): 350.872149726143, ('gate_7', 'gate_0'): 350.872149726143, ('gate_0', 'entrance_3'): 242.8061325481603, ('entrance_3', 'gate_0'): 242.8061325481603, ('gate_0', 'ranger_base_0'): -1, ('ranger_base_0', 'gate_0'): -1, ('gate_0', 'camping_8'): -1, ('camping_8', 'gate_0'): -1, ('gate_0', 'gate_8'): -1, ('gate_8', 'gate_0'): -1, ('gate_0', 'entrance_4'): -1, ('entrance_4', 'gate_0'): -1, ('ranger_stop_2', 'camping_0'): -1, ('camping_0', 'ranger_stop_2'): -1, ('ranger_stop_2', 'gate_1'): -1, ('gate_1', 'ranger_stop_2'): -1, ('ranger_stop_2', 'ranger_stop_3'): -1, ('ranger_stop_3', 'ranger_stop_2'): -1, ('ranger_stop_2', 'camping_1'): -1, ('camping_1', 'ranger_stop_2'): -1, ('ranger_stop_2', 'camping_2'): -1, ('camping_2', 'ranger_stop_2'): -1, ('ranger_stop_2', 'gate_2'): -1, ('gate_2', 'ranger_stop_2'): -1, ('ranger_stop_2', 'general_gate_3'): -1, ('general_gate_3', 'ranger_stop_2'): -1, ('ranger_stop_2', 'gate_3'): -1, ('gate_3', 'ranger_stop_2'): -1, ('ranger_stop_2', 'camping_3'): -1, ('camping_3', 'ranger_stop_2'): -1, ('ranger_stop_2', 'entrance_1'): -1, ('entrance_1', 'ranger_stop_2'): -1, ('ranger_stop_2', 'camping_4'): -1, ('camping_4', 'ranger_stop_2'): -1, ('ranger_stop_2', 'entrance_2'): -1, ('entrance_2', 'ranger_stop_2'): -1, ('ranger_stop_2', 'camping_5'): -1, ('camping_5', 'ranger_stop_2'): -1, ('ranger_stop_2', 'ranger_stop_4'): -1, ('ranger_stop_4', 'ranger_stop_2'): -1, ('ranger_stop_2', 'general_gate_4'): -1, ('general_gate_4', 'ranger_stop_2'): -1, ('ranger_stop_2', 'general_gate_5'): -1, ('general_gate_5', 'ranger_stop_2'): -1, ('ranger_stop_2', 'gate_4'): -1, ('gate_4', 'ranger_stop_2'): -1, ('ranger_stop_2', 'ranger_stop_5'): -1, ('ranger_stop_5', 'ranger_stop_2'): -1, ('ranger_stop_2', 'camping_6'): -1, ('camping_6', 'ranger_stop_2'): -1, ('ranger_stop_2', 'general_gate_6'): -1, ('general_gate_6', 'ranger_stop_2'): -1, ('ranger_stop_2', 'general_gate_7'): -1, ('general_gate_7', 'ranger_stop_2'): -1, ('ranger_stop_2', 'camping_7'): -1, ('camping_7', 'ranger_stop_2'): -1, ('ranger_stop_2', 'gate_5'): -1, ('gate_5', 'ranger_stop_2'): -1, ('ranger_stop_2', 'ranger_stop_6'): -1, ('ranger_stop_6', 'ranger_stop_2'): -1, ('ranger_stop_2', 'gate_6'): -1, ('gate_6', 'ranger_stop_2'): -1, ('ranger_stop_2', 'ranger_stop_7'): -1, ('ranger_stop_7', 'ranger_stop_2'): -1, ('ranger_stop_2', 'gate_7'): -1, ('gate_7', 'ranger_stop_2'): -1, ('ranger_stop_2', 'entrance_3'): -1, ('entrance_3', 'ranger_stop_2'): -1, ('ranger_stop_2', 'ranger_base_0'): -1, ('ranger_base_0', 'ranger_stop_2'): -1, ('ranger_stop_2', 'camping_8'): -1, ('camping_8', 'ranger_stop_2'): -1, ('ranger_stop_2', 'gate_8'): -1, ('gate_8', 'ranger_stop_2'): -1, ('ranger_stop_2', 'entrance_4'): -1, ('entrance_4', 'ranger_stop_2'): -1, ('camping_0', 'gate_1'): 10.65685424949238, ('gate_1', 'camping_0'): 10.65685424949238, ('camping_0', 'ranger_stop_3'): -1, ('ranger_stop_3', 'camping_0'): -1, ('camping_0', 'camping_1'): -1, ('camping_1', 'camping_0'): -1, ('camping_0', 'camping_2'): -1, ('camping_2', 'camping_0'): -1, ('camping_0', 'gate_2'): 217.32085117392157, ('gate_2', 'camping_0'): 217.32085117392157, ('camping_0', 'general_gate_3'): -1, ('general_gate_3', 'camping_0'): -1, ('camping_0', 'gate_3'): -1, ('gate_3', 'camping_0'): -1, ('camping_0', 'camping_3'): 259.6051224213837, ('camping_3', 'camping_0'): 259.6051224213837, ('camping_0', 'entrance_1'): 200.4213562373098, ('entrance_1', 'camping_0'): 200.4213562373098, ('camping_0', 'camping_4'): 107.61017305526633, ('camping_4', 'camping_0'): 107.61017305526633, ('camping_0', 'entrance_2'): -1, ('entrance_2', 'camping_0'): -1, ('camping_0', 'camping_5'): 116.4386001800125, ('camping_5', 'camping_0'): 116.4386001800125, ('camping_0', 'ranger_stop_4'): -1, ('ranger_stop_4', 'camping_0'): -1, ('camping_0', 'general_gate_4'): -1, ('general_gate_4', 'camping_0'): -1, ('camping_0', 'general_gate_5'): -1, ('general_gate_5', 'camping_0'): -1, ('camping_0', 'gate_4'): -1, ('gate_4', 'camping_0'): -1, ('camping_0', 'ranger_stop_5'): -1, ('ranger_stop_5', 'camping_0'): -1, ('camping_0', 'camping_6'): -1, ('camping_6', 'camping_0'): -1, ('camping_0', 'general_gate_6'): -1, ('general_gate_6', 'camping_0'): -1, ('camping_0', 'general_gate_7'): 230.39191898578713, ('general_gate_7', 'camping_0'): 230.39191898578713, ('camping_0', 'camping_7'): -1, ('camping_7', 'camping_0'): -1, ('camping_0', 'gate_5'): -1, ('gate_5', 'camping_0'): -1, ('camping_0', 'ranger_stop_6'): -1, ('ranger_stop_6', 'camping_0'): -1, ('camping_0', 'gate_6'): -1, ('gate_6', 'camping_0'): -1, ('camping_0', 'ranger_stop_7'): -1, ('ranger_stop_7', 'camping_0'): -1, ('camping_0', 'gate_7'): -1, ('gate_7', 'camping_0'): -1, ('camping_0', 'entrance_3'): -1, ('entrance_3', 'camping_0'): -1, ('camping_0', 'ranger_base_0'): -1, ('ranger_base_0', 'camping_0'): -1, ('camping_0', 'camping_8'): -1, ('camping_8', 'camping_0'): -1, ('camping_0', 'gate_8'): -1, ('gate_8', 'camping_0'): -1, ('camping_0', 'entrance_4'): -1, ('entrance_4', 'camping_0'): -1, ('gate_1', 'ranger_stop_3'): -1, ('ranger_stop_3', 'gate_1'): -1, ('gate_1', 'camping_1'): -1, ('camping_1', 'gate_1'): -1, ('gate_1', 'camping_2'): -1, ('camping_2', 'gate_1'): -1, ('gate_1', 'gate_2'): 208.66399692442914, ('gate_2', 'gate_1'): 208.66399692442914, ('gate_1', 'general_gate_3'): -1, ('general_gate_3', 'gate_1'): -1, ('gate_1', 'gate_3'): -1, ('gate_3', 'gate_1'): -1, ('gate_1', 'camping_3'): 250.9482681718913, ('camping_3', 'gate_1'): 250.9482681718913, ('gate_1', 'entrance_1'): 191.76450198781737, ('entrance_1', 'gate_1'): 191.76450198781737, ('gate_1', 'camping_4'): 98.95331880577396, ('camping_4', 'gate_1'): 98.95331880577396, ('gate_1', 'entrance_2'): -1, ('entrance_2', 'gate_1'): -1, ('gate_1', 'camping_5'): 107.78174593052013, ('camping_5', 'gate_1'): 107.78174593052013, ('gate_1', 'ranger_stop_4'): -1, ('ranger_stop_4', 'gate_1'): -1, ('gate_1', 'general_gate_4'): -1, ('general_gate_4', 'gate_1'): -1, ('gate_1', 'general_gate_5'): -1, ('general_gate_5', 'gate_1'): -1, ('gate_1', 'gate_4'): -1, ('gate_4', 'gate_1'): -1, ('gate_1', 'ranger_stop_5'): -1, ('ranger_stop_5', 'gate_1'): -1, ('gate_1', 'camping_6'): -1, ('camping_6', 'gate_1'): -1, ('gate_1', 'general_gate_6'): -1, ('general_gate_6', 'gate_1'): -1, ('gate_1', 'general_gate_7'): 221.7350647362947, ('general_gate_7', 'gate_1'): 221.7350647362947, ('gate_1', 'camping_7'): -1, ('camping_7', 'gate_1'): -1, ('gate_1', 'gate_5'): -1, ('gate_5', 'gate_1'): -1, ('gate_1', 'ranger_stop_6'): -1, ('ranger_stop_6', 'gate_1'): -1, ('gate_1', 'gate_6'): -1, ('gate_6', 'gate_1'): -1, ('gate_1', 'ranger_stop_7'): -1, ('ranger_stop_7', 'gate_1'): -1, ('gate_1', 'gate_7'): -1, ('gate_7', 'gate_1'): -1, ('gate_1', 'entrance_3'): -1, ('entrance_3', 'gate_1'): -1, ('gate_1', 'ranger_base_0'): -1, ('ranger_base_0', 'gate_1'): -1, ('gate_1', 'camping_8'): -1, ('camping_8', 'gate_1'): -1, ('gate_1', 'gate_8'): -1, ('gate_8', 'gate_1'): -1, ('gate_1', 'entrance_4'): -1, ('entrance_4', 'gate_1'): -1, ('ranger_stop_3', 'camping_1'): -1, ('camping_1', 'ranger_stop_3'): -1, ('ranger_stop_3', 'camping_2'): -1, ('camping_2', 'ranger_stop_3'): -1, ('ranger_stop_3', 'gate_2'): -1, ('gate_2', 'ranger_stop_3'): -1, ('ranger_stop_3', 'general_gate_3'): -1, ('general_gate_3', 'ranger_stop_3'): -1, ('ranger_stop_3', 'gate_3'): 16.82842712474619, ('gate_3', 'ranger_stop_3'): 16.82842712474619, ('ranger_stop_3', 'camping_3'): -1, ('camping_3', 'ranger_stop_3'): -1, ('ranger_stop_3', 'entrance_1'): -1, ('entrance_1', 'ranger_stop_3'): -1, ('ranger_stop_3', 'camping_4'): -1, ('camping_4', 'ranger_stop_3'): -1, ('ranger_stop_3', 'entrance_2'): -1, ('entrance_2', 'ranger_stop_3'): -1, ('ranger_stop_3', 'camping_5'): -1, ('camping_5', 'ranger_stop_3'): -1, ('ranger_stop_3', 'ranger_stop_4'): -1, ('ranger_stop_4', 'ranger_stop_3'): -1, ('ranger_stop_3', 'general_gate_4'): -1, ('general_gate_4', 'ranger_stop_3'): -1, ('ranger_stop_3', 'general_gate_5'): -1, ('general_gate_5', 'ranger_stop_3'): -1, ('ranger_stop_3', 'gate_4'): -1, ('gate_4', 'ranger_stop_3'): -1, ('ranger_stop_3', 'ranger_stop_5'): -1, ('ranger_stop_5', 'ranger_stop_3'): -1, ('ranger_stop_3', 'camping_6'): -1, ('camping_6', 'ranger_stop_3'): -1, ('ranger_stop_3', 'general_gate_6'): -1, ('general_gate_6', 'ranger_stop_3'): -1, ('ranger_stop_3', 'general_gate_7'): -1, ('general_gate_7', 'ranger_stop_3'): -1, ('ranger_stop_3', 'camping_7'): -1, ('camping_7', 'ranger_stop_3'): -1, ('ranger_stop_3', 'gate_5'): -1, ('gate_5', 'ranger_stop_3'): -1, ('ranger_stop_3', 'ranger_stop_6'): -1, ('ranger_stop_6', 'ranger_stop_3'): -1, ('ranger_stop_3', 'gate_6'): -1, ('gate_6', 'ranger_stop_3'): -1, ('ranger_stop_3', 'ranger_stop_7'): -1, ('ranger_stop_7', 'ranger_stop_3'): -1, ('ranger_stop_3', 'gate_7'): -1, ('gate_7', 'ranger_stop_3'): -1, ('ranger_stop_3', 'entrance_3'): -1, ('entrance_3', 'ranger_stop_3'): -1, ('ranger_stop_3', 'ranger_base_0'): -1, ('ranger_base_0', 'ranger_stop_3'): -1, ('ranger_stop_3', 'camping_8'): -1, ('camping_8', 'ranger_stop_3'): -1, ('ranger_stop_3', 'gate_8'): -1, ('gate_8', 'ranger_stop_3'): -1, ('ranger_stop_3', 'entrance_4'): -1, ('entrance_4', 'ranger_stop_3'): -1, ('camping_1', 'camping_2'): 200.86500705120574, ('camping_2', 'camping_1'): 200.86500705120574, ('camping_1', 'gate_2'): -1, ('gate_2', 'camping_1'): -1, ('camping_1', 'general_gate_3'): 281.84776310850305, ('general_gate_3', 'camping_1'): 281.84776310850305, ('camping_1', 'gate_3'): 63.183766184073534, ('gate_3', 'camping_1'): 63.183766184073534, ('camping_1', 'camping_3'): -1, ('camping_3', 'camping_1'): -1, ('camping_1', 'entrance_1'): -1, ('entrance_1', 'camping_1'): -1, ('camping_1', 'camping_4'): -1, ('camping_4', 'camping_1'): -1, ('camping_1', 'entrance_2'): 261.04877323527955, ('entrance_2', 'camping_1'): 261.04877323527955, ('camping_1', 'camping_5'): -1, ('camping_5', 'camping_1'): -1, ('camping_1', 'ranger_stop_4'): -1, ('ranger_stop_4', 'camping_1'): -1, ('camping_1', 'general_gate_4'): -1, ('general_gate_4', 'camping_1'): -1, ('camping_1', 'general_gate_5'): 155.75230867899745, ('general_gate_5', 'camping_1'): 155.75230867899745, ('camping_1', 'gate_4'): 318.9898987322342, ('gate_4', 'camping_1'): 318.9898987322342, ('camping_1', 'ranger_stop_5'): -1, ('ranger_stop_5', 'camping_1'): -1, ('camping_1', 'camping_6'): -1, ('camping_6', 'camping_1'): -1, ('camping_1', 'general_gate_6'): 397.73001410241216, ('general_gate_6', 'camping_1'): 397.73001410241216, ('camping_1', 'general_gate_7'): -1, ('general_gate_7', 'camping_1'): -1, ('camping_1', 'camping_7'): -1, ('camping_7', 'camping_1'): -1, ('camping_1', 'gate_5'): 407.3868683519046, ('gate_5', 'camping_1'): 407.3868683519046, ('camping_1', 'ranger_stop_6'): -1, ('ranger_stop_6', 'camping_1'): -1, ('camping_1', 'gate_6'): -1, ('gate_6', 'camping_1'): -1, ('camping_1', 'ranger_stop_7'): -1, ('ranger_stop_7', 'camping_1'): -1, ('camping_1', 'gate_7'): -1, ('gate_7', 'camping_1'): -1, ('camping_1', 'entrance_3'): -1, ('entrance_3', 'camping_1'): -1, ('camping_1', 'ranger_base_0'): -1, ('ranger_base_0', 'camping_1'): -1, ('camping_1', 'camping_8'): 469.3279938488592, ('camping_8', 'camping_1'): 469.3279938488592, ('camping_1', 'gate_8'): 460.01428534987434, ('gate_8', 'camping_1'): 460.01428534987434, ('camping_1', 'entrance_4'): 460.6000717875013, ('entrance_4', 'camping_1'): 460.6000717875013, ('camping_2', 'gate_2'): -1, ('gate_2', 'camping_2'): -1, ('camping_2', 'general_gate_3'): 216.5218613006981, ('general_gate_3', 'camping_2'): 216.5218613006981, ('camping_2', 'gate_3'): 141.6812408671319, ('gate_3', 'camping_2'): 141.6812408671319, ('camping_2', 'camping_3'): -1, ('camping_3', 'camping_2'): -1, ('camping_2', 'entrance_1'): -1, ('entrance_1', 'camping_2'): -1, ('camping_2', 'camping_4'): -1, ('camping_4', 'camping_2'): -1, ('camping_2', 'entrance_2'): 195.72287142747462, ('entrance_2', 'camping_2'): 195.72287142747462, ('camping_2', 'camping_5'): -1, ('camping_5', 'camping_2'): -1, ('camping_2', 'ranger_stop_4'): -1, ('ranger_stop_4', 'camping_2'): -1, ('camping_2', 'general_gate_4'): -1, ('general_gate_4', 'camping_2'): -1, ('camping_2', 'general_gate_5'): 90.42640687119285, ('general_gate_5', 'camping_2'): 90.42640687119285, ('camping_2', 'gate_4'): 253.66399692442928, ('gate_4', 'camping_2'): 253.66399692442928, ('camping_2', 'ranger_stop_5'): -1, ('ranger_stop_5', 'camping_2'): -1, ('camping_2', 'camping_6'): -1, ('camping_6', 'camping_2'): -1, ('camping_2', 'general_gate_6'): 332.4041122946072, ('general_gate_6', 'camping_2'): 332.4041122946072, ('camping_2', 'general_gate_7'): -1, ('general_gate_7', 'camping_2'): -1, ('camping_2', 'camping_7'): -1, ('camping_7', 'camping_2'): -1, ('camping_2', 'gate_5'): 342.06096654409964, ('gate_5', 'camping_2'): 342.06096654409964, ('camping_2', 'ranger_stop_6'): -1, ('ranger_stop_6', 'camping_2'): -1, ('camping_2', 'gate_6'): -1, ('gate_6', 'camping_2'): -1, ('camping_2', 'ranger_stop_7'): -1, ('ranger_stop_7', 'camping_2'): -1, ('camping_2', 'gate_7'): -1, ('gate_7', 'camping_2'): -1, ('camping_2', 'entrance_3'): -1, ('entrance_3', 'camping_2'): -1, ('camping_2', 'ranger_base_0'): -1, ('ranger_base_0', 'camping_2'): -1, ('camping_2', 'camping_8'): 404.00209204105425, ('camping_8', 'camping_2'): 404.00209204105425, ('camping_2', 'gate_8'): 394.6883835420694, ('gate_8', 'camping_2'): 394.6883835420694, ('camping_2', 'entrance_4'): 395.27416997969635, ('entrance_4', 'camping_2'): 395.27416997969635, ('gate_2', 'general_gate_3'): -1, ('general_gate_3', 'gate_2'): -1, ('gate_2', 'gate_3'): -1, ('gate_3', 'gate_2'): -1, ('gate_2', 'camping_3'): 44.284271247461895, ('camping_3', 'gate_2'): 44.284271247461895, ('gate_2', 'entrance_1'): 29.38477631085025, ('entrance_1', 'gate_2'): 29.38477631085025, ('gate_2', 'camping_4'): 160.13708498984766, ('camping_4', 'gate_2'): 160.13708498984766, ('gate_2', 'entrance_2'): -1, ('entrance_2', 'gate_2'): -1, ('gate_2', 'camping_5'): 108.53910524340085, ('camping_5', 'gate_2'): 108.53910524340085, ('gate_2', 'ranger_stop_4'): -1, ('ranger_stop_4', 'gate_2'): -1, ('gate_2', 'general_gate_4'): -1, ('general_gate_4', 'gate_2'): -1, ('gate_2', 'general_gate_5'): -1, ('general_gate_5', 'gate_2'): -1, ('gate_2', 'gate_4'): -1, ('gate_4', 'gate_2'): -1, ('gate_2', 'ranger_stop_5'): -1, ('ranger_stop_5', 'gate_2'): -1, ('gate_2', 'camping_6'): -1, ('camping_6', 'gate_2'): -1, ('gate_2', 'general_gate_6'): -1, ('general_gate_6', 'gate_2'): -1, ('gate_2', 'general_gate_7'): 180.2081528017133, ('general_gate_7', 'gate_2'): 180.2081528017133, ('gate_2', 'camping_7'): -1, ('camping_7', 'gate_2'): -1, ('gate_2', 'gate_5'): -1, ('gate_5', 'gate_2'): -1, ('gate_2', 'ranger_stop_6'): -1, ('ranger_stop_6', 'gate_2'): -1, ('gate_2', 'gate_6'): -1, ('gate_6', 'gate_2'): -1, ('gate_2', 'ranger_stop_7'): -1, ('ranger_stop_7', 'gate_2'): -1, ('gate_2', 'gate_7'): -1, ('gate_7', 'gate_2'): -1, ('gate_2', 'entrance_3'): -1, ('entrance_3', 'gate_2'): -1, ('gate_2', 'ranger_base_0'): -1, ('ranger_base_0', 'gate_2'): -1, ('gate_2', 'camping_8'): -1, ('camping_8', 'gate_2'): -1, ('gate_2', 'gate_8'): -1, ('gate_8', 'gate_2'): -1, ('gate_2', 'entrance_4'): -1, ('entrance_4', 'gate_2'): -1, ('general_gate_3', 'gate_3'): 222.66399692442923, ('gate_3', 'general_gate_3'): 222.66399692442923, ('general_gate_3', 'camping_3'): -1, ('camping_3', 'general_gate_3'): -1, ('general_gate_3', 'entrance_1'): -1, ('entrance_1', 'general_gate_3'): -1, ('general_gate_3', 'camping_4'): -1, ('camping_4', 'general_gate_3'): -1, ('general_gate_3', 'entrance_2'): 72.25483399593891, ('entrance_2', 'general_gate_3'): 72.25483399593891, ('general_gate_3', 'camping_5'): -1, ('camping_5', 'general_gate_3'): -1, ('general_gate_3', 'ranger_stop_4'): -1, ('ranger_stop_4', 'general_gate_3'): -1, ('general_gate_3', 'general_gate_4'): -1, ('general_gate_4', 'general_gate_3'): -1, ('general_gate_3', 'general_gate_5'): 147.75230867899737, ('general_gate_5', 'general_gate_3'): 147.75230867899737, ('general_gate_3', 'gate_4'): 130.19595949289322, ('gate_4', 'general_gate_3'): 130.19595949289322, ('general_gate_3', 'ranger_stop_5'): -1, ('ranger_stop_5', 'general_gate_3'): -1, ('general_gate_3', 'camping_6'): -1, ('camping_6', 'general_gate_3'): -1, ('general_gate_3', 'general_gate_6'): 208.9360748630712, ('general_gate_6', 'general_gate_3'): 208.9360748630712, ('general_gate_3', 'general_gate_7'): -1, ('general_gate_7', 'general_gate_3'): -1, ('general_gate_3', 'camping_7'): -1, ('camping_7', 'general_gate_3'): -1, ('general_gate_3', 'gate_5'): 218.59292911256364, ('gate_5', 'general_gate_3'): 218.59292911256364, ('general_gate_3', 'ranger_stop_6'): -1, ('ranger_stop_6', 'general_gate_3'): -1, ('general_gate_3', 'gate_6'): -1, ('gate_6', 'general_gate_3'): -1, ('general_gate_3', 'ranger_stop_7'): -1, ('ranger_stop_7', 'general_gate_3'): -1, ('general_gate_3', 'gate_7'): -1, ('gate_7', 'general_gate_3'): -1, ('general_gate_3', 'entrance_3'): -1, ('entrance_3', 'general_gate_3'): -1, ('general_gate_3', 'ranger_base_0'): -1, ('ranger_base_0', 'general_gate_3'): -1, ('general_gate_3', 'camping_8'): 280.53405460951825, ('camping_8', 'general_gate_3'): 280.53405460951825, ('general_gate_3', 'gate_8'): 271.2203461105334, ('gate_8', 'general_gate_3'): 271.2203461105334, ('general_gate_3', 'entrance_4'): 271.80613254816035, ('entrance_4', 'general_gate_3'): 271.80613254816035, ('gate_3', 'camping_3'): -1, ('camping_3', 'gate_3'): -1, ('gate_3', 'entrance_1'): -1, ('entrance_1', 'gate_3'): -1, ('gate_3', 'camping_4'): -1, ('camping_4', 'gate_3'): -1, ('gate_3', 'entrance_2'): 201.86500705120568, ('entrance_2', 'gate_3'): 201.86500705120568, ('gate_3', 'camping_5'): -1, ('camping_5', 'gate_3'): -1, ('gate_3', 'ranger_stop_4'): -1, ('ranger_stop_4', 'gate_3'): -1, ('gate_3', 'general_gate_4'): -1, ('general_gate_4', 'gate_3'): -1, ('gate_3', 'general_gate_5'): 96.56854249492378, ('general_gate_5', 'gate_3'): 96.56854249492378, ('gate_3', 'gate_4'): 259.80613254816035, ('gate_4', 'gate_3'): 259.80613254816035, ('gate_3', 'ranger_stop_5'): -1, ('ranger_stop_5', 'gate_3'): -1, ('gate_3', 'camping_6'): -1, ('camping_6', 'gate_3'): -1, ('gate_3', 'general_gate_6'): 338.5462479183383, ('general_gate_6', 'gate_3'): 338.5462479183383, ('gate_3', 'general_gate_7'): -1, ('general_gate_7', 'gate_3'): -1, ('gate_3', 'camping_7'): -1, ('camping_7', 'gate_3'): -1, ('gate_3', 'gate_5'): 348.2031021678307, ('gate_5', 'gate_3'): 348.2031021678307, ('gate_3', 'ranger_stop_6'): -1, ('ranger_stop_6', 'gate_3'): -1, ('gate_3', 'gate_6'): -1, ('gate_6', 'gate_3'): -1, ('gate_3', 'ranger_stop_7'): -1, ('ranger_stop_7', 'gate_3'): -1, ('gate_3', 'gate_7'): -1, ('gate_7', 'gate_3'): -1, ('gate_3', 'entrance_3'): -1, ('entrance_3', 'gate_3'): -1, ('gate_3', 'ranger_base_0'): -1, ('ranger_base_0', 'gate_3'): -1, ('gate_3', 'camping_8'): 410.1442276647853, ('camping_8', 'gate_3'): 410.1442276647853, ('gate_3', 'gate_8'): 400.83051916580047, ('gate_8', 'gate_3'): 400.83051916580047, ('gate_3', 'entrance_4'): 401.4163056034274, ('entrance_4', 'gate_3'): 401.4163056034274, ('camping_3', 'entrance_1'): 71.6690475583121, ('entrance_1', 'camping_3'): 71.6690475583121, ('camping_3', 'camping_4'): 202.4213562373098, ('camping_4', 'camping_3'): 202.4213562373098, ('camping_3', 'entrance_2'): -1, ('entrance_2', 'camping_3'): -1, ('camping_3', 'camping_5'): 150.82337649086287, ('camping_5', 'camping_3'): 150.82337649086287, ('camping_3', 'ranger_stop_4'): -1, ('ranger_stop_4', 'camping_3'): -1, ('camping_3', 'general_gate_4'): -1, ('general_gate_4', 'camping_3'): -1, ('camping_3', 'general_gate_5'): -1, ('general_gate_5', 'camping_3'): -1, ('camping_3', 'gate_4'): -1, ('gate_4', 'camping_3'): -1, ('camping_3', 'ranger_stop_5'): -1, ('ranger_stop_5', 'camping_3'): -1, ('camping_3', 'camping_6'): -1, ('camping_6', 'camping_3'): -1, ('camping_3', 'general_gate_6'): -1, ('general_gate_6', 'camping_3'): -1, ('camping_3', 'general_gate_7'): 222.49242404917544, ('general_gate_7', 'camping_3'): 222.49242404917544, ('camping_3', 'camping_7'): -1, ('camping_7', 'camping_3'): -1, ('camping_3', 'gate_5'): -1, ('gate_5', 'camping_3'): -1, ('camping_3', 'ranger_stop_6'): -1, ('ranger_stop_6', 'camping_3'): -1, ('camping_3', 'gate_6'): -1, ('gate_6', 'camping_3'): -1, ('camping_3', 'ranger_stop_7'): -1, ('ranger_stop_7', 'camping_3'): -1, ('camping_3', 'gate_7'): -1, ('gate_7', 'camping_3'): -1, ('camping_3', 'entrance_3'): -1, ('entrance_3', 'camping_3'): -1, ('camping_3', 'ranger_base_0'): -1, ('ranger_base_0', 'camping_3'): -1, ('camping_3', 'camping_8'): -1, ('camping_8', 'camping_3'): -1, ('camping_3', 'gate_8'): -1, ('gate_8', 'camping_3'): -1, ('camping_3', 'entrance_4'): -1, ('entrance_4', 'camping_3'): -1, ('entrance_1', 'camping_4'): 143.23759005323592, ('camping_4', 'entrance_1'): 143.23759005323592, ('entrance_1', 'entrance_2'): -1, ('entrance_2', 'entrance_1'): -1, ('entrance_1', 'camping_5'): 91.63961030678921, ('camping_5', 'entrance_1'): 91.63961030678921, ('entrance_1', 'ranger_stop_4'): -1, ('ranger_stop_4', 'entrance_1'): -1, ('entrance_1', 'general_gate_4'): -1, ('general_gate_4', 'entrance_1'): -1, ('entrance_1', 'general_gate_5'): -1, ('general_gate_5', 'entrance_1'): -1, ('entrance_1', 'gate_4'): -1, ('gate_4', 'entrance_1'): -1, ('entrance_1', 'ranger_stop_5'): -1, ('ranger_stop_5', 'entrance_1'): -1, ('entrance_1', 'camping_6'): -1, ('camping_6', 'entrance_1'): -1, ('entrance_1', 'general_gate_6'): -1, ('general_gate_6', 'entrance_1'): -1, ('entrance_1', 'general_gate_7'): 163.30865786510157, ('general_gate_7', 'entrance_1'): 163.30865786510157, ('entrance_1', 'camping_7'): -1, ('camping_7', 'entrance_1'): -1, ('entrance_1', 'gate_5'): -1, ('gate_5', 'entrance_1'): -1, ('entrance_1', 'ranger_stop_6'): -1, ('ranger_stop_6', 'entrance_1'): -1, ('entrance_1', 'gate_6'): -1, ('gate_6', 'entrance_1'): -1, ('entrance_1', 'ranger_stop_7'): -1, ('ranger_stop_7', 'entrance_1'): -1, ('entrance_1', 'gate_7'): -1, ('gate_7', 'entrance_1'): -1, ('entrance_1', 'entrance_3'): -1, ('entrance_3', 'entrance_1'): -1, ('entrance_1', 'ranger_base_0'): -1, ('ranger_base_0', 'entrance_1'): -1, ('entrance_1', 'camping_8'): -1, ('camping_8', 'entrance_1'): -1, ('entrance_1', 'gate_8'): -1, ('gate_8', 'entrance_1'): -1, ('entrance_1', 'entrance_4'): -1, ('entrance_4', 'entrance_1'): -1, ('camping_4', 'entrance_2'): -1, ('entrance_2', 'camping_4'): -1, ('camping_4', 'camping_5'): 59.25483399593901, ('camping_5', 'camping_4'): 59.25483399593901, ('camping_4', 'ranger_stop_4'): -1, ('ranger_stop_4', 'camping_4'): -1, ('camping_4', 'general_gate_4'): -1, ('general_gate_4', 'camping_4'): -1, ('camping_4', 'general_gate_5'): -1, ('general_gate_5', 'camping_4'): -1, ('camping_4', 'gate_4'): -1, ('gate_4', 'camping_4'): -1, ('camping_4', 'ranger_stop_5'): -1, ('ranger_stop_5', 'camping_4'): -1, ('camping_4', 'camping_6'): -1, ('camping_6', 'camping_4'): -1, ('camping_4', 'general_gate_6'): -1, ('general_gate_6', 'camping_4'): -1, ('camping_4', 'general_gate_7'): 173.20815280171325, ('general_gate_7', 'camping_4'): 173.20815280171325, ('camping_4', 'camping_7'): -1, ('camping_7', 'camping_4'): -1, ('camping_4', 'gate_5'): -1, ('gate_5', 'camping_4'): -1, ('camping_4', 'ranger_stop_6'): -1, ('ranger_stop_6', 'camping_4'): -1, ('camping_4', 'gate_6'): -1, ('gate_6', 'camping_4'): -1, ('camping_4', 'ranger_stop_7'): -1, ('ranger_stop_7', 'camping_4'): -1, ('camping_4', 'gate_7'): -1, ('gate_7', 'camping_4'): -1, ('camping_4', 'entrance_3'): -1, ('entrance_3', 'camping_4'): -1, ('camping_4', 'ranger_base_0'): -1, ('ranger_base_0', 'camping_4'): -1, ('camping_4', 'camping_8'): -1, ('camping_8', 'camping_4'): -1, ('camping_4', 'gate_8'): -1, ('gate_8', 'camping_4'): -1, ('camping_4', 'entrance_4'): -1, ('entrance_4', 'camping_4'): -1, ('entrance_2', 'camping_5'): -1, ('camping_5', 'entrance_2'): -1, ('entrance_2', 'ranger_stop_4'): -1, ('ranger_stop_4', 'entrance_2'): -1, ('entrance_2', 'general_gate_4'): -1, ('general_gate_4', 'entrance_2'): -1, ('entrance_2', 'general_gate_5'): 126.95331880577397, ('general_gate_5', 'entrance_2'): 126.95331880577397, ('entrance_2', 'gate_4'): 83.254833995939, ('gate_4', 'entrance_2'): 83.254833995939, ('entrance_2', 'ranger_stop_5'): -1, ('ranger_stop_5', 'entrance_2'): -1, ('entrance_2', 'camping_6'): -1, ('camping_6', 'entrance_2'): -1, ('entrance_2', 'general_gate_6'): 161.99494936611666, ('general_gate_6', 'entrance_2'): 161.99494936611666, ('entrance_2', 'general_gate_7'): -1, ('general_gate_7', 'entrance_2'): -1, ('entrance_2', 'camping_7'): -1, ('camping_7', 'entrance_2'): -1, ('entrance_2', 'gate_5'): 171.6518036156091, ('gate_5', 'entrance_2'): 171.6518036156091, ('entrance_2', 'ranger_stop_6'): -1, ('ranger_stop_6', 'entrance_2'): -1, ('entrance_2', 'gate_6'): -1, ('gate_6', 'entrance_2'): -1, ('entrance_2', 'ranger_stop_7'): -1, ('ranger_stop_7', 'entrance_2'): -1, ('entrance_2', 'gate_7'): -1, ('gate_7', 'entrance_2'): -1, ('entrance_2', 'entrance_3'): -1, ('entrance_3', 'entrance_2'): -1, ('entrance_2', 'ranger_base_0'): -1, ('ranger_base_0', 'entrance_2'): -1, ('entrance_2', 'camping_8'): 233.5929291125637, ('camping_8', 'entrance_2'): 233.5929291125637, ('entrance_2', 'gate_8'): 224.27922061357887, ('gate_8', 'entrance_2'): 224.27922061357887, ('entrance_2', 'entrance_4'): 224.8650070512058, ('entrance_4', 'entrance_2'): 224.8650070512058, ('camping_5', 'ranger_stop_4'): -1, ('ranger_stop_4', 'camping_5'): -1, ('camping_5', 'general_gate_4'): -1, ('general_gate_4', 'camping_5'): -1, ('camping_5', 'general_gate_5'): -1, ('general_gate_5', 'camping_5'): -1, ('camping_5', 'gate_4'): -1, ('gate_4', 'camping_5'): -1, ('camping_5', 'ranger_stop_5'): -1, ('ranger_stop_5', 'camping_5'): -1, ('camping_5', 'camping_6'): -1, ('camping_6', 'camping_5'): -1, ('camping_5', 'general_gate_6'): -1, ('general_gate_6', 'camping_5'): -1, ('camping_5', 'general_gate_7'): 121.61017305526633, ('general_gate_7', 'camping_5'): 121.61017305526633, ('camping_5', 'camping_7'): -1, ('camping_7', 'camping_5'): -1, ('camping_5', 'gate_5'): -1, ('gate_5', 'camping_5'): -1, ('camping_5', 'ranger_stop_6'): -1, ('ranger_stop_6', 'camping_5'): -1, ('camping_5', 'gate_6'): -1, ('gate_6', 'camping_5'): -1, ('camping_5', 'ranger_stop_7'): -1, ('ranger_stop_7', 'camping_5'): -1, ('camping_5', 'gate_7'): -1, ('gate_7', 'camping_5'): -1, ('camping_5', 'entrance_3'): -1, ('entrance_3', 'camping_5'): -1, ('camping_5', 'ranger_base_0'): -1, ('ranger_base_0', 'camping_5'): -1, ('camping_5', 'camping_8'): -1, ('camping_8', 'camping_5'): -1, ('camping_5', 'gate_8'): -1, ('gate_8', 'camping_5'): -1, ('camping_5', 'entrance_4'): -1, ('entrance_4', 'camping_5'): -1, ('ranger_stop_4', 'general_gate_4'): -1, ('general_gate_4', 'ranger_stop_4'): -1, ('ranger_stop_4', 'general_gate_5'): -1, ('general_gate_5', 'ranger_stop_4'): -1, ('ranger_stop_4', 'gate_4'): -1, ('gate_4', 'ranger_stop_4'): -1, ('ranger_stop_4', 'ranger_stop_5'): -1, ('ranger_stop_5', 'ranger_stop_4'): -1, ('ranger_stop_4', 'camping_6'): 42.21320343559641, ('camping_6', 'ranger_stop_4'): 42.21320343559641, ('ranger_stop_4', 'general_gate_6'): -1, ('general_gate_6', 'ranger_stop_4'): -1, ('ranger_stop_4', 'general_gate_7'): 150.50966799187813, ('general_gate_7', 'ranger_stop_4'): 150.50966799187813, ('ranger_stop_4', 'camping_7'): -1, ('camping_7', 'ranger_stop_4'): -1, ('ranger_stop_4', 'gate_5'): -1, ('gate_5', 'ranger_stop_4'): -1, ('ranger_stop_4', 'ranger_stop_6'): -1, ('ranger_stop_6', 'ranger_stop_4'): -1, ('ranger_stop_4', 'gate_6'): -1, ('gate_6', 'ranger_stop_4'): -1, ('ranger_stop_4', 'ranger_stop_7'): -1, ('ranger_stop_7', 'ranger_stop_4'): -1, ('ranger_stop_4', 'gate_7'): -1, ('gate_7', 'ranger_stop_4'): -1, ('ranger_stop_4', 'entrance_3'): -1, ('entrance_3', 'ranger_stop_4'): -1, ('ranger_stop_4', 'ranger_base_0'): -1, ('ranger_base_0', 'ranger_stop_4'): -1, ('ranger_stop_4', 'camping_8'): -1, ('camping_8', 'ranger_stop_4'): -1, ('ranger_stop_4', 'gate_8'): -1, ('gate_8', 'ranger_stop_4'): -1, ('ranger_stop_4', 'entrance_4'): -1, ('entrance_4', 'ranger_stop_4'): -1, ('general_gate_4', 'general_gate_5'): -1, ('general_gate_5', 'general_gate_4'): -1, ('general_gate_4', 'gate_4'): -1, ('gate_4', 'general_gate_4'): -1, ('general_gate_4', 'ranger_stop_5'): -1, ('ranger_stop_5', 'general_gate_4'): -1, ('general_gate_4', 'camping_6'): -1, ('camping_6', 'general_gate_4'): -1, ('general_gate_4', 'general_gate_6'): -1, ('general_gate_6', 'general_gate_4'): -1, ('general_gate_4', 'general_gate_7'): 266.26197667087615, ('general_gate_7', 'general_gate_4'): 266.26197667087615, ('general_gate_4', 'camping_7'): -1, ('camping_7', 'general_gate_4'): -1, ('general_gate_4', 'gate_5'): -1, ('gate_5', 'general_gate_4'): -1, ('general_gate_4', 'ranger_stop_6'): -1, ('ranger_stop_6', 'general_gate_4'): -1, ('general_gate_4', 'gate_6'): 142.5807358037435, ('gate_6', 'general_gate_4'): 142.5807358037435, ('general_gate_4', 'ranger_stop_7'): -1, ('ranger_stop_7', 'general_gate_4'): -1, ('general_gate_4', 'gate_7'): 320.8305191658002, ('gate_7', 'general_gate_4'): 320.8305191658002, ('general_gate_4', 'entrance_3'): 157.1665222413705, ('entrance_3', 'general_gate_4'): 157.1665222413705, ('general_gate_4', 'ranger_base_0'): -1, ('ranger_base_0', 'general_gate_4'): -1, ('general_gate_4', 'camping_8'): -1, ('camping_8', 'general_gate_4'): -1, ('general_gate_4', 'gate_8'): -1, ('gate_8', 'general_gate_4'): -1, ('general_gate_4', 'entrance_4'): -1, ('entrance_4', 'general_gate_4'): -1, ('general_gate_5', 'gate_4'): 184.89444430272852, ('gate_4', 'general_gate_5'): 184.89444430272852, ('general_gate_5', 'ranger_stop_5'): -1, ('ranger_stop_5', 'general_gate_5'): -1, ('general_gate_5', 'camping_6'): -1, ('camping_6', 'general_gate_5'): -1, ('general_gate_5', 'general_gate_6'): 263.63455967290645, ('general_gate_6', 'general_gate_5'): 263.63455967290645, ('general_gate_5', 'general_gate_7'): -1, ('general_gate_7', 'general_gate_5'): -1, ('general_gate_5', 'camping_7'): -1, ('camping_7', 'general_gate_5'): -1, ('general_gate_5', 'gate_5'): 273.2914139223989, ('gate_5', 'general_gate_5'): 273.2914139223989, ('general_gate_5', 'ranger_stop_6'): -1, ('ranger_stop_6', 'general_gate_5'): -1, ('general_gate_5', 'gate_6'): -1, ('gate_6', 'general_gate_5'): -1, ('general_gate_5', 'ranger_stop_7'): -1, ('ranger_stop_7', 'general_gate_5'): -1, ('general_gate_5', 'gate_7'): -1, ('gate_7', 'general_gate_5'): -1, ('general_gate_5', 'entrance_3'): -1, ('entrance_3', 'general_gate_5'): -1, ('general_gate_5', 'ranger_base_0'): -1, ('ranger_base_0', 'general_gate_5'): -1, ('general_gate_5', 'camping_8'): 335.2325394193535, ('camping_8', 'general_gate_5'): 335.2325394193535, ('general_gate_5', 'gate_8'): 325.91883092036863, ('gate_8', 'general_gate_5'): 325.91883092036863, ('general_gate_5', 'entrance_4'): 326.5046173579956, ('entrance_4', 'general_gate_5'): 326.5046173579956, ('gate_4', 'ranger_stop_5'): 19.899494936611667, ('ranger_stop_5', 'gate_4'): 19.899494936611667, ('gate_4', 'camping_6'): -1, ('camping_6', 'gate_4'): -1, ('gate_4', 'general_gate_6'): 83.56854249492375, ('general_gate_6', 'gate_4'): 83.56854249492375, ('gate_4', 'general_gate_7'): -1, ('general_gate_7', 'gate_4'): -1, ('gate_4', 'camping_7'): -1, ('camping_7', 'gate_4'): -1, ('gate_4', 'gate_5'): 93.22539674441612, ('gate_5', 'gate_4'): 93.22539674441612, ('gate_4', 'ranger_stop_6'): -1, ('ranger_stop_6', 'gate_4'): -1, ('gate_4', 'gate_6'): -1, ('gate_6', 'gate_4'): -1, ('gate_4', 'ranger_stop_7'): -1, ('ranger_stop_7', 'gate_4'): -1, ('gate_4', 'gate_7'): -1, ('gate_7', 'gate_4'): -1, ('gate_4', 'entrance_3'): -1, ('entrance_3', 'gate_4'): -1, ('gate_4', 'ranger_base_0'): -1, ('ranger_base_0', 'gate_4'): -1, ('gate_4', 'camping_8'): 155.1665222413705, ('camping_8', 'gate_4'): 155.1665222413705, ('gate_4', 'gate_8'): 145.85281374238568, ('gate_8', 'gate_4'): 145.85281374238568, ('gate_4', 'entrance_4'): 146.4386001800126, ('entrance_4', 'gate_4'): 146.4386001800126, ('ranger_stop_5', 'camping_6'): -1, ('camping_6', 'ranger_stop_5'): -1, ('ranger_stop_5', 'general_gate_6'): -1, ('general_gate_6', 'ranger_stop_5'): -1, ('ranger_stop_5', 'general_gate_7'): -1, ('general_gate_7', 'ranger_stop_5'): -1, ('ranger_stop_5', 'camping_7'): -1, ('camping_7', 'ranger_stop_5'): -1, ('ranger_stop_5', 'gate_5'): -1, ('gate_5', 'ranger_stop_5'): -1, ('ranger_stop_5', 'ranger_stop_6'): -1, ('ranger_stop_6', 'ranger_stop_5'): -1, ('ranger_stop_5', 'gate_6'): -1, ('gate_6', 'ranger_stop_5'): -1, ('ranger_stop_5', 'ranger_stop_7'): -1, ('ranger_stop_7', 'ranger_stop_5'): -1, ('ranger_stop_5', 'gate_7'): -1, ('gate_7', 'ranger_stop_5'): -1, ('ranger_stop_5', 'entrance_3'): -1, ('entrance_3', 'ranger_stop_5'): -1, ('ranger_stop_5', 'ranger_base_0'): -1, ('ranger_base_0', 'ranger_stop_5'): -1, ('ranger_stop_5', 'camping_8'): -1, ('camping_8', 'ranger_stop_5'): -1, ('ranger_stop_5', 'gate_8'): -1, ('gate_8', 'ranger_stop_5'): -1, ('ranger_stop_5', 'entrance_4'): -1, ('entrance_4', 'ranger_stop_5'): -1, ('camping_6', 'general_gate_6'): -1, ('general_gate_6', 'camping_6'): -1, ('camping_6', 'general_gate_7'): 122.78174593052016, ('general_gate_7', 'camping_6'): 122.78174593052016, ('camping_6', 'camping_7'): -1, ('camping_7', 'camping_6'): -1, ('camping_6', 'gate_5'): -1, ('gate_5', 'camping_6'): -1, ('camping_6', 'ranger_stop_6'): -1, ('ranger_stop_6', 'camping_6'): -1, ('camping_6', 'gate_6'): -1, ('gate_6', 'camping_6'): -1, ('camping_6', 'ranger_stop_7'): -1, ('ranger_stop_7', 'camping_6'): -1, ('camping_6', 'gate_7'): -1, ('gate_7', 'camping_6'): -1, ('camping_6', 'entrance_3'): -1, ('entrance_3', 'camping_6'): -1, ('camping_6', 'ranger_base_0'): -1, ('ranger_base_0', 'camping_6'): -1, ('camping_6', 'camping_8'): -1, ('camping_8', 'camping_6'): -1, ('camping_6', 'gate_8'): -1, ('gate_8', 'camping_6'): -1, ('camping_6', 'entrance_4'): -1, ('entrance_4', 'camping_6'): -1, ('general_gate_6', 'general_gate_7'): -1, ('general_gate_7', 'general_gate_6'): -1, ('general_gate_6', 'camping_7'): 104.46803743153538, ('camping_7', 'general_gate_6'): 104.46803743153538, ('general_gate_6', 'gate_5'): 17.313708498984756, ('gate_5', 'general_gate_6'): 17.313708498984756, ('general_gate_6', 'ranger_stop_6'): -1, ('ranger_stop_6', 'general_gate_6'): -1, ('general_gate_6', 'gate_6'): -1, ('gate_6', 'general_gate_6'): -1, ('general_gate_6', 'ranger_stop_7'): -1, ('ranger_stop_7', 'general_gate_6'): -1, ('general_gate_6', 'gate_7'): -1, ('gate_7', 'general_gate_6'): -1, ('general_gate_6', 'entrance_3'): -1, ('entrance_3', 'general_gate_6'): -1, ('general_gate_6', 'ranger_base_0'): -1, ('ranger_base_0', 'general_gate_6'): -1, ('general_gate_6', 'camping_8'): 79.25483399593902, ('camping_8', 'general_gate_6'): 79.25483399593902, ('general_gate_6', 'gate_8'): 69.94112549695426, ('gate_8', 'general_gate_6'): 69.94112549695426, ('general_gate_6', 'entrance_4'): 70.52691193458118, ('entrance_4', 'general_gate_6'): 70.52691193458118, ('general_gate_7', 'camping_7'): -1, ('camping_7', 'general_gate_7'): -1, ('general_gate_7', 'gate_5'): -1, ('gate_5', 'general_gate_7'): -1, ('general_gate_7', 'ranger_stop_6'): -1, ('ranger_stop_6', 'general_gate_7'): -1, ('general_gate_7', 'gate_6'): 160.65180361560903, ('gate_6', 'general_gate_7'): 160.65180361560903, ('general_gate_7', 'ranger_stop_7'): -1, ('ranger_stop_7', 'general_gate_7'): -1, ('general_gate_7', 'gate_7'): 94.71067811865468, ('gate_7', 'general_gate_7'): 94.71067811865468, ('general_gate_7', 'entrance_3'): 175.23759005323603, ('entrance_3', 'general_gate_7'): 175.23759005323603, ('general_gate_7', 'ranger_base_0'): -1, ('ranger_base_0', 'general_gate_7'): -1, ('general_gate_7', 'camping_8'): -1, ('camping_8', 'general_gate_7'): -1, ('general_gate_7', 'gate_8'): -1, ('gate_8', 'general_gate_7'): -1, ('general_gate_7', 'entrance_4'): -1, ('entrance_4', 'general_gate_7'): -1, ('camping_7', 'gate_5'): -1, ('gate_5', 'camping_7'): -1, ('camping_7', 'ranger_stop_6'): -1, ('ranger_stop_6', 'camping_7'): -1, ('camping_7', 'gate_6'): -1, ('gate_6', 'camping_7'): -1, ('camping_7', 'ranger_stop_7'): -1, ('ranger_stop_7', 'camping_7'): -1, ('camping_7', 'gate_7'): -1, ('gate_7', 'camping_7'): -1, ('camping_7', 'entrance_3'): -1, ('entrance_3', 'camping_7'): -1, ('camping_7', 'ranger_base_0'): -1, ('ranger_base_0', 'camping_7'): -1, ('camping_7', 'camping_8'): -1, ('camping_8', 'camping_7'): -1, ('camping_7', 'gate_8'): -1, ('gate_8', 'camping_7'): -1, ('camping_7', 'entrance_4'): -1, ('entrance_4', 'camping_7'): -1, ('gate_5', 'ranger_stop_6'): 9.82842712474619, ('ranger_stop_6', 'gate_5'): 9.82842712474619, ('gate_5', 'gate_6'): -1, ('gate_6', 'gate_5'): -1, ('gate_5', 'ranger_stop_7'): -1, ('ranger_stop_7', 'gate_5'): -1, ('gate_5', 'gate_7'): -1, ('gate_7', 'gate_5'): -1, ('gate_5', 'entrance_3'): -1, ('entrance_3', 'gate_5'): -1, ('gate_5', 'ranger_base_0'): -1, ('ranger_base_0', 'gate_5'): -1, ('gate_5', 'camping_8'): 64.76955262170044, ('camping_8', 'gate_5'): 64.76955262170044, ('gate_5', 'gate_8'): 55.455844122715696, ('gate_8', 'gate_5'): 55.455844122715696, ('gate_5', 'entrance_4'): 56.0416305603426, ('entrance_4', 'gate_5'): 56.0416305603426, ('ranger_stop_6', 'gate_6'): 13.899494936611674, ('gate_6', 'ranger_stop_6'): 13.899494936611674, ('ranger_stop_6', 'ranger_stop_7'): -1, ('ranger_stop_7', 'ranger_stop_6'): -1, ('ranger_stop_6', 'gate_7'): -1, ('gate_7', 'ranger_stop_6'): -1, ('ranger_stop_6', 'entrance_3'): -1, ('entrance_3', 'ranger_stop_6'): -1, ('ranger_stop_6', 'ranger_base_0'): -1, ('ranger_base_0', 'ranger_stop_6'): -1, ('ranger_stop_6', 'camping_8'): -1, ('camping_8', 'ranger_stop_6'): -1, ('ranger_stop_6', 'gate_8'): -1, ('gate_8', 'ranger_stop_6'): -1, ('ranger_stop_6', 'entrance_4'): -1, ('entrance_4', 'ranger_stop_6'): -1, ('gate_6', 'ranger_stop_7'): -1, ('ranger_stop_7', 'gate_6'): -1, ('gate_6', 'gate_7'): 215.22034611053311, ('gate_7', 'gate_6'): 215.22034611053311, ('gate_6', 'entrance_3'): 17.4142135623731, ('entrance_3', 'gate_6'): 17.4142135623731, ('gate_6', 'ranger_base_0'): -1, ('ranger_base_0', 'gate_6'): -1, ('gate_6', 'camping_8'): -1, ('camping_8', 'gate_6'): -1, ('gate_6', 'gate_8'): -1, ('gate_8', 'gate_6'): -1, ('gate_6', 'entrance_4'): -1, ('entrance_4', 'gate_6'): -1, ('ranger_stop_7', 'gate_7'): 13.485281374238586, ('gate_7', 'ranger_stop_7'): 13.485281374238586, ('ranger_stop_7', 'entrance_3'): -1, ('entrance_3', 'ranger_stop_7'): -1, ('ranger_stop_7', 'ranger_base_0'): -1, ('ranger_base_0', 'ranger_stop_7'): -1, ('ranger_stop_7', 'camping_8'): -1, ('camping_8', 'ranger_stop_7'): -1, ('ranger_stop_7', 'gate_8'): -1, ('gate_8', 'ranger_stop_7'): -1, ('ranger_stop_7', 'entrance_4'): -1, ('entrance_4', 'ranger_stop_7'): -1, ('gate_7', 'entrance_3'): 229.8061325481603, ('entrance_3', 'gate_7'): 229.8061325481603, ('gate_7', 'ranger_base_0'): -1, ('ranger_base_0', 'gate_7'): -1, ('gate_7', 'camping_8'): -1, ('camping_8', 'gate_7'): -1, ('gate_7', 'gate_8'): -1, ('gate_8', 'gate_7'): -1, ('gate_7', 'entrance_4'): -1, ('entrance_4', 'gate_7'): -1, ('entrance_3', 'ranger_base_0'): -1, ('ranger_base_0', 'entrance_3'): -1, ('entrance_3', 'camping_8'): -1, ('camping_8', 'entrance_3'): -1, ('entrance_3', 'gate_8'): -1, ('gate_8', 'entrance_3'): -1, ('entrance_3', 'entrance_4'): -1, ('entrance_4', 'entrance_3'): -1, ('ranger_base_0', 'camping_8'): -1, ('camping_8', 'ranger_base_0'): -1, ('ranger_base_0', 'gate_8'): 20.142135623730955, ('gate_8', 'ranger_base_0'): 20.142135623730955, ('ranger_base_0', 'entrance_4'): -1, ('entrance_4', 'ranger_base_0'): -1, ('camping_8', 'gate_8'): 26.142135623730958, ('gate_8', 'camping_8'): 26.142135623730958, ('camping_8', 'entrance_4'): 26.727922061357862, ('entrance_4', 'camping_8'): 26.727922061357862, ('gate_8', 'entrance_4'): 5.414213562373095, ('entrance_4', 'gate_8'): 5.414213562373095}\n"
          ]
        }
      ]
    },
    {
      "cell_type": "code",
      "source": [
        "for key in sensor_distance_dict.keys():\n",
        "  distance = sensor_distance_dict[key]\n",
        "  if distance != -1:\n",
        "    print(key, distance)"
      ],
      "metadata": {
        "colab": {
          "base_uri": "https://localhost:8080/"
        },
        "id": "BCwfrsBYpTV-",
        "outputId": "0f7a7ff4-a537-47a2-918d-c660889d8123"
      },
      "execution_count": 29,
      "outputs": [
        {
          "output_type": "stream",
          "name": "stdout",
          "text": [
            "('general_gate_0', 'general_gate_2') 246.0782104868025\n",
            "('general_gate_2', 'general_gate_0') 246.0782104868025\n",
            "('general_gate_0', 'camping_1') 279.705627484772\n",
            "('camping_1', 'general_gate_0') 279.705627484772\n",
            "('general_gate_0', 'camping_2') 93.46803743153538\n",
            "('camping_2', 'general_gate_0') 93.46803743153538\n",
            "('general_gate_0', 'general_gate_3') 295.3624817342644\n",
            "('general_gate_3', 'general_gate_0') 295.3624817342644\n",
            "('general_gate_0', 'gate_3') 220.52186130069813\n",
            "('gate_3', 'general_gate_0') 220.52186130069813\n",
            "('general_gate_0', 'entrance_2') 274.5634918610409\n",
            "('entrance_2', 'general_gate_0') 274.5634918610409\n",
            "('general_gate_0', 'general_gate_5') 169.26702730475898\n",
            "('general_gate_5', 'general_gate_0') 169.26702730475898\n",
            "('general_gate_0', 'gate_4') 332.5046173579956\n",
            "('gate_4', 'general_gate_0') 332.5046173579956\n",
            "('general_gate_0', 'general_gate_6') 411.2447327281735\n",
            "('general_gate_6', 'general_gate_0') 411.2447327281735\n",
            "('general_gate_0', 'gate_5') 420.90158697766594\n",
            "('gate_5', 'general_gate_0') 420.90158697766594\n",
            "('general_gate_0', 'camping_8') 482.84271247462055\n",
            "('camping_8', 'general_gate_0') 482.84271247462055\n",
            "('general_gate_0', 'gate_8') 473.5290039756357\n",
            "('gate_8', 'general_gate_0') 473.5290039756357\n",
            "('general_gate_0', 'entrance_4') 474.11479041326265\n",
            "('entrance_4', 'general_gate_0') 474.11479041326265\n",
            "('entrance_0', 'general_gate_1') 15.242640687119287\n",
            "('general_gate_1', 'entrance_0') 15.242640687119287\n",
            "('entrance_0', 'gate_0') 25.071067811865518\n",
            "('gate_0', 'entrance_0') 25.071067811865518\n",
            "('entrance_0', 'general_gate_4') 157.48023074035515\n",
            "('general_gate_4', 'entrance_0') 157.48023074035515\n",
            "('entrance_0', 'general_gate_7') 319.3746750430845\n",
            "('general_gate_7', 'entrance_0') 319.3746750430845\n",
            "('entrance_0', 'gate_6') 251.29141392239887\n",
            "('gate_6', 'entrance_0') 251.29141392239887\n",
            "('entrance_0', 'gate_7') 373.9432175380085\n",
            "('gate_7', 'entrance_0') 373.9432175380085\n",
            "('entrance_0', 'entrance_3') 265.8772003600258\n",
            "('entrance_3', 'entrance_0') 265.8772003600258\n",
            "('ranger_stop_0', 'general_gate_2') 42.11269837220808\n",
            "('general_gate_2', 'ranger_stop_0') 42.11269837220808\n",
            "('ranger_stop_0', 'ranger_stop_2') 36.62741699796952\n",
            "('ranger_stop_2', 'ranger_stop_0') 36.62741699796952\n",
            "('ranger_stop_1', 'gate_2') 66.74011537017756\n",
            "('gate_2', 'ranger_stop_1') 66.74011537017756\n",
            "('general_gate_1', 'gate_0') 12.656854249492422\n",
            "('gate_0', 'general_gate_1') 12.656854249492422\n",
            "('general_gate_1', 'ranger_stop_2') 31.79898987322334\n",
            "('ranger_stop_2', 'general_gate_1') 31.79898987322334\n",
            "('general_gate_1', 'general_gate_4') 145.06601717798205\n",
            "('general_gate_4', 'general_gate_1') 145.06601717798205\n",
            "('general_gate_1', 'general_gate_7') 306.9604614807114\n",
            "('general_gate_7', 'general_gate_1') 306.9604614807114\n",
            "('general_gate_1', 'gate_6') 238.87720036002577\n",
            "('gate_6', 'general_gate_1') 238.87720036002577\n",
            "('general_gate_1', 'gate_7') 361.5290039756354\n",
            "('gate_7', 'general_gate_1') 361.5290039756354\n",
            "('general_gate_1', 'entrance_3') 253.46298679765272\n",
            "('entrance_3', 'general_gate_1') 253.46298679765272\n",
            "('general_gate_2', 'camping_1') 236.42135623730985\n",
            "('camping_1', 'general_gate_2') 236.42135623730985\n",
            "('general_gate_2', 'camping_2') 159.43860018001263\n",
            "('camping_2', 'general_gate_2') 159.43860018001263\n",
            "('general_gate_2', 'general_gate_3') 252.07821048680228\n",
            "('general_gate_3', 'general_gate_2') 252.07821048680228\n",
            "('general_gate_2', 'gate_3') 177.237590053236\n",
            "('gate_3', 'general_gate_2') 177.237590053236\n",
            "('general_gate_2', 'entrance_2') 231.2792206135788\n",
            "('entrance_2', 'general_gate_2') 231.2792206135788\n",
            "('general_gate_2', 'general_gate_5') 125.98275605729685\n",
            "('general_gate_5', 'general_gate_2') 125.98275605729685\n",
            "('general_gate_2', 'gate_4') 289.22034611053346\n",
            "('gate_4', 'general_gate_2') 289.22034611053346\n",
            "('general_gate_2', 'general_gate_6') 367.9604614807114\n",
            "('general_gate_6', 'general_gate_2') 367.9604614807114\n",
            "('general_gate_2', 'gate_5') 377.6173157302038\n",
            "('gate_5', 'general_gate_2') 377.6173157302038\n",
            "('general_gate_2', 'camping_8') 439.5584412271584\n",
            "('camping_8', 'general_gate_2') 439.5584412271584\n",
            "('general_gate_2', 'gate_8') 430.2447327281736\n",
            "('gate_8', 'general_gate_2') 430.2447327281736\n",
            "('general_gate_2', 'entrance_4') 430.8305191658005\n",
            "('entrance_4', 'general_gate_2') 430.8305191658005\n",
            "('gate_0', 'gate_1') 20.142135623730947\n",
            "('gate_1', 'gate_0') 20.142135623730947\n",
            "('gate_0', 'general_gate_4') 134.40916292848962\n",
            "('general_gate_4', 'gate_0') 134.40916292848962\n",
            "('gate_0', 'general_gate_7') 296.30360723121896\n",
            "('general_gate_7', 'gate_0') 296.30360723121896\n",
            "('gate_0', 'gate_6') 228.22034611053334\n",
            "('gate_6', 'gate_0') 228.22034611053334\n",
            "('gate_0', 'gate_7') 350.872149726143\n",
            "('gate_7', 'gate_0') 350.872149726143\n",
            "('gate_0', 'entrance_3') 242.8061325481603\n",
            "('entrance_3', 'gate_0') 242.8061325481603\n",
            "('camping_0', 'gate_1') 10.65685424949238\n",
            "('gate_1', 'camping_0') 10.65685424949238\n",
            "('camping_0', 'gate_2') 217.32085117392157\n",
            "('gate_2', 'camping_0') 217.32085117392157\n",
            "('camping_0', 'camping_3') 259.6051224213837\n",
            "('camping_3', 'camping_0') 259.6051224213837\n",
            "('camping_0', 'entrance_1') 200.4213562373098\n",
            "('entrance_1', 'camping_0') 200.4213562373098\n",
            "('camping_0', 'camping_4') 107.61017305526633\n",
            "('camping_4', 'camping_0') 107.61017305526633\n",
            "('camping_0', 'camping_5') 116.4386001800125\n",
            "('camping_5', 'camping_0') 116.4386001800125\n",
            "('camping_0', 'general_gate_7') 230.39191898578713\n",
            "('general_gate_7', 'camping_0') 230.39191898578713\n",
            "('gate_1', 'gate_2') 208.66399692442914\n",
            "('gate_2', 'gate_1') 208.66399692442914\n",
            "('gate_1', 'camping_3') 250.9482681718913\n",
            "('camping_3', 'gate_1') 250.9482681718913\n",
            "('gate_1', 'entrance_1') 191.76450198781737\n",
            "('entrance_1', 'gate_1') 191.76450198781737\n",
            "('gate_1', 'camping_4') 98.95331880577396\n",
            "('camping_4', 'gate_1') 98.95331880577396\n",
            "('gate_1', 'camping_5') 107.78174593052013\n",
            "('camping_5', 'gate_1') 107.78174593052013\n",
            "('gate_1', 'general_gate_7') 221.7350647362947\n",
            "('general_gate_7', 'gate_1') 221.7350647362947\n",
            "('ranger_stop_3', 'gate_3') 16.82842712474619\n",
            "('gate_3', 'ranger_stop_3') 16.82842712474619\n",
            "('camping_1', 'camping_2') 200.86500705120574\n",
            "('camping_2', 'camping_1') 200.86500705120574\n",
            "('camping_1', 'general_gate_3') 281.84776310850305\n",
            "('general_gate_3', 'camping_1') 281.84776310850305\n",
            "('camping_1', 'gate_3') 63.183766184073534\n",
            "('gate_3', 'camping_1') 63.183766184073534\n",
            "('camping_1', 'entrance_2') 261.04877323527955\n",
            "('entrance_2', 'camping_1') 261.04877323527955\n",
            "('camping_1', 'general_gate_5') 155.75230867899745\n",
            "('general_gate_5', 'camping_1') 155.75230867899745\n",
            "('camping_1', 'gate_4') 318.9898987322342\n",
            "('gate_4', 'camping_1') 318.9898987322342\n",
            "('camping_1', 'general_gate_6') 397.73001410241216\n",
            "('general_gate_6', 'camping_1') 397.73001410241216\n",
            "('camping_1', 'gate_5') 407.3868683519046\n",
            "('gate_5', 'camping_1') 407.3868683519046\n",
            "('camping_1', 'camping_8') 469.3279938488592\n",
            "('camping_8', 'camping_1') 469.3279938488592\n",
            "('camping_1', 'gate_8') 460.01428534987434\n",
            "('gate_8', 'camping_1') 460.01428534987434\n",
            "('camping_1', 'entrance_4') 460.6000717875013\n",
            "('entrance_4', 'camping_1') 460.6000717875013\n",
            "('camping_2', 'general_gate_3') 216.5218613006981\n",
            "('general_gate_3', 'camping_2') 216.5218613006981\n",
            "('camping_2', 'gate_3') 141.6812408671319\n",
            "('gate_3', 'camping_2') 141.6812408671319\n",
            "('camping_2', 'entrance_2') 195.72287142747462\n",
            "('entrance_2', 'camping_2') 195.72287142747462\n",
            "('camping_2', 'general_gate_5') 90.42640687119285\n",
            "('general_gate_5', 'camping_2') 90.42640687119285\n",
            "('camping_2', 'gate_4') 253.66399692442928\n",
            "('gate_4', 'camping_2') 253.66399692442928\n",
            "('camping_2', 'general_gate_6') 332.4041122946072\n",
            "('general_gate_6', 'camping_2') 332.4041122946072\n",
            "('camping_2', 'gate_5') 342.06096654409964\n",
            "('gate_5', 'camping_2') 342.06096654409964\n",
            "('camping_2', 'camping_8') 404.00209204105425\n",
            "('camping_8', 'camping_2') 404.00209204105425\n",
            "('camping_2', 'gate_8') 394.6883835420694\n",
            "('gate_8', 'camping_2') 394.6883835420694\n",
            "('camping_2', 'entrance_4') 395.27416997969635\n",
            "('entrance_4', 'camping_2') 395.27416997969635\n",
            "('gate_2', 'camping_3') 44.284271247461895\n",
            "('camping_3', 'gate_2') 44.284271247461895\n",
            "('gate_2', 'entrance_1') 29.38477631085025\n",
            "('entrance_1', 'gate_2') 29.38477631085025\n",
            "('gate_2', 'camping_4') 160.13708498984766\n",
            "('camping_4', 'gate_2') 160.13708498984766\n",
            "('gate_2', 'camping_5') 108.53910524340085\n",
            "('camping_5', 'gate_2') 108.53910524340085\n",
            "('gate_2', 'general_gate_7') 180.2081528017133\n",
            "('general_gate_7', 'gate_2') 180.2081528017133\n",
            "('general_gate_3', 'gate_3') 222.66399692442923\n",
            "('gate_3', 'general_gate_3') 222.66399692442923\n",
            "('general_gate_3', 'entrance_2') 72.25483399593891\n",
            "('entrance_2', 'general_gate_3') 72.25483399593891\n",
            "('general_gate_3', 'general_gate_5') 147.75230867899737\n",
            "('general_gate_5', 'general_gate_3') 147.75230867899737\n",
            "('general_gate_3', 'gate_4') 130.19595949289322\n",
            "('gate_4', 'general_gate_3') 130.19595949289322\n",
            "('general_gate_3', 'general_gate_6') 208.9360748630712\n",
            "('general_gate_6', 'general_gate_3') 208.9360748630712\n",
            "('general_gate_3', 'gate_5') 218.59292911256364\n",
            "('gate_5', 'general_gate_3') 218.59292911256364\n",
            "('general_gate_3', 'camping_8') 280.53405460951825\n",
            "('camping_8', 'general_gate_3') 280.53405460951825\n",
            "('general_gate_3', 'gate_8') 271.2203461105334\n",
            "('gate_8', 'general_gate_3') 271.2203461105334\n",
            "('general_gate_3', 'entrance_4') 271.80613254816035\n",
            "('entrance_4', 'general_gate_3') 271.80613254816035\n",
            "('gate_3', 'entrance_2') 201.86500705120568\n",
            "('entrance_2', 'gate_3') 201.86500705120568\n",
            "('gate_3', 'general_gate_5') 96.56854249492378\n",
            "('general_gate_5', 'gate_3') 96.56854249492378\n",
            "('gate_3', 'gate_4') 259.80613254816035\n",
            "('gate_4', 'gate_3') 259.80613254816035\n",
            "('gate_3', 'general_gate_6') 338.5462479183383\n",
            "('general_gate_6', 'gate_3') 338.5462479183383\n",
            "('gate_3', 'gate_5') 348.2031021678307\n",
            "('gate_5', 'gate_3') 348.2031021678307\n",
            "('gate_3', 'camping_8') 410.1442276647853\n",
            "('camping_8', 'gate_3') 410.1442276647853\n",
            "('gate_3', 'gate_8') 400.83051916580047\n",
            "('gate_8', 'gate_3') 400.83051916580047\n",
            "('gate_3', 'entrance_4') 401.4163056034274\n",
            "('entrance_4', 'gate_3') 401.4163056034274\n",
            "('camping_3', 'entrance_1') 71.6690475583121\n",
            "('entrance_1', 'camping_3') 71.6690475583121\n",
            "('camping_3', 'camping_4') 202.4213562373098\n",
            "('camping_4', 'camping_3') 202.4213562373098\n",
            "('camping_3', 'camping_5') 150.82337649086287\n",
            "('camping_5', 'camping_3') 150.82337649086287\n",
            "('camping_3', 'general_gate_7') 222.49242404917544\n",
            "('general_gate_7', 'camping_3') 222.49242404917544\n",
            "('entrance_1', 'camping_4') 143.23759005323592\n",
            "('camping_4', 'entrance_1') 143.23759005323592\n",
            "('entrance_1', 'camping_5') 91.63961030678921\n",
            "('camping_5', 'entrance_1') 91.63961030678921\n",
            "('entrance_1', 'general_gate_7') 163.30865786510157\n",
            "('general_gate_7', 'entrance_1') 163.30865786510157\n",
            "('camping_4', 'camping_5') 59.25483399593901\n",
            "('camping_5', 'camping_4') 59.25483399593901\n",
            "('camping_4', 'general_gate_7') 173.20815280171325\n",
            "('general_gate_7', 'camping_4') 173.20815280171325\n",
            "('entrance_2', 'general_gate_5') 126.95331880577397\n",
            "('general_gate_5', 'entrance_2') 126.95331880577397\n",
            "('entrance_2', 'gate_4') 83.254833995939\n",
            "('gate_4', 'entrance_2') 83.254833995939\n",
            "('entrance_2', 'general_gate_6') 161.99494936611666\n",
            "('general_gate_6', 'entrance_2') 161.99494936611666\n",
            "('entrance_2', 'gate_5') 171.6518036156091\n",
            "('gate_5', 'entrance_2') 171.6518036156091\n",
            "('entrance_2', 'camping_8') 233.5929291125637\n",
            "('camping_8', 'entrance_2') 233.5929291125637\n",
            "('entrance_2', 'gate_8') 224.27922061357887\n",
            "('gate_8', 'entrance_2') 224.27922061357887\n",
            "('entrance_2', 'entrance_4') 224.8650070512058\n",
            "('entrance_4', 'entrance_2') 224.8650070512058\n",
            "('camping_5', 'general_gate_7') 121.61017305526633\n",
            "('general_gate_7', 'camping_5') 121.61017305526633\n",
            "('ranger_stop_4', 'camping_6') 42.21320343559641\n",
            "('camping_6', 'ranger_stop_4') 42.21320343559641\n",
            "('ranger_stop_4', 'general_gate_7') 150.50966799187813\n",
            "('general_gate_7', 'ranger_stop_4') 150.50966799187813\n",
            "('general_gate_4', 'general_gate_7') 266.26197667087615\n",
            "('general_gate_7', 'general_gate_4') 266.26197667087615\n",
            "('general_gate_4', 'gate_6') 142.5807358037435\n",
            "('gate_6', 'general_gate_4') 142.5807358037435\n",
            "('general_gate_4', 'gate_7') 320.8305191658002\n",
            "('gate_7', 'general_gate_4') 320.8305191658002\n",
            "('general_gate_4', 'entrance_3') 157.1665222413705\n",
            "('entrance_3', 'general_gate_4') 157.1665222413705\n",
            "('general_gate_5', 'gate_4') 184.89444430272852\n",
            "('gate_4', 'general_gate_5') 184.89444430272852\n",
            "('general_gate_5', 'general_gate_6') 263.63455967290645\n",
            "('general_gate_6', 'general_gate_5') 263.63455967290645\n",
            "('general_gate_5', 'gate_5') 273.2914139223989\n",
            "('gate_5', 'general_gate_5') 273.2914139223989\n",
            "('general_gate_5', 'camping_8') 335.2325394193535\n",
            "('camping_8', 'general_gate_5') 335.2325394193535\n",
            "('general_gate_5', 'gate_8') 325.91883092036863\n",
            "('gate_8', 'general_gate_5') 325.91883092036863\n",
            "('general_gate_5', 'entrance_4') 326.5046173579956\n",
            "('entrance_4', 'general_gate_5') 326.5046173579956\n",
            "('gate_4', 'ranger_stop_5') 19.899494936611667\n",
            "('ranger_stop_5', 'gate_4') 19.899494936611667\n",
            "('gate_4', 'general_gate_6') 83.56854249492375\n",
            "('general_gate_6', 'gate_4') 83.56854249492375\n",
            "('gate_4', 'gate_5') 93.22539674441612\n",
            "('gate_5', 'gate_4') 93.22539674441612\n",
            "('gate_4', 'camping_8') 155.1665222413705\n",
            "('camping_8', 'gate_4') 155.1665222413705\n",
            "('gate_4', 'gate_8') 145.85281374238568\n",
            "('gate_8', 'gate_4') 145.85281374238568\n",
            "('gate_4', 'entrance_4') 146.4386001800126\n",
            "('entrance_4', 'gate_4') 146.4386001800126\n",
            "('camping_6', 'general_gate_7') 122.78174593052016\n",
            "('general_gate_7', 'camping_6') 122.78174593052016\n",
            "('general_gate_6', 'camping_7') 104.46803743153538\n",
            "('camping_7', 'general_gate_6') 104.46803743153538\n",
            "('general_gate_6', 'gate_5') 17.313708498984756\n",
            "('gate_5', 'general_gate_6') 17.313708498984756\n",
            "('general_gate_6', 'camping_8') 79.25483399593902\n",
            "('camping_8', 'general_gate_6') 79.25483399593902\n",
            "('general_gate_6', 'gate_8') 69.94112549695426\n",
            "('gate_8', 'general_gate_6') 69.94112549695426\n",
            "('general_gate_6', 'entrance_4') 70.52691193458118\n",
            "('entrance_4', 'general_gate_6') 70.52691193458118\n",
            "('general_gate_7', 'gate_6') 160.65180361560903\n",
            "('gate_6', 'general_gate_7') 160.65180361560903\n",
            "('general_gate_7', 'gate_7') 94.71067811865468\n",
            "('gate_7', 'general_gate_7') 94.71067811865468\n",
            "('general_gate_7', 'entrance_3') 175.23759005323603\n",
            "('entrance_3', 'general_gate_7') 175.23759005323603\n",
            "('gate_5', 'ranger_stop_6') 9.82842712474619\n",
            "('ranger_stop_6', 'gate_5') 9.82842712474619\n",
            "('gate_5', 'camping_8') 64.76955262170044\n",
            "('camping_8', 'gate_5') 64.76955262170044\n",
            "('gate_5', 'gate_8') 55.455844122715696\n",
            "('gate_8', 'gate_5') 55.455844122715696\n",
            "('gate_5', 'entrance_4') 56.0416305603426\n",
            "('entrance_4', 'gate_5') 56.0416305603426\n",
            "('ranger_stop_6', 'gate_6') 13.899494936611674\n",
            "('gate_6', 'ranger_stop_6') 13.899494936611674\n",
            "('gate_6', 'gate_7') 215.22034611053311\n",
            "('gate_7', 'gate_6') 215.22034611053311\n",
            "('gate_6', 'entrance_3') 17.4142135623731\n",
            "('entrance_3', 'gate_6') 17.4142135623731\n",
            "('ranger_stop_7', 'gate_7') 13.485281374238586\n",
            "('gate_7', 'ranger_stop_7') 13.485281374238586\n",
            "('gate_7', 'entrance_3') 229.8061325481603\n",
            "('entrance_3', 'gate_7') 229.8061325481603\n",
            "('ranger_base_0', 'gate_8') 20.142135623730955\n",
            "('gate_8', 'ranger_base_0') 20.142135623730955\n",
            "('camping_8', 'gate_8') 26.142135623730958\n",
            "('gate_8', 'camping_8') 26.142135623730958\n",
            "('camping_8', 'entrance_4') 26.727922061357862\n",
            "('entrance_4', 'camping_8') 26.727922061357862\n",
            "('gate_8', 'entrance_4') 5.414213562373095\n",
            "('entrance_4', 'gate_8') 5.414213562373095\n"
          ]
        }
      ]
    },
    {
      "cell_type": "code",
      "source": [],
      "metadata": {
        "id": "tIjjyhd7rtYq"
      },
      "execution_count": null,
      "outputs": []
    }
  ]
}